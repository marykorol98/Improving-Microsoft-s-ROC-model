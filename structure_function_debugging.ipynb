{
 "cells": [
  {
   "cell_type": "code",
   "execution_count": 1,
   "metadata": {},
   "outputs": [],
   "source": [
    "import random"
   ]
  },
  {
   "cell_type": "markdown",
   "metadata": {},
   "source": [
    "## Fuctions:"
   ]
  },
  {
   "cell_type": "code",
   "execution_count": 2,
   "metadata": {},
   "outputs": [],
   "source": [
    "def check(arr, m, a1, a2, mod1, mod2):\n",
    "    n = len(arr)\n",
    "    aL1, aL2 = pow(a1, m, mod1), pow(a2, m, mod2)\n",
    "    h1, h2 = 0, 0\n",
    "    for i in range(m):\n",
    "        h1 = (h1 * a1 + arr[i]) % mod1\n",
    "        h2 = (h2 * a2 + arr[i]) % mod2\n",
    "    seen = dict()\n",
    "    seen[(h1, h2)] = [m - 1] \n",
    "    for start in range(1, n - m + 1):\n",
    "        h1 = (h1 * a1 - arr[start - 1] * aL1 + arr[start + m - 1]) % mod1\n",
    "        h2 = (h2 * a2 - arr[start - 1] * aL2 + arr[start + m - 1]) % mod2\n",
    "        if (h1, h2) in seen:\n",
    "            if min(seen[(h1, h2)]) < start:\n",
    "                print('Found start') \n",
    "                return start\n",
    "            else:\n",
    "                seen[(h1,h2)].append(start + m - 1)\n",
    "        else:\n",
    "            seen[(h1, h2)] = [start + m - 1]\n",
    "        #seen.add((h1, h2))\n",
    "    return -1"
   ]
  },
  {
   "cell_type": "code",
   "execution_count": 4,
   "metadata": {},
   "outputs": [],
   "source": [
    "def longestDupSubstring(arr):\n",
    "\n",
    "    a1, a2 = random.randint(26, 100), random.randint(26, 100)\n",
    "\n",
    "    mod1, mod2 = random.randint(10**9+7, 2**31-1), random.randint(10**9+7, 2**31-1)\n",
    "\n",
    "    n = len(arr)\n",
    "    l, r = 1, n-1\n",
    "    length, start = 0, -1\n",
    "\n",
    "    while l <= r:\n",
    "        m = l + (r - l + 1) // 2\n",
    "        idx = check(arr, m, a1, a2, mod1, mod2)\n",
    "        if idx != -1:\n",
    "            l = m + 1\n",
    "            length = m\n",
    "            start = idx\n",
    "        else:\n",
    "            r = m - 1\n",
    "    return start, length"
   ]
  },
  {
   "cell_type": "code",
   "execution_count": 13,
   "metadata": {},
   "outputs": [],
   "source": [
    "def KMP_search(s,p,parent,init): \n",
    "    def buildNext(p):\n",
    "        nxt = [0]\n",
    "        x = 1\n",
    "        now = 0\n",
    "        while x < len(p):\n",
    "            if p[now] == p[x]:\n",
    "                now += 1\n",
    "                x += 1\n",
    "                nxt.append(now)\n",
    "            elif now:\n",
    "                now = nxt[now - 1]\n",
    "            else:\n",
    "                nxt.append(0)\n",
    "                x += 1\n",
    "        return nxt\n",
    "\n",
    "    tar = 0\n",
    "    pos = 0\n",
    "    nxt = buildNext(p)\n",
    "    is_first = True\n",
    "    while tar < len(s):\n",
    "        if s[tar] == p[pos] and (init or parent[tar] == -1):\n",
    "            tar += 1\n",
    "            pos += 1\n",
    "        elif pos and (init or parent[tar] == -1):\n",
    "            pos = nxt[pos - 1]\n",
    "        else:\n",
    "            tar += 1\n",
    "\n",
    "        if pos == len(p):\n",
    "            if is_first: # first matching\n",
    "                is_first = False\n",
    "                parent_start_idx = tar - pos\n",
    "            else:\n",
    "                parent[tar - pos:tar] = list(range(parent_start_idx,parent_start_idx+pos))\n",
    "            pos = 0  # different from a standard kmp, here substrings are not allowed to overlap. So the pos is not nxt[pos - 1] but 0\n",
    "    return parent"
   ]
  },
  {
   "cell_type": "markdown",
   "metadata": {},
   "source": [
    "Начло отладки"
   ]
  },
  {
   "cell_type": "code",
   "execution_count": 224,
   "metadata": {},
   "outputs": [],
   "source": [
    "lyrics_path = '/home/marykorol/ROC/lyrics.txt'"
   ]
  },
  {
   "cell_type": "code",
   "execution_count": 298,
   "metadata": {},
   "outputs": [
    {
     "data": {
      "text/plain": [
       "\"Take a look in side your heart, is there a ny room for me? [sep] I won't have to hold my breath till you get down on one knee [sep] Be cause you o nly want to hold me when I'm loo king good e nough [sep] Did you e ver feel me? Would you e ver pic ture us? [sep] Eve ry time I pull my hair, well, it's o nly out of fear [sep] That you'll find me ug ly and one day you'll di sap pear, be cause [sep] What's the point of cry ing? [sep] It was ne ver e ven love [sep] Did you e ver want me? [sep] Was I e ver good e nough? [sep] Th─ thе boy's a li ar [sep] The boy's a pla yer [sep] He doe sn't see ya [sep] You're not loo king at me, boy [sep] The boy's a li ar [sep] The boy's a pla yer [sep] He doe sn't see ya [sep] You're not loo king at me, boy [sep] Good e nough, oh, -ough [sep] Good e nough, oh, -ough [sep] Good e nough, oh, -ough [sep] Good e nough, oh, -ough [sep] Good e nough, oh, -ough [sep] Good e nough, oh, -ough [sep] Good e nough, oh, -ough [sep] Good e nough, oh, -ough [sep] Ba by, please [sep] I just want to look nice for you [sep] Come stay with me [sep] Oh, you're not a round so what should I do? [sep] I thought you liked the look of a girl just like me [sep] Ba by, please [sep] I know you want to change me [sep] Can you take a look in side your heart, is there any room for me? [sep] I won't ever have to hold my breath till you get down on one knee be cause [sep] What's the point of cry ing? [sep] It was ne ver e ven love [sep] Did you e ver want me? [sep] Was I e ver good enough? [sep] Th─ the boy's a li ar [sep] The boy's a pla yer [sep] He doe sn't see ya [sep] You're not loo king at me, boy [sep] The boy's a li ar [sep] The boy's a pla yer [sep] He doe sn't see ya [sep] You're not loo king at me, boy [sep] Good e nough, oh, -ough [sep] Good e nough, oh, -ough [sep] Good e nough, oh, -ough [sep] Good e nough, oh, -ough [sep] Good e nough, oh, -ough [sep] Good e nough, oh, -ough [sep] Good e nough, oh, -ough [sep] Good e nough, oh, -ough\""
      ]
     },
     "execution_count": 298,
     "metadata": {},
     "output_type": "execute_result"
    }
   ],
   "source": [
    "with open(lyrics_path) as lyrics_file:\n",
    "    lyrics = lyrics_file.readlines()[1]\n",
    "\n",
    "lyrics"
   ]
  },
  {
   "cell_type": "code",
   "execution_count": 299,
   "metadata": {},
   "outputs": [
    {
     "name": "stdout",
     "output_type": "stream",
     "text": [
      "['Take a look in side your heart, is there a ny room for me? ', \" I won't have to hold my breath till you get down on one knee \", \" Be cause you o nly want to hold me when I'm loo king good e nough \", ' Did you e ver feel me? Would you e ver pic ture us? ', \" Eve ry time I pull my hair, well, it's o nly out of fear \"]\n"
     ]
    },
    {
     "data": {
      "text/plain": [
       "['______________',\n",
       " '______________',\n",
       " '________________',\n",
       " '_____________',\n",
       " '______________']"
      ]
     },
     "execution_count": 299,
     "metadata": {},
     "output_type": "execute_result"
    }
   ],
   "source": [
    "sentence = lyrics.strip().split('[sep]')\n",
    "name = sentence\n",
    "print(sentence[:5])\n",
    "sentence = [len(x.strip().split(' ')) * '_' for x in sentence] # parsing the syllables\n",
    "\n",
    "sentence[:5]"
   ]
  },
  {
   "cell_type": "markdown",
   "metadata": {},
   "source": [
    "Каждая чётрочка - это слог"
   ]
  },
  {
   "cell_type": "code",
   "execution_count": 300,
   "metadata": {},
   "outputs": [
    {
     "name": "stdout",
     "output_type": "stream",
     "text": [
      "Numbers of syllables in each line:  14 14 16 13 14 15 6 7 6 7 6 5 5 7 5 5 5 7 5 5 5 5 5 5 5 5 3 8 4 10 12 3 7 15 17 6 7 6 6 6 5 5 7 5 5 5 7 5 5 5 5 5 5 5 5\n",
      "Initializing the structure line:  -1 -1 -1 -1 -1 -1 -1 -1 -1 -1 -1 -1 -1 -1 -1 -1 -1 -1 -1 -1 -1 -1 -1 -1 -1 -1 -1 -1 -1 -1 -1 -1 -1 -1 -1 -1 -1 -1 -1 -1 -1 -1 -1 -1 -1 -1 -1 -1 -1 -1 -1 -1 -1 -1 -1\n"
     ]
    }
   ],
   "source": [
    "all_words = word_counter = [len(i) for i in sentence]\n",
    "print(\"Numbers of syllables in each line: \", *all_words)\n",
    "parent = [-1] * len(word_counter)\n",
    "print(\"Initializing the structure line: \", *parent)"
   ]
  },
  {
   "cell_type": "code",
   "execution_count": 301,
   "metadata": {},
   "outputs": [
    {
     "data": {
      "text/plain": [
       "55"
      ]
     },
     "execution_count": 301,
     "metadata": {},
     "output_type": "execute_result"
    }
   ],
   "source": [
    "len(word_counter)"
   ]
  },
  {
   "cell_type": "code",
   "execution_count": 302,
   "metadata": {},
   "outputs": [],
   "source": [
    "init = 0\n",
    "chorus_start = -1\n",
    "chorus_length = -1"
   ]
  },
  {
   "cell_type": "code",
   "execution_count": 303,
   "metadata": {},
   "outputs": [],
   "source": [
    "iteration = 0"
   ]
  },
  {
   "cell_type": "markdown",
   "metadata": {},
   "source": [
    "## Цикл While True"
   ]
  },
  {
   "cell_type": "markdown",
   "metadata": {},
   "source": [
    "### i."
   ]
  },
  {
   "cell_type": "code",
   "execution_count": 343,
   "metadata": {},
   "outputs": [
    {
     "name": "stdout",
     "output_type": "stream",
     "text": [
      "Iteration  4\n"
     ]
    }
   ],
   "source": [
    "print('Iteration ', iteration)"
   ]
  },
  {
   "cell_type": "code",
   "execution_count": 344,
   "metadata": {},
   "outputs": [
    {
     "name": "stdout",
     "output_type": "stream",
     "text": [
      "Found start\n",
      "Start:  8 Length:  2\n"
     ]
    }
   ],
   "source": [
    "start, length = longestDupSubstring(word_counter)\n",
    "print('Start: ', start, 'Length: ', length)"
   ]
  },
  {
   "cell_type": "code",
   "execution_count": 345,
   "metadata": {},
   "outputs": [
    {
     "name": "stdout",
     "output_type": "stream",
     "text": [
      "No\n"
     ]
    }
   ],
   "source": [
    "if chorus_length >= len(parent) * 0.4 and init == 1:\n",
    "    chorus_start = start\n",
    "    chorus_length = length\n",
    "    print(chorus_start, chorus_length)\n",
    "    init += 1\n",
    "else:\n",
    "    print('No')"
   ]
  },
  {
   "cell_type": "code",
   "execution_count": 346,
   "metadata": {},
   "outputs": [
    {
     "name": "stdout",
     "output_type": "stream",
     "text": [
      "No\n"
     ]
    }
   ],
   "source": [
    "if init == 0:\n",
    "    chorus_start = start\n",
    "    chorus_length = length\n",
    "    init += 1\n",
    "else:\n",
    "    print('No')"
   ]
  },
  {
   "cell_type": "code",
   "execution_count": 358,
   "metadata": {},
   "outputs": [
    {
     "name": "stdout",
     "output_type": "stream",
     "text": [
      "39\n",
      "16\n"
     ]
    },
    {
     "data": {
      "text/plain": [
       "1"
      ]
     },
     "execution_count": 358,
     "metadata": {},
     "output_type": "execute_result"
    }
   ],
   "source": [
    "print(chorus_start)\n",
    "print(chorus_length)\n",
    "init"
   ]
  },
  {
   "cell_type": "code",
   "execution_count": 348,
   "metadata": {},
   "outputs": [
    {
     "name": "stdout",
     "output_type": "stream",
     "text": [
      "break\n"
     ]
    }
   ],
   "source": [
    "if start < 0 or length < 3:\n",
    "    print('break')\n",
    "else:\n",
    "    print('No')"
   ]
  },
  {
   "cell_type": "markdown",
   "metadata": {},
   "source": [
    "Если break, то выход из цикла"
   ]
  },
  {
   "cell_type": "code",
   "execution_count": 339,
   "metadata": {},
   "outputs": [
    {
     "name": "stdout",
     "output_type": "stream",
     "text": [
      "23  -  26\n"
     ]
    },
    {
     "data": {
      "text/plain": [
       "[6, 7, 6]"
      ]
     },
     "execution_count": 339,
     "metadata": {},
     "output_type": "execute_result"
    }
   ],
   "source": [
    "p = word_counter[start:start + length]\n",
    "print(start, ' - ', start + length)\n",
    "p"
   ]
  },
  {
   "cell_type": "code",
   "execution_count": 340,
   "metadata": {},
   "outputs": [
    {
     "name": "stdout",
     "output_type": "stream",
     "text": [
      "-1 -1 -1 -1 -1 -1 -1 -1 -1 -1 -1 -1 -1 -1 -1 11 12 13 14 -1 -1 -1 18 19 20 21 -1 -1 -1 -1 -1 -1 -1 -1 -1 6 7 8 -1 10 11 12 13 14 11 12 13 18 19 20 21 18 19 20 21\n"
     ]
    }
   ],
   "source": [
    "parent = KMP_search(all_words, p, parent, init)\n",
    "print(*parent)"
   ]
  },
  {
   "cell_type": "code",
   "execution_count": 341,
   "metadata": {},
   "outputs": [
    {
     "name": "stdout",
     "output_type": "stream",
     "text": [
      "14 14 16 13 14 15 6 7 6 7 6 5 5 7 5 3 7 15 6\n"
     ]
    }
   ],
   "source": [
    "tmp = list()\n",
    "for i in range(len(word_counter)):\n",
    "    if parent[i] == -1:\n",
    "        tmp.append(word_counter[i])\n",
    "\n",
    "print(*tmp)"
   ]
  },
  {
   "cell_type": "code",
   "execution_count": 342,
   "metadata": {},
   "outputs": [],
   "source": [
    "word_counter = tmp\n",
    "iteration+=1"
   ]
  },
  {
   "cell_type": "code",
   "execution_count": 297,
   "metadata": {},
   "outputs": [
    {
     "name": "stdout",
     "output_type": "stream",
     "text": [
      "Found start\n",
      "Found start\n",
      "Iteration  0 :\n",
      "Start:  15 Length:  4\n",
      "Found start\n",
      "Found start\n",
      "Iteration  39 :\n",
      "Start:  18 Length:  4\n",
      "Found start\n",
      "Found start\n",
      "Iteration  35 :\n",
      "Start:  23 Length:  3\n",
      "Found start\n",
      "Iteration  27 :\n",
      "Start:  8 Length:  2\n"
     ]
    }
   ],
   "source": [
    "i = 0\n",
    "while True:\n",
    "    start, length = longestDupSubstring(word_counter)\n",
    "    print('Iteration ', i, ':')\n",
    "    print('Start: ', start, 'Length: ', length)\n",
    "    if chorus_length >= len(parent) * 0.4 and init == 1:\n",
    "        chorus_start = start\n",
    "        chorus_length = length\n",
    "        print(chorus_start, chorus_length)\n",
    "        init += 1\n",
    "\n",
    "    if init == 0:\n",
    "        chorus_start = start\n",
    "        chorus_length = length\n",
    "        init += 1\n",
    "        \n",
    "    if start < 0 or length < 3:\n",
    "        break\n",
    "\n",
    "    p = word_counter[start:start + length]\n",
    "    parent = KMP_search(all_words, p, parent, init)\n",
    "\n",
    "    tmp = list()\n",
    "    for i in range(len(word_counter)):\n",
    "        if parent[i] == -1:\n",
    "            tmp.append(word_counter[i])\n",
    "\n",
    "    word_counter = tmp\n",
    "    i+=1\n",
    "    # start, length = longestDupSubstring(word_counter)"
   ]
  },
  {
   "cell_type": "markdown",
   "metadata": {},
   "source": [
    "### ii"
   ]
  },
  {
   "cell_type": "markdown",
   "metadata": {},
   "source": [
    "## Продолжение кода"
   ]
  },
  {
   "cell_type": "code",
   "execution_count": 352,
   "metadata": {},
   "outputs": [
    {
     "name": "stdout",
     "output_type": "stream",
     "text": [
      "for test: [-1, -1, -1, -1, -1, -1, -1, -1, -1, -1, -1, -1, -1, -1, -1, 11, 12, 13, 14, -1, -1, -1, 18, 19, 20, 21, -1, -1, -1, -1, -1, -1, -1, -1, -1, 6, 7, 8, -1, 10, 11, 12, 13, 14, 11, 12, 13, 18, 19, 20, 21, 18, 19, 20, 21]\n",
      "length: 55\n"
     ]
    }
   ],
   "source": [
    "print('for test:',parent)\n",
    "print('length:',len(parent))"
   ]
  },
  {
   "cell_type": "code",
   "execution_count": 353,
   "metadata": {},
   "outputs": [
    {
     "name": "stdout",
     "output_type": "stream",
     "text": [
      "14 14 16 13 14 15 6 7 6 7 6 5 5 7 5 5 5 7 5 5 5 5 5 5 5 5 3 8 4 10 12 3 7 15 17 6 7 6 6 6 5 5 7 5 5 5 7 5 5 5 5 5 5 5 5\n"
     ]
    }
   ],
   "source": [
    "print(*all_words)"
   ]
  },
  {
   "cell_type": "code",
   "execution_count": 354,
   "metadata": {},
   "outputs": [
    {
     "name": "stdout",
     "output_type": "stream",
     "text": [
      "Line  1\n",
      "Одинаковые длины друг за другом\n",
      "Приравняем элемент struct к -2\n",
      "Текущий struct выглядит так: -1 -2 -1 -1 -1 -1 -1 -1 -1 -1 -1 -1 -1 -1 -1 11 12 13 14 -1 -1 -1 18 19 20 21 -1 -1 -1 -1 -1 -1 -1 -1 -1 6 7 8 -1 10 11 12 13 14 11 12 13 18 19 20 21 18 19 20 21\n",
      "Line  2\n",
      "Текущий struct выглядит так: -1 -2 -1 -1 -1 -1 -1 -1 -1 -1 -1 -1 -1 -1 -1 11 12 13 14 -1 -1 -1 18 19 20 21 -1 -1 -1 -1 -1 -1 -1 -1 -1 6 7 8 -1 10 11 12 13 14 11 12 13 18 19 20 21 18 19 20 21\n",
      "Line  3\n",
      "Текущий struct выглядит так: -1 -2 -1 -1 -1 -1 -1 -1 -1 -1 -1 -1 -1 -1 -1 11 12 13 14 -1 -1 -1 18 19 20 21 -1 -1 -1 -1 -1 -1 -1 -1 -1 6 7 8 -1 10 11 12 13 14 11 12 13 18 19 20 21 18 19 20 21\n",
      "Line  4\n",
      "Текущий struct выглядит так: -1 -2 -1 -1 -1 -1 -1 -1 -1 -1 -1 -1 -1 -1 -1 11 12 13 14 -1 -1 -1 18 19 20 21 -1 -1 -1 -1 -1 -1 -1 -1 -1 6 7 8 -1 10 11 12 13 14 11 12 13 18 19 20 21 18 19 20 21\n",
      "Line  5\n",
      "Текущий struct выглядит так: -1 -2 -1 -1 -1 -1 -1 -1 -1 -1 -1 -1 -1 -1 -1 11 12 13 14 -1 -1 -1 18 19 20 21 -1 -1 -1 -1 -1 -1 -1 -1 -1 6 7 8 -1 10 11 12 13 14 11 12 13 18 19 20 21 18 19 20 21\n",
      "Line  6\n",
      "Текущий struct выглядит так: -1 -2 -1 -1 -1 -1 -1 -1 -1 -1 -1 -1 -1 -1 -1 11 12 13 14 -1 -1 -1 18 19 20 21 -1 -1 -1 -1 -1 -1 -1 -1 -1 6 7 8 -1 10 11 12 13 14 11 12 13 18 19 20 21 18 19 20 21\n",
      "Line  7\n",
      "Текущий struct выглядит так: -1 -2 -1 -1 -1 -1 -1 -1 -1 -1 -1 -1 -1 -1 -1 11 12 13 14 -1 -1 -1 18 19 20 21 -1 -1 -1 -1 -1 -1 -1 -1 -1 6 7 8 -1 10 11 12 13 14 11 12 13 18 19 20 21 18 19 20 21\n",
      "Line  8\n",
      "Текущий struct выглядит так: -1 -2 -1 -1 -1 -1 -1 -1 -1 -1 -1 -1 -1 -1 -1 11 12 13 14 -1 -1 -1 18 19 20 21 -1 -1 -1 -1 -1 -1 -1 -1 -1 6 7 8 -1 10 11 12 13 14 11 12 13 18 19 20 21 18 19 20 21\n",
      "Line  9\n",
      "Текущий struct выглядит так: -1 -2 -1 -1 -1 -1 -1 -1 -1 -1 -1 -1 -1 -1 -1 11 12 13 14 -1 -1 -1 18 19 20 21 -1 -1 -1 -1 -1 -1 -1 -1 -1 6 7 8 -1 10 11 12 13 14 11 12 13 18 19 20 21 18 19 20 21\n",
      "Line  10\n",
      "Текущий struct выглядит так: -1 -2 -1 -1 -1 -1 -1 -1 -1 -1 -1 -1 -1 -1 -1 11 12 13 14 -1 -1 -1 18 19 20 21 -1 -1 -1 -1 -1 -1 -1 -1 -1 6 7 8 -1 10 11 12 13 14 11 12 13 18 19 20 21 18 19 20 21\n",
      "Line  11\n",
      "Текущий struct выглядит так: -1 -2 -1 -1 -1 -1 -1 -1 -1 -1 -1 -1 -1 -1 -1 11 12 13 14 -1 -1 -1 18 19 20 21 -1 -1 -1 -1 -1 -1 -1 -1 -1 6 7 8 -1 10 11 12 13 14 11 12 13 18 19 20 21 18 19 20 21\n",
      "Line  12\n",
      "Одинаковые длины друг за другом\n",
      "Приравняем элемент struct к -2\n",
      "Текущий struct выглядит так: -1 -2 -1 -1 -1 -1 -1 -1 -1 -1 -1 -1 -2 -1 -1 11 12 13 14 -1 -1 -1 18 19 20 21 -1 -1 -1 -1 -1 -1 -1 -1 -1 6 7 8 -1 10 11 12 13 14 11 12 13 18 19 20 21 18 19 20 21\n",
      "Line  13\n",
      "Текущий struct выглядит так: -1 -2 -1 -1 -1 -1 -1 -1 -1 -1 -1 -1 -2 -1 -1 11 12 13 14 -1 -1 -1 18 19 20 21 -1 -1 -1 -1 -1 -1 -1 -1 -1 6 7 8 -1 10 11 12 13 14 11 12 13 18 19 20 21 18 19 20 21\n",
      "Line  14\n",
      "Текущий struct выглядит так: -1 -2 -1 -1 -1 -1 -1 -1 -1 -1 -1 -1 -2 -1 -1 11 12 13 14 -1 -1 -1 18 19 20 21 -1 -1 -1 -1 -1 -1 -1 -1 -1 6 7 8 -1 10 11 12 13 14 11 12 13 18 19 20 21 18 19 20 21\n",
      "Line  15\n",
      "Текущий struct выглядит так: -1 -2 -1 -1 -1 -1 -1 -1 -1 -1 -1 -1 -2 -1 -1 11 12 13 14 -1 -1 -1 18 19 20 21 -1 -1 -1 -1 -1 -1 -1 -1 -1 6 7 8 -1 10 11 12 13 14 11 12 13 18 19 20 21 18 19 20 21\n",
      "Line  16\n",
      "Текущий struct выглядит так: -1 -2 -1 -1 -1 -1 -1 -1 -1 -1 -1 -1 -2 -1 -1 11 12 13 14 -1 -1 -1 18 19 20 21 -1 -1 -1 -1 -1 -1 -1 -1 -1 6 7 8 -1 10 11 12 13 14 11 12 13 18 19 20 21 18 19 20 21\n",
      "Line  17\n",
      "Текущий struct выглядит так: -1 -2 -1 -1 -1 -1 -1 -1 -1 -1 -1 -1 -2 -1 -1 11 12 13 14 -1 -1 -1 18 19 20 21 -1 -1 -1 -1 -1 -1 -1 -1 -1 6 7 8 -1 10 11 12 13 14 11 12 13 18 19 20 21 18 19 20 21\n",
      "Line  18\n",
      "Текущий struct выглядит так: -1 -2 -1 -1 -1 -1 -1 -1 -1 -1 -1 -1 -2 -1 -1 11 12 13 14 -1 -1 -1 18 19 20 21 -1 -1 -1 -1 -1 -1 -1 -1 -1 6 7 8 -1 10 11 12 13 14 11 12 13 18 19 20 21 18 19 20 21\n",
      "Line  19\n",
      "Одинаковые длины друг за другом\n",
      "Приравняем элемент struct к -2\n",
      "Текущий struct выглядит так: -1 -2 -1 -1 -1 -1 -1 -1 -1 -1 -1 -1 -2 -1 -1 11 12 13 14 -2 -1 -1 18 19 20 21 -1 -1 -1 -1 -1 -1 -1 -1 -1 6 7 8 -1 10 11 12 13 14 11 12 13 18 19 20 21 18 19 20 21\n",
      "Line  20\n",
      "Одинаковые длины друг за другом\n",
      "Приравняем элемент struct к -2\n",
      "Предыдущий элемент struct равен -2\n",
      "Прирвняем предыдущий элемент struct к  18\n",
      "Текущий struct выглядит так: -1 -2 -1 -1 -1 -1 -1 -1 -1 -1 -1 -1 -2 -1 -1 11 12 13 14 18 -2 -1 18 19 20 21 -1 -1 -1 -1 -1 -1 -1 -1 -1 6 7 8 -1 10 11 12 13 14 11 12 13 18 19 20 21 18 19 20 21\n",
      "Line  21\n",
      "Одинаковые длины друг за другом\n",
      "Приравняем элемент struct к -2\n",
      "Предыдущий элемент struct равен -2\n",
      "Прирвняем предыдущий элемент struct к  19\n",
      "Текущий struct выглядит так: -1 -2 -1 -1 -1 -1 -1 -1 -1 -1 -1 -1 -2 -1 -1 11 12 13 14 18 19 -2 18 19 20 21 -1 -1 -1 -1 -1 -1 -1 -1 -1 6 7 8 -1 10 11 12 13 14 11 12 13 18 19 20 21 18 19 20 21\n",
      "Line  22\n",
      "Текущий struct выглядит так: -1 -2 -1 -1 -1 -1 -1 -1 -1 -1 -1 -1 -2 -1 -1 11 12 13 14 18 19 -2 18 19 20 21 -1 -1 -1 -1 -1 -1 -1 -1 -1 6 7 8 -1 10 11 12 13 14 11 12 13 18 19 20 21 18 19 20 21\n",
      "Line  23\n",
      "Текущий struct выглядит так: -1 -2 -1 -1 -1 -1 -1 -1 -1 -1 -1 -1 -2 -1 -1 11 12 13 14 18 19 -2 18 19 20 21 -1 -1 -1 -1 -1 -1 -1 -1 -1 6 7 8 -1 10 11 12 13 14 11 12 13 18 19 20 21 18 19 20 21\n",
      "Line  24\n",
      "Текущий struct выглядит так: -1 -2 -1 -1 -1 -1 -1 -1 -1 -1 -1 -1 -2 -1 -1 11 12 13 14 18 19 -2 18 19 20 21 -1 -1 -1 -1 -1 -1 -1 -1 -1 6 7 8 -1 10 11 12 13 14 11 12 13 18 19 20 21 18 19 20 21\n",
      "Line  25\n",
      "Текущий struct выглядит так: -1 -2 -1 -1 -1 -1 -1 -1 -1 -1 -1 -1 -2 -1 -1 11 12 13 14 18 19 -2 18 19 20 21 -1 -1 -1 -1 -1 -1 -1 -1 -1 6 7 8 -1 10 11 12 13 14 11 12 13 18 19 20 21 18 19 20 21\n",
      "Line  26\n",
      "Текущий struct выглядит так: -1 -2 -1 -1 -1 -1 -1 -1 -1 -1 -1 -1 -2 -1 -1 11 12 13 14 18 19 -2 18 19 20 21 -1 -1 -1 -1 -1 -1 -1 -1 -1 6 7 8 -1 10 11 12 13 14 11 12 13 18 19 20 21 18 19 20 21\n",
      "Line  27\n",
      "Текущий struct выглядит так: -1 -2 -1 -1 -1 -1 -1 -1 -1 -1 -1 -1 -2 -1 -1 11 12 13 14 18 19 -2 18 19 20 21 -1 -1 -1 -1 -1 -1 -1 -1 -1 6 7 8 -1 10 11 12 13 14 11 12 13 18 19 20 21 18 19 20 21\n",
      "Line  28\n",
      "Текущий struct выглядит так: -1 -2 -1 -1 -1 -1 -1 -1 -1 -1 -1 -1 -2 -1 -1 11 12 13 14 18 19 -2 18 19 20 21 -1 -1 -1 -1 -1 -1 -1 -1 -1 6 7 8 -1 10 11 12 13 14 11 12 13 18 19 20 21 18 19 20 21\n",
      "Line  29\n",
      "Текущий struct выглядит так: -1 -2 -1 -1 -1 -1 -1 -1 -1 -1 -1 -1 -2 -1 -1 11 12 13 14 18 19 -2 18 19 20 21 -1 -1 -1 -1 -1 -1 -1 -1 -1 6 7 8 -1 10 11 12 13 14 11 12 13 18 19 20 21 18 19 20 21\n",
      "Line  30\n",
      "Текущий struct выглядит так: -1 -2 -1 -1 -1 -1 -1 -1 -1 -1 -1 -1 -2 -1 -1 11 12 13 14 18 19 -2 18 19 20 21 -1 -1 -1 -1 -1 -1 -1 -1 -1 6 7 8 -1 10 11 12 13 14 11 12 13 18 19 20 21 18 19 20 21\n",
      "Line  31\n",
      "Текущий struct выглядит так: -1 -2 -1 -1 -1 -1 -1 -1 -1 -1 -1 -1 -2 -1 -1 11 12 13 14 18 19 -2 18 19 20 21 -1 -1 -1 -1 -1 -1 -1 -1 -1 6 7 8 -1 10 11 12 13 14 11 12 13 18 19 20 21 18 19 20 21\n",
      "Line  32\n",
      "Текущий struct выглядит так: -1 -2 -1 -1 -1 -1 -1 -1 -1 -1 -1 -1 -2 -1 -1 11 12 13 14 18 19 -2 18 19 20 21 -1 -1 -1 -1 -1 -1 -1 -1 -1 6 7 8 -1 10 11 12 13 14 11 12 13 18 19 20 21 18 19 20 21\n",
      "Line  33\n",
      "Текущий struct выглядит так: -1 -2 -1 -1 -1 -1 -1 -1 -1 -1 -1 -1 -2 -1 -1 11 12 13 14 18 19 -2 18 19 20 21 -1 -1 -1 -1 -1 -1 -1 -1 -1 6 7 8 -1 10 11 12 13 14 11 12 13 18 19 20 21 18 19 20 21\n",
      "Line  34\n",
      "Текущий struct выглядит так: -1 -2 -1 -1 -1 -1 -1 -1 -1 -1 -1 -1 -2 -1 -1 11 12 13 14 18 19 -2 18 19 20 21 -1 -1 -1 -1 -1 -1 -1 -1 -1 6 7 8 -1 10 11 12 13 14 11 12 13 18 19 20 21 18 19 20 21\n",
      "Line  35\n",
      "Текущий struct выглядит так: -1 -2 -1 -1 -1 -1 -1 -1 -1 -1 -1 -1 -2 -1 -1 11 12 13 14 18 19 -2 18 19 20 21 -1 -1 -1 -1 -1 -1 -1 -1 -1 6 7 8 -1 10 11 12 13 14 11 12 13 18 19 20 21 18 19 20 21\n",
      "Line  36\n",
      "Текущий struct выглядит так: -1 -2 -1 -1 -1 -1 -1 -1 -1 -1 -1 -1 -2 -1 -1 11 12 13 14 18 19 -2 18 19 20 21 -1 -1 -1 -1 -1 -1 -1 -1 -1 6 7 8 -1 10 11 12 13 14 11 12 13 18 19 20 21 18 19 20 21\n",
      "Line  37\n",
      "Текущий struct выглядит так: -1 -2 -1 -1 -1 -1 -1 -1 -1 -1 -1 -1 -2 -1 -1 11 12 13 14 18 19 -2 18 19 20 21 -1 -1 -1 -1 -1 -1 -1 -1 -1 6 7 8 -1 10 11 12 13 14 11 12 13 18 19 20 21 18 19 20 21\n",
      "Line  38\n",
      "Одинаковые длины друг за другом\n",
      "Приравняем элемент struct к -2\n",
      "Текущий struct выглядит так: -1 -2 -1 -1 -1 -1 -1 -1 -1 -1 -1 -1 -2 -1 -1 11 12 13 14 18 19 -2 18 19 20 21 -1 -1 -1 -1 -1 -1 -1 -1 -1 6 7 8 -2 10 11 12 13 14 11 12 13 18 19 20 21 18 19 20 21\n",
      "Line  39\n",
      "Текущий struct выглядит так: -1 -2 -1 -1 -1 -1 -1 -1 -1 -1 -1 -1 -2 -1 -1 11 12 13 14 18 19 -2 18 19 20 21 -1 -1 -1 -1 -1 -1 -1 -1 -1 6 7 8 -2 10 11 12 13 14 11 12 13 18 19 20 21 18 19 20 21\n",
      "Line  40\n",
      "Текущий struct выглядит так: -1 -2 -1 -1 -1 -1 -1 -1 -1 -1 -1 -1 -2 -1 -1 11 12 13 14 18 19 -2 18 19 20 21 -1 -1 -1 -1 -1 -1 -1 -1 -1 6 7 8 -2 10 11 12 13 14 11 12 13 18 19 20 21 18 19 20 21\n",
      "Line  41\n",
      "Текущий struct выглядит так: -1 -2 -1 -1 -1 -1 -1 -1 -1 -1 -1 -1 -2 -1 -1 11 12 13 14 18 19 -2 18 19 20 21 -1 -1 -1 -1 -1 -1 -1 -1 -1 6 7 8 -2 10 11 12 13 14 11 12 13 18 19 20 21 18 19 20 21\n",
      "Line  42\n",
      "Текущий struct выглядит так: -1 -2 -1 -1 -1 -1 -1 -1 -1 -1 -1 -1 -2 -1 -1 11 12 13 14 18 19 -2 18 19 20 21 -1 -1 -1 -1 -1 -1 -1 -1 -1 6 7 8 -2 10 11 12 13 14 11 12 13 18 19 20 21 18 19 20 21\n",
      "Line  43\n",
      "Текущий struct выглядит так: -1 -2 -1 -1 -1 -1 -1 -1 -1 -1 -1 -1 -2 -1 -1 11 12 13 14 18 19 -2 18 19 20 21 -1 -1 -1 -1 -1 -1 -1 -1 -1 6 7 8 -2 10 11 12 13 14 11 12 13 18 19 20 21 18 19 20 21\n",
      "Line  44\n",
      "Текущий struct выглядит так: -1 -2 -1 -1 -1 -1 -1 -1 -1 -1 -1 -1 -2 -1 -1 11 12 13 14 18 19 -2 18 19 20 21 -1 -1 -1 -1 -1 -1 -1 -1 -1 6 7 8 -2 10 11 12 13 14 11 12 13 18 19 20 21 18 19 20 21\n",
      "Line  45\n",
      "Текущий struct выглядит так: -1 -2 -1 -1 -1 -1 -1 -1 -1 -1 -1 -1 -2 -1 -1 11 12 13 14 18 19 -2 18 19 20 21 -1 -1 -1 -1 -1 -1 -1 -1 -1 6 7 8 -2 10 11 12 13 14 11 12 13 18 19 20 21 18 19 20 21\n",
      "Line  46\n",
      "Текущий struct выглядит так: -1 -2 -1 -1 -1 -1 -1 -1 -1 -1 -1 -1 -2 -1 -1 11 12 13 14 18 19 -2 18 19 20 21 -1 -1 -1 -1 -1 -1 -1 -1 -1 6 7 8 -2 10 11 12 13 14 11 12 13 18 19 20 21 18 19 20 21\n",
      "Line  47\n",
      "Текущий struct выглядит так: -1 -2 -1 -1 -1 -1 -1 -1 -1 -1 -1 -1 -2 -1 -1 11 12 13 14 18 19 -2 18 19 20 21 -1 -1 -1 -1 -1 -1 -1 -1 -1 6 7 8 -2 10 11 12 13 14 11 12 13 18 19 20 21 18 19 20 21\n",
      "Line  48\n",
      "Текущий struct выглядит так: -1 -2 -1 -1 -1 -1 -1 -1 -1 -1 -1 -1 -2 -1 -1 11 12 13 14 18 19 -2 18 19 20 21 -1 -1 -1 -1 -1 -1 -1 -1 -1 6 7 8 -2 10 11 12 13 14 11 12 13 18 19 20 21 18 19 20 21\n",
      "Line  49\n",
      "Текущий struct выглядит так: -1 -2 -1 -1 -1 -1 -1 -1 -1 -1 -1 -1 -2 -1 -1 11 12 13 14 18 19 -2 18 19 20 21 -1 -1 -1 -1 -1 -1 -1 -1 -1 6 7 8 -2 10 11 12 13 14 11 12 13 18 19 20 21 18 19 20 21\n",
      "Line  50\n",
      "Текущий struct выглядит так: -1 -2 -1 -1 -1 -1 -1 -1 -1 -1 -1 -1 -2 -1 -1 11 12 13 14 18 19 -2 18 19 20 21 -1 -1 -1 -1 -1 -1 -1 -1 -1 6 7 8 -2 10 11 12 13 14 11 12 13 18 19 20 21 18 19 20 21\n",
      "Line  51\n",
      "Текущий struct выглядит так: -1 -2 -1 -1 -1 -1 -1 -1 -1 -1 -1 -1 -2 -1 -1 11 12 13 14 18 19 -2 18 19 20 21 -1 -1 -1 -1 -1 -1 -1 -1 -1 6 7 8 -2 10 11 12 13 14 11 12 13 18 19 20 21 18 19 20 21\n",
      "Line  52\n",
      "Текущий struct выглядит так: -1 -2 -1 -1 -1 -1 -1 -1 -1 -1 -1 -1 -2 -1 -1 11 12 13 14 18 19 -2 18 19 20 21 -1 -1 -1 -1 -1 -1 -1 -1 -1 6 7 8 -2 10 11 12 13 14 11 12 13 18 19 20 21 18 19 20 21\n",
      "Line  53\n",
      "Текущий struct выглядит так: -1 -2 -1 -1 -1 -1 -1 -1 -1 -1 -1 -1 -2 -1 -1 11 12 13 14 18 19 -2 18 19 20 21 -1 -1 -1 -1 -1 -1 -1 -1 -1 6 7 8 -2 10 11 12 13 14 11 12 13 18 19 20 21 18 19 20 21\n",
      "Line  54\n",
      "Текущий struct выглядит так: -1 -2 -1 -1 -1 -1 -1 -1 -1 -1 -1 -1 -2 -1 -1 11 12 13 14 18 19 -2 18 19 20 21 -1 -1 -1 -1 -1 -1 -1 -1 -1 6 7 8 -2 10 11 12 13 14 11 12 13 18 19 20 21 18 19 20 21\n"
     ]
    }
   ],
   "source": [
    "for idx in range(1, len(all_words)):\n",
    "    print('Line ', idx)\n",
    "    if parent[idx] == -1 and all_words[idx - 1] == all_words[idx]:\n",
    "        print('Одинаковые длины друг за другом')\n",
    "        print('Приравняем элемент struct к -2')\n",
    "        parent[idx] = -2\n",
    "        if parent[idx - 1] == -2:\n",
    "            print('Предыдущий элемент struct равен -2')\n",
    "            print('Прирвняем предыдущий элемент struct к ', idx -2)\n",
    "            parent[idx - 1] = idx - 2\n",
    "    print('Текущий struct выглядит так:', *parent)"
   ]
  },
  {
   "cell_type": "code",
   "execution_count": 355,
   "metadata": {},
   "outputs": [
    {
     "name": "stdout",
     "output_type": "stream",
     "text": [
      "-1 -2 -1 -1 -1 -1 -1 -1 -1 -1 -1 -1 -2 -1 -1 11 12 13 14 18 19 -2 18 19 20 21 -1 -1 -1 -1 -1 -1 -1 -1 -1 6 7 8 -2 10 11 12 13 14 11 12 13 18 19 20 21 18 19 20 -1\n",
      "Начало припева:  10\n",
      "Chorus length:  16\n"
     ]
    }
   ],
   "source": [
    "parent[-1] = -1\n",
    "\n",
    "print(*parent)\n",
    "print('Начало припева: ', parent[chorus_start])\n",
    "print('Chorus length: ', chorus_length)"
   ]
  },
  {
   "cell_type": "code",
   "execution_count": 357,
   "metadata": {},
   "outputs": [
    {
     "name": "stdout",
     "output_type": "stream",
     "text": [
      "14 14 16 13 14 15 6 7 6 7 6 5 5 7 5 5 5 7 5 5 5 5 5 5 5 5 3 8 4 10 12 3 7 15 17 6 7 6 6 6 5 5 7 5 5 5 7 5 5 5 5 5 5 5 5\n"
     ]
    }
   ],
   "source": [
    "print(*all_words)"
   ]
  },
  {
   "cell_type": "markdown",
   "metadata": {},
   "source": [
    "## Inference"
   ]
  },
  {
   "cell_type": "code",
   "execution_count": null,
   "metadata": {},
   "outputs": [],
   "source": []
  },
  {
   "cell_type": "markdown",
   "metadata": {},
   "source": [
    "## longestDupSubstring: how it works:"
   ]
  },
  {
   "cell_type": "code",
   "execution_count": null,
   "metadata": {},
   "outputs": [
    {
     "name": "stdout",
     "output_type": "stream",
     "text": [
      "a1 =  55 , a2 =  34\n",
      "mod1 =  1775913588 , mod2 =  1732000820\n"
     ]
    }
   ],
   "source": [
    "a1, a2 = random.randint(26, 100), random.randint(26, 100)\n",
    "print('a1 = ', a1, ', a2 = ', a2 )\n",
    "mod1, mod2 = random.randint(10**9+7, 2**31-1), random.randint(10**9+7, 2**31-1)\n",
    "print('mod1 = ', mod1, ', mod2 = ', mod2)"
   ]
  },
  {
   "cell_type": "code",
   "execution_count": null,
   "metadata": {},
   "outputs": [
    {
     "name": "stdout",
     "output_type": "stream",
     "text": [
      "l =  1 , r =  20\n",
      "length =  0 , start =  -1\n"
     ]
    }
   ],
   "source": [
    "n = len(word_counter)\n",
    "l, r = 1, n-1\n",
    "length, start = 0, -1\n",
    "print('l = ', l, ', r = ', r )\n",
    "print('length = ', length, ', start = ', start )"
   ]
  },
  {
   "cell_type": "code",
   "execution_count": null,
   "metadata": {},
   "outputs": [
    {
     "data": {
      "text/plain": [
       "11"
      ]
     },
     "metadata": {},
     "output_type": "display_data"
    }
   ],
   "source": [
    "l + (r - l + 1) // 2"
   ]
  },
  {
   "cell_type": "code",
   "execution_count": null,
   "metadata": {},
   "outputs": [
    {
     "name": "stdout",
     "output_type": "stream",
     "text": [
      "l =  1 , r =  20\n",
      "m =  11\n",
      "idx =  -1\n",
      "l =  1 , r =  10\n",
      "m =  6\n",
      "idx =  -1\n",
      "l =  1 , r =  5\n",
      "m =  3\n",
      "idx =  -1\n",
      "l =  1 , r =  2\n",
      "m =  2\n",
      "Found start\n",
      "idx =  18\n",
      "Final result:\n",
      "Start:  18 , Length:  2\n"
     ]
    }
   ],
   "source": [
    "while l <= r:\n",
    "    print('l = ', l, ', r = ', r)\n",
    "    m = l + (r - l + 1) // 2\n",
    "    print('m = ', m)\n",
    "    idx = check(word_counter, m, a1, a2, mod1, mod2)\n",
    "    print('idx = ', idx)\n",
    "    if idx != -1:\n",
    "        l = m + 1\n",
    "        length = m\n",
    "        start = idx\n",
    "    else:\n",
    "        r = m - 1\n",
    "\n",
    "print('Final result:')\n",
    "print('Start: ', start, ', Length: ', length)"
   ]
  },
  {
   "cell_type": "markdown",
   "metadata": {},
   "source": [
    "## check: how it works:"
   ]
  },
  {
   "cell_type": "code",
   "execution_count": null,
   "metadata": {},
   "outputs": [
    {
     "name": "stdout",
     "output_type": "stream",
     "text": [
      "82 ^ 11\n",
      "aL1 =  314701901 , aL2 =  776881556\n"
     ]
    }
   ],
   "source": [
    "n = len(word_counter)\n",
    "m = l + (r - l + 1) // 2\n",
    "aL1, aL2 = pow(a1, m, mod1), pow(a2, m, mod2)\n",
    "h1, h2 = 0, 0\n",
    "\n",
    "print(a1, '^', m)\n",
    "print('aL1 = ', aL1, ', aL2 = ', aL2)"
   ]
  },
  {
   "cell_type": "code",
   "execution_count": null,
   "metadata": {},
   "outputs": [
    {
     "name": "stdout",
     "output_type": "stream",
     "text": [
      "614397634\n",
      "1467279695\n"
     ]
    }
   ],
   "source": [
    "for i in range(m):\n",
    "    h1 = (h1 * a1 + word_counter[i]) % mod1\n",
    "    h2 = (h2 * a2 + word_counter[i]) % mod2\n",
    "\n",
    "print(h1)\n",
    "print(h2)"
   ]
  },
  {
   "cell_type": "markdown",
   "metadata": {},
   "source": [
    "% - выводит остаток от деления"
   ]
  },
  {
   "cell_type": "code",
   "execution_count": null,
   "metadata": {},
   "outputs": [
    {
     "data": {
      "text/plain": [
       "{(614397634, 1467279695): [10]}"
      ]
     },
     "metadata": {},
     "output_type": "display_data"
    }
   ],
   "source": [
    "seen = dict()\n",
    "seen[(h1, h2)] = [m - 1] \n",
    "\n",
    "seen"
   ]
  },
  {
   "cell_type": "code",
   "execution_count": null,
   "metadata": {},
   "outputs": [
    {
     "name": "stdout",
     "output_type": "stream",
     "text": [
      "-1\n"
     ]
    }
   ],
   "source": [
    "for start in range(1, n - m + 1):\n",
    "    h1 = (h1 * a1 - word_counter[start - 1] * aL1 + word_counter[start + m - 1]) % mod1\n",
    "    h2 = (h2 * a2 - word_counter[start - 1] * aL2 + word_counter[start + m - 1]) % mod2\n",
    "    if (h1, h2) in seen:\n",
    "        if min(seen[(h1, h2)]) < start: \n",
    "            print('Found start: ', start)\n",
    "        else:\n",
    "            seen[(h1,h2)].append(start + m - 1)\n",
    "    else:\n",
    "        seen[(h1, h2)] = [start + m - 1]\n",
    "\n",
    "print(-1)"
   ]
  },
  {
   "cell_type": "markdown",
   "metadata": {},
   "source": [
    "## KMP_search: how it works"
   ]
  },
  {
   "cell_type": "code",
   "execution_count": null,
   "metadata": {},
   "outputs": [],
   "source": [
    "parent = KMP_search(all_words, p, parent, init)"
   ]
  },
  {
   "cell_type": "code",
   "execution_count": 35,
   "metadata": {},
   "outputs": [],
   "source": [
    "def buildNext(p):\n",
    "    nxt = [0]\n",
    "    x = 1\n",
    "    now = 0\n",
    "    while x < len(p):\n",
    "        if p[now] == p[x]:\n",
    "            now += 1\n",
    "            x += 1\n",
    "            nxt.append(now)\n",
    "        elif now:\n",
    "            now = nxt[now - 1]\n",
    "        else:\n",
    "            nxt.append(0)\n",
    "            x += 1\n",
    "    return nxt"
   ]
  },
  {
   "cell_type": "code",
   "execution_count": 38,
   "metadata": {},
   "outputs": [],
   "source": [
    "tar = 0\n",
    "pos = 0\n",
    "is_first = True"
   ]
  },
  {
   "cell_type": "code",
   "execution_count": 37,
   "metadata": {},
   "outputs": [
    {
     "data": {
      "text/plain": [
       "[5, 10]"
      ]
     },
     "execution_count": 37,
     "metadata": {},
     "output_type": "execute_result"
    }
   ],
   "source": [
    "p"
   ]
  },
  {
   "cell_type": "code",
   "execution_count": 36,
   "metadata": {},
   "outputs": [
    {
     "data": {
      "text/plain": [
       "[0, 0]"
      ]
     },
     "execution_count": 36,
     "metadata": {},
     "output_type": "execute_result"
    }
   ],
   "source": [
    "nxt = buildNext(p)\n",
    "nxt"
   ]
  },
  {
   "cell_type": "code",
   "execution_count": 45,
   "metadata": {},
   "outputs": [],
   "source": [
    "i = 0"
   ]
  },
  {
   "cell_type": "markdown",
   "metadata": {},
   "source": [
    "### while tar < len(s):"
   ]
  },
  {
   "cell_type": "code",
   "execution_count": 221,
   "metadata": {},
   "outputs": [
    {
     "data": {
      "text/plain": [
       "False"
      ]
     },
     "execution_count": 221,
     "metadata": {},
     "output_type": "execute_result"
    }
   ],
   "source": [
    "tar < len(all_words)"
   ]
  },
  {
   "cell_type": "code",
   "execution_count": 214,
   "metadata": {},
   "outputs": [
    {
     "name": "stdout",
     "output_type": "stream",
     "text": [
      "Iteration  23\n"
     ]
    }
   ],
   "source": [
    "print('Iteration ', i)"
   ]
  },
  {
   "cell_type": "code",
   "execution_count": 215,
   "metadata": {},
   "outputs": [
    {
     "name": "stdout",
     "output_type": "stream",
     "text": [
      "No\n"
     ]
    }
   ],
   "source": [
    "if all_words[tar] == p[pos] and (init or parent[tar] == -1):\n",
    "    tar += 1\n",
    "    pos += 1\n",
    "else:\n",
    "    print('No')"
   ]
  },
  {
   "cell_type": "code",
   "execution_count": 207,
   "metadata": {},
   "outputs": [
    {
     "name": "stdout",
     "output_type": "stream",
     "text": [
      "20\n"
     ]
    },
    {
     "data": {
      "text/plain": [
       "2"
      ]
     },
     "execution_count": 207,
     "metadata": {},
     "output_type": "execute_result"
    }
   ],
   "source": [
    "print(tar)\n",
    "pos"
   ]
  },
  {
   "cell_type": "markdown",
   "metadata": {},
   "source": [
    "Если в верхней ячейке No:"
   ]
  },
  {
   "cell_type": "code",
   "execution_count": 216,
   "metadata": {},
   "outputs": [
    {
     "name": "stdout",
     "output_type": "stream",
     "text": [
      "No\n"
     ]
    }
   ],
   "source": [
    "if pos and (init or parent[tar] == -1):\n",
    "    pos = nxt[pos - 1]\n",
    "else:\n",
    "    print('No')"
   ]
  },
  {
   "cell_type": "code",
   "execution_count": 188,
   "metadata": {},
   "outputs": [
    {
     "name": "stdout",
     "output_type": "stream",
     "text": [
      "0\n"
     ]
    }
   ],
   "source": [
    "print(pos)"
   ]
  },
  {
   "cell_type": "markdown",
   "metadata": {},
   "source": [
    "Если в верхней ячейке No"
   ]
  },
  {
   "cell_type": "code",
   "execution_count": 217,
   "metadata": {},
   "outputs": [
    {
     "data": {
      "text/plain": [
       "21"
      ]
     },
     "execution_count": 217,
     "metadata": {},
     "output_type": "execute_result"
    }
   ],
   "source": [
    "tar += 1\n",
    "tar"
   ]
  },
  {
   "cell_type": "code",
   "execution_count": 218,
   "metadata": {},
   "outputs": [],
   "source": [
    "if pos == len(p):\n",
    "    print('Yes')"
   ]
  },
  {
   "cell_type": "markdown",
   "metadata": {},
   "source": [
    "Если в верхней ячейке Yes:"
   ]
  },
  {
   "cell_type": "code",
   "execution_count": 209,
   "metadata": {},
   "outputs": [],
   "source": [
    "if is_first: # first matching\n",
    "    is_first = False\n",
    "    parent_start_idx = tar - pos\n",
    "    print('is first')\n",
    "else:\n",
    "    parent[tar - pos:tar] = list(range(parent_start_idx,parent_start_idx+pos))\n"
   ]
  },
  {
   "cell_type": "markdown",
   "metadata": {},
   "source": [
    "Также, если Yes:"
   ]
  },
  {
   "cell_type": "code",
   "execution_count": 210,
   "metadata": {},
   "outputs": [],
   "source": [
    "pos = 0  # different from a standard kmp, here substrings are not allowed to overlap. So the pos is not nxt[pos - 1] but 0"
   ]
  },
  {
   "cell_type": "code",
   "execution_count": 219,
   "metadata": {},
   "outputs": [],
   "source": [
    "i +=1"
   ]
  },
  {
   "cell_type": "markdown",
   "metadata": {},
   "source": [
    "print result:"
   ]
  },
  {
   "cell_type": "code",
   "execution_count": 220,
   "metadata": {},
   "outputs": [
    {
     "name": "stdout",
     "output_type": "stream",
     "text": [
      "-1 -1 -1 -1 -1 -1 -1 -1 -1 -1 -1 -1 -1 -1 -1 -1 -1 -1 2 3 -1\n"
     ]
    }
   ],
   "source": [
    "result = parent\n",
    "print(*result)"
   ]
  },
  {
   "cell_type": "code",
   "execution_count": null,
   "metadata": {},
   "outputs": [],
   "source": [
    "def KMP_search(s,p,parent,init): \n",
    "    def buildNext(p):\n",
    "        nxt = [0]\n",
    "        x = 1\n",
    "        now = 0\n",
    "        while x < len(p):\n",
    "            if p[now] == p[x]:\n",
    "                now += 1\n",
    "                x += 1\n",
    "                nxt.append(now)\n",
    "            elif now:\n",
    "                now = nxt[now - 1]\n",
    "            else:\n",
    "                nxt.append(0)\n",
    "                x += 1\n",
    "        return nxt\n",
    "\n",
    "    tar = 0\n",
    "    pos = 0\n",
    "    nxt = buildNext(p)\n",
    "    is_first = True\n",
    "    while tar < len(s):\n",
    "        if s[tar] == p[pos] and (init or parent[tar] == -1):\n",
    "            tar += 1\n",
    "            pos += 1\n",
    "        elif pos and (init or parent[tar] == -1):\n",
    "            pos = nxt[pos - 1]\n",
    "        else:\n",
    "            tar += 1\n",
    "\n",
    "        if pos == len(p):\n",
    "            if is_first: # first matching\n",
    "                is_first = False\n",
    "                parent_start_idx = tar - pos\n",
    "            else:\n",
    "                parent[tar - pos:tar] = list(range(parent_start_idx,parent_start_idx+pos))\n",
    "            pos = 0  # different from a standard kmp, here substrings are not allowed to overlap. So the pos is not nxt[pos - 1] but 0\n",
    "    return parent"
   ]
  }
 ],
 "metadata": {
  "kernelspec": {
   "display_name": "Python 3.10.6 ('.venv': poetry)",
   "language": "python",
   "name": "python3"
  },
  "language_info": {
   "codemirror_mode": {
    "name": "ipython",
    "version": 3
   },
   "file_extension": ".py",
   "mimetype": "text/x-python",
   "name": "python",
   "nbconvert_exporter": "python",
   "pygments_lexer": "ipython3",
   "version": "3.10.6"
  },
  "orig_nbformat": 4,
  "vscode": {
   "interpreter": {
    "hash": "ca8053545a55f3fce2055a4ec6ce5c40bba1ec40f86b09398946c4d942b663c2"
   }
  }
 },
 "nbformat": 4,
 "nbformat_minor": 2
}
