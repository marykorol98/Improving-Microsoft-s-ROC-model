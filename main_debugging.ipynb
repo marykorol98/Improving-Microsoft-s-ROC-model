{
 "cells": [
  {
   "cell_type": "code",
   "execution_count": 1,
   "metadata": {},
   "outputs": [
    {
     "ename": "ModuleNotFoundError",
     "evalue": "No module named 'torch._C'",
     "output_type": "error",
     "traceback": [
      "\u001b[0;31m---------------------------------------------------------------------------\u001b[0m",
      "\u001b[0;31mModuleNotFoundError\u001b[0m                       Traceback (most recent call last)",
      "Cell \u001b[0;32mIn[1], line 1\u001b[0m\n\u001b[0;32m----> 1\u001b[0m \u001b[39mfrom\u001b[39;00m \u001b[39mlyrics_to_melody\u001b[39;00m \u001b[39mimport\u001b[39;00m Lyrics_match, get_chorus, lm_score, fill_template, splice, polish_chord, chord_truc, polish, not_mono, not_duplicate, save_demo\n\u001b[1;32m      2\u001b[0m \u001b[39mimport\u001b[39;00m \u001b[39mrandom\u001b[39;00m\n\u001b[1;32m      3\u001b[0m \u001b[39mimport\u001b[39;00m \u001b[39msqlite3\u001b[39;00m\n",
      "File \u001b[0;32m~/roc-model/lyrics_to_melody.py:10\u001b[0m\n\u001b[1;32m      8\u001b[0m \u001b[39mfrom\u001b[39;00m \u001b[39mutils\u001b[39;00m\u001b[39m.\u001b[39;00m\u001b[39mlyrics_match\u001b[39;00m \u001b[39mimport\u001b[39;00m Lyrics_match\n\u001b[1;32m      9\u001b[0m \u001b[39mfrom\u001b[39;00m \u001b[39mmidiutil\u001b[39;00m\u001b[39m.\u001b[39;00m\u001b[39mMidiFile\u001b[39;00m \u001b[39mimport\u001b[39;00m MIDIFile\n\u001b[0;32m---> 10\u001b[0m \u001b[39mfrom\u001b[39;00m \u001b[39mfairseq\u001b[39;00m\u001b[39m.\u001b[39;00m\u001b[39mmodels\u001b[39;00m\u001b[39m.\u001b[39;00m\u001b[39mtransformer_lm\u001b[39;00m \u001b[39mimport\u001b[39;00m TransformerLanguageModel\n\u001b[1;32m     11\u001b[0m \u001b[39m#from cnsenti import Sentiment\u001b[39;00m\n\u001b[1;32m     12\u001b[0m \u001b[39mimport\u001b[39;00m \u001b[39mmiditoolkit\u001b[39;00m\n",
      "File \u001b[0;32m~/roc-model/.venv/lib/python3.10/site-packages/fairseq/__init__.py:20\u001b[0m\n\u001b[1;32m     17\u001b[0m __all__ \u001b[39m=\u001b[39m [\u001b[39m\"\u001b[39m\u001b[39mpdb\u001b[39m\u001b[39m\"\u001b[39m]\n\u001b[1;32m     19\u001b[0m \u001b[39m# backwards compatibility to support `from fairseq.X import Y`\u001b[39;00m\n\u001b[0;32m---> 20\u001b[0m \u001b[39mfrom\u001b[39;00m \u001b[39mfairseq\u001b[39;00m\u001b[39m.\u001b[39;00m\u001b[39mdistributed\u001b[39;00m \u001b[39mimport\u001b[39;00m utils \u001b[39mas\u001b[39;00m distributed_utils\n\u001b[1;32m     21\u001b[0m \u001b[39mfrom\u001b[39;00m \u001b[39mfairseq\u001b[39;00m\u001b[39m.\u001b[39;00m\u001b[39mlogging\u001b[39;00m \u001b[39mimport\u001b[39;00m meters, metrics, progress_bar  \u001b[39m# noqa\u001b[39;00m\n\u001b[1;32m     23\u001b[0m sys\u001b[39m.\u001b[39mmodules[\u001b[39m\"\u001b[39m\u001b[39mfairseq.distributed_utils\u001b[39m\u001b[39m\"\u001b[39m] \u001b[39m=\u001b[39m distributed_utils\n",
      "File \u001b[0;32m~/roc-model/.venv/lib/python3.10/site-packages/fairseq/distributed/__init__.py:6\u001b[0m\n\u001b[1;32m      1\u001b[0m \u001b[39m# Copyright (c) Facebook, Inc. and its affiliates.\u001b[39;00m\n\u001b[1;32m      2\u001b[0m \u001b[39m#\u001b[39;00m\n\u001b[1;32m      3\u001b[0m \u001b[39m# This source code is licensed under the MIT license found in the\u001b[39;00m\n\u001b[1;32m      4\u001b[0m \u001b[39m# LICENSE file in the root directory of this source tree.\u001b[39;00m\n\u001b[0;32m----> 6\u001b[0m \u001b[39mfrom\u001b[39;00m \u001b[39m.\u001b[39;00m\u001b[39mdistributed_timeout_wrapper\u001b[39;00m \u001b[39mimport\u001b[39;00m DistributedTimeoutWrapper\n\u001b[1;32m      7\u001b[0m \u001b[39mfrom\u001b[39;00m \u001b[39m.\u001b[39;00m\u001b[39mfully_sharded_data_parallel\u001b[39;00m \u001b[39mimport\u001b[39;00m (\n\u001b[1;32m      8\u001b[0m     fsdp_enable_wrap,\n\u001b[1;32m      9\u001b[0m     fsdp_wrap,\n\u001b[1;32m     10\u001b[0m     FullyShardedDataParallel,\n\u001b[1;32m     11\u001b[0m )\n\u001b[1;32m     12\u001b[0m \u001b[39mfrom\u001b[39;00m \u001b[39m.\u001b[39;00m\u001b[39mlegacy_distributed_data_parallel\u001b[39;00m \u001b[39mimport\u001b[39;00m LegacyDistributedDataParallel\n",
      "File \u001b[0;32m~/roc-model/.venv/lib/python3.10/site-packages/fairseq/distributed/distributed_timeout_wrapper.py:11\u001b[0m\n\u001b[1;32m      8\u001b[0m \u001b[39mimport\u001b[39;00m \u001b[39msignal\u001b[39;00m\n\u001b[1;32m      9\u001b[0m \u001b[39mimport\u001b[39;00m \u001b[39mthreading\u001b[39;00m\n\u001b[0;32m---> 11\u001b[0m \u001b[39mfrom\u001b[39;00m \u001b[39mtorch\u001b[39;00m \u001b[39mimport\u001b[39;00m nn\n\u001b[1;32m     14\u001b[0m logger \u001b[39m=\u001b[39m logging\u001b[39m.\u001b[39mgetLogger(\u001b[39m__name__\u001b[39m)\n\u001b[1;32m     17\u001b[0m \u001b[39mclass\u001b[39;00m \u001b[39mDistributedTimeoutWrapper\u001b[39;00m(nn\u001b[39m.\u001b[39mModule):\n",
      "File \u001b[0;32m~/roc-model/.venv/lib/python3.10/site-packages/torch/nn/__init__.py:1\u001b[0m\n\u001b[0;32m----> 1\u001b[0m \u001b[39mfrom\u001b[39;00m \u001b[39m.\u001b[39;00m\u001b[39mmodules\u001b[39;00m \u001b[39mimport\u001b[39;00m \u001b[39m*\u001b[39m  \u001b[39m# noqa: F403\u001b[39;00m\n\u001b[1;32m      2\u001b[0m \u001b[39mfrom\u001b[39;00m \u001b[39m.\u001b[39;00m\u001b[39mparameter\u001b[39;00m \u001b[39mimport\u001b[39;00m (\n\u001b[1;32m      3\u001b[0m     Parameter \u001b[39mas\u001b[39;00m Parameter,\n\u001b[1;32m      4\u001b[0m     UninitializedParameter \u001b[39mas\u001b[39;00m UninitializedParameter,\n\u001b[1;32m      5\u001b[0m     UninitializedBuffer \u001b[39mas\u001b[39;00m UninitializedBuffer,\n\u001b[1;32m      6\u001b[0m )\n\u001b[1;32m      7\u001b[0m \u001b[39mfrom\u001b[39;00m \u001b[39m.\u001b[39;00m\u001b[39mparallel\u001b[39;00m \u001b[39mimport\u001b[39;00m DataParallel \u001b[39mas\u001b[39;00m DataParallel\n",
      "File \u001b[0;32m~/roc-model/.venv/lib/python3.10/site-packages/torch/nn/modules/__init__.py:1\u001b[0m\n\u001b[0;32m----> 1\u001b[0m \u001b[39mfrom\u001b[39;00m \u001b[39m.\u001b[39;00m\u001b[39mmodule\u001b[39;00m \u001b[39mimport\u001b[39;00m Module\n\u001b[1;32m      2\u001b[0m \u001b[39mfrom\u001b[39;00m \u001b[39m.\u001b[39;00m\u001b[39mlinear\u001b[39;00m \u001b[39mimport\u001b[39;00m Identity, Linear, Bilinear, LazyLinear\n\u001b[1;32m      3\u001b[0m \u001b[39mfrom\u001b[39;00m \u001b[39m.\u001b[39;00m\u001b[39mconv\u001b[39;00m \u001b[39mimport\u001b[39;00m Conv1d, Conv2d, Conv3d, \\\n\u001b[1;32m      4\u001b[0m     ConvTranspose1d, ConvTranspose2d, ConvTranspose3d, \\\n\u001b[1;32m      5\u001b[0m     LazyConv1d, LazyConv2d, LazyConv3d, LazyConvTranspose1d, LazyConvTranspose2d, LazyConvTranspose3d\n",
      "File \u001b[0;32m~/roc-model/.venv/lib/python3.10/site-packages/torch/nn/modules/module.py:8\u001b[0m\n\u001b[1;32m      5\u001b[0m \u001b[39mimport\u001b[39;00m \u001b[39mweakref\u001b[39;00m\n\u001b[1;32m      7\u001b[0m \u001b[39mimport\u001b[39;00m \u001b[39mtorch\u001b[39;00m\n\u001b[0;32m----> 8\u001b[0m \u001b[39mfrom\u001b[39;00m \u001b[39m.\u001b[39;00m\u001b[39m.\u001b[39;00m\u001b[39mparameter\u001b[39;00m \u001b[39mimport\u001b[39;00m Parameter\n\u001b[1;32m      9\u001b[0m \u001b[39mimport\u001b[39;00m \u001b[39mtorch\u001b[39;00m\u001b[39m.\u001b[39;00m\u001b[39mutils\u001b[39;00m\u001b[39m.\u001b[39;00m\u001b[39mhooks\u001b[39;00m \u001b[39mas\u001b[39;00m \u001b[39mhooks\u001b[39;00m\n\u001b[1;32m     11\u001b[0m \u001b[39mfrom\u001b[39;00m \u001b[39mtorch\u001b[39;00m \u001b[39mimport\u001b[39;00m Tensor, device, dtype\n",
      "File \u001b[0;32m~/roc-model/.venv/lib/python3.10/site-packages/torch/nn/parameter.py:2\u001b[0m\n\u001b[1;32m      1\u001b[0m \u001b[39mimport\u001b[39;00m \u001b[39mtorch\u001b[39;00m\n\u001b[0;32m----> 2\u001b[0m \u001b[39mfrom\u001b[39;00m \u001b[39mtorch\u001b[39;00m\u001b[39m.\u001b[39;00m\u001b[39m_C\u001b[39;00m \u001b[39mimport\u001b[39;00m _disabled_torch_function_impl\n\u001b[1;32m      3\u001b[0m \u001b[39mfrom\u001b[39;00m \u001b[39mcollections\u001b[39;00m \u001b[39mimport\u001b[39;00m OrderedDict\n\u001b[1;32m      5\u001b[0m \u001b[39m# Metaclass to combine _TensorMeta and the instance check override for Parameter.\u001b[39;00m\n",
      "\u001b[0;31mModuleNotFoundError\u001b[0m: No module named 'torch._C'"
     ]
    }
   ],
   "source": [
    "from lyrics_to_melody import Lyrics_match, get_chorus, lm_score, fill_template, splice, polish_chord, chord_truc, polish, not_mono, not_duplicate, save_demo\n",
    "import random\n",
    "import sqlite3\n",
    "import re\n",
    "from fairseq.models.transformer_lm import TransformerLanguageModel\n",
    "import numpy as np\n",
    "from math import ceil\n",
    "import copy\n",
    "from midiutil.MidiFile import MIDIFile\n",
    "import miditoolkit"
   ]
  },
  {
   "cell_type": "markdown",
   "metadata": {},
   "source": [
    "# importing a database"
   ]
  },
  {
   "cell_type": "code",
   "execution_count": 2,
   "metadata": {},
   "outputs": [
    {
     "name": "stdout",
     "output_type": "stream",
     "text": [
      "Database connected\n"
     ]
    }
   ],
   "source": [
    "# Загрузка базы мелодий\n",
    "db_path = 'database/ROC.db'\n",
    "conn = sqlite3.connect(db_path)\n",
    "global c\n",
    "c = conn.cursor()\n",
    "print(\"Database connected\")"
   ]
  },
  {
   "cell_type": "markdown",
   "metadata": {},
   "source": [
    "### select_melody function code"
   ]
  },
  {
   "cell_type": "code",
   "execution_count": 3,
   "metadata": {},
   "outputs": [],
   "source": [
    "def select_melody(is_maj, is_chorus, length, last_bar, chord, chord_ptr, is_last_sentence):\n",
    "    cursor = c.execute(\n",
    "        \"SELECT DISTINCT NOTES, CHORDS from MELOLIB  where LENGTH = '{}' and CHORUS = '{}' and MAJOR = '{}' \".format(\n",
    "            length, is_chorus, is_maj))  # and MAJOR = '{}'\n",
    "    candidates_bars = []\n",
    "    print(\"Retrive melody...\")\n",
    "    for row in cursor:\n",
    "        notes = row[0]\n",
    "        cd_ = row[1]\n",
    "        candidates_bars.append((notes, cd_))\n",
    "\n",
    "    # Filter by chords.\n",
    "    chord_list_ = chord.strip().split(' ')\n",
    "    chord_list_ = chord_list_[chord_ptr:] + chord_list_[:chord_ptr]\n",
    "    re_str = ''\n",
    "\n",
    "    if not is_last_sentence:\n",
    "        key = ''\n",
    "    else:\n",
    "        if is_maj:\n",
    "            key = ' C:'\n",
    "        else:\n",
    "            key = ' A:m'\n",
    "\n",
    "    # For the given chord progression, we generate a regex like:\n",
    "    # A:m F: G: C: -> ^A:m( A:m)*( F:)+( G:)+( C:)*$|^A:m( A:m)*( F:)+( G:)*$|^A:m( A:m)*( F:)*$|^A:m( A:m)*$\n",
    "    # Given the regex, we find matched pieces.\n",
    "    # We design the regex like this because alternations in regular expressions are evaluated from left to right,\n",
    "    # the piece with the most various chords will be selected, if there's any.\n",
    "    for j in range(len(chord_list_), 0, -1):\n",
    "        re_str += '^({}( {})*'.format(chord_list_[0], chord_list_[0])\n",
    "        for idx in range(1, j):\n",
    "            re_str += '( {})+'.format(chord_list_[idx])\n",
    "        re_str = re_str[:-1]\n",
    "        re_str += '*{})$|'.format(key)\n",
    "    re_str = re_str[:-1]\n",
    "\n",
    "    tmp_candidates = []\n",
    "    for row in candidates_bars:\n",
    "        if re.match(r'{}'.format(re_str), row[1]):\n",
    "            tmp_candidates.append(row)\n",
    "\n",
    "    if len(tmp_candidates) == 0:\n",
    "        re_str = '^{}( {})*$'.format(chord_list_[-1], chord_list_[-1])\n",
    "        for row in candidates_bars:\n",
    "            if re.match(r'{}'.format(re_str), row[1]):\n",
    "                tmp_candidates.append(row)\n",
    "\n",
    "    if len(tmp_candidates) > 0:\n",
    "        candidates_bars = tmp_candidates\n",
    "    else:\n",
    "        if is_maj:\n",
    "            re_str = '^C:( C:)*$'\n",
    "        else:\n",
    "            re_str = '^A:m( A:m)*$'\n",
    "        for row in candidates_bars:\n",
    "            if re.match(r'{}'.format(re_str), row[1]):\n",
    "                tmp_candidates.append(row)\n",
    "        if len(tmp_candidates) > 0:\n",
    "            candidates_bars = tmp_candidates\n",
    "\n",
    "    candidates_cnt = len(candidates_bars)\n",
    "    if candidates_cnt == 0:\n",
    "\n",
    "        print('No Matched Rhythm as {}'.format(length))\n",
    "        return []\n",
    "\n",
    "    if last_bar == None:  # we are at the begining of a song, random select bars.\n",
    "\n",
    "        print('Start a song...')\n",
    "\n",
    "        def not_too_high(bar):\n",
    "            notes = bar.split(' ')[:-1][3::5]\n",
    "            notes = [int(x[6:]) for x in notes]\n",
    "            for i in notes:\n",
    "                if 57 > i or i > 66:\n",
    "                    return False\n",
    "            return True\n",
    "\n",
    "        tmp = []\n",
    "        for bar in candidates_bars:\n",
    "            if not_too_high(bar[0]):\n",
    "                tmp.append(bar)\n",
    "        return tmp\n",
    "    else:\n",
    "        last_note = int(last_bar.split(' ')[-3][6:])\n",
    "        # tendency\n",
    "        selected_bars = []\n",
    "        prefer_note = None\n",
    "\n",
    "        # Major C\n",
    "        if is_maj:\n",
    "            if last_note % 12 == 2 or last_note % 12 == 9:\n",
    "                prefer_note = last_note - 2\n",
    "            elif last_note % 12 == 5:\n",
    "                prefer_note = last_note - 1\n",
    "            elif last_note % 12 == 11:\n",
    "                prefer_note = last_note + 1\n",
    "                # Minor A\n",
    "        else:\n",
    "            if last_note % 12 == 11 or last_note % 12 == 2:  # 2 -> 1, 4 -> 3\n",
    "                prefer_note = last_note - 2\n",
    "            elif last_note % 12 == 6:  # 6 -> 5\n",
    "                prefer_note = last_note - 1\n",
    "            elif last_note % 12 == 7:  # 7-> 1\n",
    "                prefer_note = last_note + 2\n",
    "\n",
    "        if prefer_note is not None:\n",
    "            for x in candidates_bars:\n",
    "                if x[0][0] == prefer_note:\n",
    "                    selected_bars.append(x)\n",
    "        if len(selected_bars) > 0:\n",
    "            print('Filter by tendency...')\n",
    "            candidates_bars = selected_bars\n",
    "\n",
    "        selected_bars = []\n",
    "        for bar in candidates_bars:\n",
    "            first_pitch = int(bar[0].split(' ')[3][6:])\n",
    "            if (first_pitch > last_note - 8 and first_pitch < last_note + 8):\n",
    "                selected_bars.append(bar)\n",
    "        if len(selected_bars) > 0:\n",
    "            print('Filter by pitch range...')\n",
    "            return selected_bars\n",
    "\n",
    "    # No candidates yet? randomly return some.\n",
    "    print(\"Randomly selected...\")\n",
    "    return candidates_bars"
   ]
  },
  {
   "cell_type": "markdown",
   "metadata": {},
   "source": [
    "# Открываем файлы текста и аккордов"
   ]
  },
  {
   "cell_type": "code",
   "execution_count": 4,
   "metadata": {},
   "outputs": [
    {
     "data": {
      "text/plain": [
       "'Кто зна ет, за чем за жи га ют звёз ды? [sep] Для ко го о кон мос ковс ких свет и ко гда за кон чит ся зи ма? [sep] Кто зна ет, ка кие на вы ход ны е прог но зы? [sep] Где ку пить на э том ра йоне ночь ю? [sep] И се год ня как сыг рал Спар так? [sep] Всё рав но, кто ста нет пре зи ден том [sep] Всё рав но, ка ко го раз мера грудь [sep] Всё рав но, в чём си ла, за кем прав да [sep] Всё рав но, по ре зать и ли по лос нуть [sep] Всё рав но, сколь ко се год ня сто ит рубль [sep] Всё рав но, сколь ко ос та лось си га рет [sep] Всё рав но, ста рый ле вый и ли но вый пра вый [sep] Всё рав но, аб со лют но точ но, есть бог и ли нет [sep] И пусть со сут ин тел лек ту а лы [sep] Де пу та ты и ар тис ты [sep] И дёт на хуй Ве ра По лоз ко ва [sep] Му зы кан ты и дут и, ко неч но, жур на лис ты [sep] Всё рав но, тот на род и ли не тот [sep] Я не спе ци а лист, но вро де бы ва ют и по ху же [sep] Мне всё рав но, что по эт тут боль ше чем по эт [sep] Для ме ня есть ты и я, боль ше сов сем ник то не ну жен [sep] И лет че рез сто те бя, на вер но е, спро сят вну ки [sep] \"Рас ска жи ка, дед, про что пи са ли в ин тер не те в сем на дца том го ду?\" [sep] И ты, на вер но е, гла за под лоб за ка тишь [sep] И я на де юсь, ни че го не вспом нишь [sep] Кро ме глаз мо их'"
      ]
     },
     "execution_count": 4,
     "metadata": {},
     "output_type": "execute_result"
    }
   ],
   "source": [
    "lyrics_path = '/home/marykorol/ROC/lyrics.txt'\n",
    "with open(lyrics_path) as lyrics_file:\n",
    "    lyrics = lyrics_file.readlines()[1]\n",
    "\n",
    "lyrics"
   ]
  },
  {
   "cell_type": "code",
   "execution_count": 5,
   "metadata": {},
   "outputs": [
    {
     "name": "stdout",
     "output_type": "stream",
     "text": [
      "CHORD: C: G: A:m F: C: G: A:m F: C: G: A:m F: C: G: A:m F: C: G: A:m F: C: G: A:m F: C: G: A:m F: C: G: A:m F: C: G: A:m F: C: G: A:m F: C: G: A:m F: C: G: A:m F: C: G: A:m F: C: G: A:m F: C: G: A:m F: C: G: A:m F: C: G: A:m F: C: G: A:m F: C: G: A:m F: C: G: A:m F: C: G: A:m F:\n"
     ]
    }
   ],
   "source": [
    "chord_path = '/home/marykorol/ROC/chord.txt'\n",
    "with open(chord_path) as chord_file:\n",
    "    chord = chord_file.readlines()[1]\n",
    "    chord = chord[2:].strip()\n",
    "\n",
    "print('CHORD:', chord)"
   ]
  },
  {
   "cell_type": "code",
   "execution_count": 6,
   "metadata": {},
   "outputs": [],
   "source": [
    "chord_ptr = 0\n",
    "is_maj = 1 #(мажорный или минорный лад)"
   ]
  },
  {
   "cell_type": "code",
   "execution_count": 9,
   "metadata": {},
   "outputs": [],
   "source": [
    "sentence = lyrics.strip().split('[sep]')\n",
    "name = sentence[0]\n",
    "sentence = [len(x.strip().split(' ')) * '_' for x in sentence] # parsing the syllables"
   ]
  },
  {
   "cell_type": "code",
   "execution_count": 11,
   "metadata": {},
   "outputs": [
    {
     "data": {
      "text/plain": [
       "26"
      ]
     },
     "execution_count": 11,
     "metadata": {},
     "output_type": "execute_result"
    }
   ],
   "source": [
    "len(sentence)"
   ]
  },
  {
   "cell_type": "markdown",
   "metadata": {},
   "source": [
    "# Structure recognition"
   ]
  },
  {
   "cell_type": "code",
   "execution_count": 172,
   "metadata": {},
   "outputs": [
    {
     "name": "stdout",
     "output_type": "stream",
     "text": [
      "for test: [-1, -1, -1, -1, -1, -1, -1, -1, -1, -1, -1, -1, -1, -1, -1, 11, 12, 13, 14, -1, -1, -1, 18, 19, 20, 21, -1, -1, -1, -1, -1, -1, -1, -1, -1, 6, 7, 8, -1, 10, 11, 12, 13, 14, 11, 12, 13, 18, 19, 20, 21, 18, 19, 20, 21]\n",
      "length: 55\n",
      "Struct Array:  [-1, -2, -1, -1, -1, -1, -1, -1, -1, -1, -1, -1, -2, -1, -1, 11, 12, 13, 14, 18, 19, -2, 14, 18, 19, 21, -1, -1, -1, -1, -1, -1, -1, -1, -1, 6, 7, 8, -2, 10, 11, 12, 13, 14, 11, 12, 13, 14, 18, 19, 21, 14, 18, 19, -1]\n"
     ]
    }
   ],
   "source": [
    "# structure recognition\n",
    "parent, chorus_start, chorus_length = Lyrics_match(sentence)  # The last element must be -1, because the chord should go back to tonic\n",
    "\n",
    "print('Struct Array: ', parent)"
   ]
  },
  {
   "cell_type": "code",
   "execution_count": 173,
   "metadata": {},
   "outputs": [
    {
     "name": "stdout",
     "output_type": "stream",
     "text": [
      "Recognized Chorus:  10 16\n"
     ]
    }
   ],
   "source": [
    "chorus_range = get_chorus(chorus_start, chorus_length, lyrics)\n",
    "\n",
    "print('Recognized Chorus: ', chorus_start, chorus_length)"
   ]
  },
  {
   "cell_type": "code",
   "execution_count": 174,
   "metadata": {},
   "outputs": [
    {
     "data": {
      "text/plain": [
       "range(10, 26)"
      ]
     },
     "execution_count": 174,
     "metadata": {},
     "output_type": "execute_result"
    }
   ],
   "source": [
    "chorus_range"
   ]
  },
  {
   "cell_type": "markdown",
   "metadata": {},
   "source": [
    "# Retrieval and Re-ranking"
   ]
  },
  {
   "cell_type": "code",
   "execution_count": 175,
   "metadata": {},
   "outputs": [],
   "source": [
    "select_notes = []  # selected_melodies\n",
    "select_chords = []  # selected chords\n",
    "is_chorus = 0  # is a chorus?\n",
    "note_string = ''  # the 'melody context' mentioned in the paper.\n",
    "bar_idx = 0  # current bar index. it is used to replace bar index in retrieved pieces.\n",
    "last_note_end = -16"
   ]
  },
  {
   "cell_type": "markdown",
   "metadata": {},
   "source": [
    "## Пройдёмся вручную по циклу (пройдём через каждую строчку)"
   ]
  },
  {
   "cell_type": "code",
   "execution_count": 176,
   "metadata": {},
   "outputs": [],
   "source": [
    "line_num = 0"
   ]
  },
  {
   "cell_type": "code",
   "execution_count": 677,
   "metadata": {},
   "outputs": [],
   "source": [
    "line_num+=1"
   ]
  },
  {
   "cell_type": "code",
   "execution_count": 678,
   "metadata": {},
   "outputs": [
    {
     "name": "stdout",
     "output_type": "stream",
     "text": [
      "False\n"
     ]
    }
   ],
   "source": [
    "print(line_num < len(sentence))"
   ]
  },
  {
   "cell_type": "markdown",
   "metadata": {},
   "source": [
    "Если False, то заканчиваем"
   ]
  },
  {
   "cell_type": "code",
   "execution_count": 670,
   "metadata": {},
   "outputs": [
    {
     "name": "stdout",
     "output_type": "stream",
     "text": [
      "Line  54\n",
      "Lyrics:   Good e nough, oh, -ough\n"
     ]
    }
   ],
   "source": [
    "print('Line ', line_num)\n",
    "print('Lyrics: ', lyrics.strip().split('[sep]')[line_num])"
   ]
  },
  {
   "cell_type": "code",
   "execution_count": 671,
   "metadata": {},
   "outputs": [],
   "source": [
    "cnt = len(sentence[line_num])\n",
    "if cnt <= 2 and parent[line_num] == -2:  # if length is too short, do not partially share\n",
    "    parent[line_num] = -1\n",
    "    print('Changed struct item into -1')"
   ]
  },
  {
   "cell_type": "code",
   "execution_count": 672,
   "metadata": {},
   "outputs": [
    {
     "name": "stdout",
     "output_type": "stream",
     "text": [
      "It's the last sentence\n"
     ]
    }
   ],
   "source": [
    "is_last_sentence = (line_num == len(sentence) - 1)\n",
    "if is_last_sentence:\n",
    "    print('It\\'s the last sentence')"
   ]
  },
  {
   "cell_type": "code",
   "execution_count": 673,
   "metadata": {},
   "outputs": [
    {
     "name": "stdout",
     "output_type": "stream",
     "text": [
      "is not chorus\n"
     ]
    }
   ],
   "source": [
    "if line_num in chorus_range:\n",
    "    is_chorus = 1\n",
    "    print('It is a chorus')\n",
    "else:\n",
    "    is_chorus = 0\n",
    "    print('is not chorus')"
   ]
  },
  {
   "cell_type": "code",
   "execution_count": 674,
   "metadata": {},
   "outputs": [
    {
     "name": "stdout",
     "output_type": "stream",
     "text": [
      "No sharing.\n"
     ]
    }
   ],
   "source": [
    "if parent[line_num] == -1:\n",
    "    print('No sharing.')"
   ]
  },
  {
   "cell_type": "code",
   "execution_count": 675,
   "metadata": {},
   "outputs": [
    {
     "name": "stdout",
     "output_type": "stream",
     "text": [
      "Struct value:  -1\n"
     ]
    }
   ],
   "source": [
    "print('Struct value: ', parent[line_num])"
   ]
  },
  {
   "cell_type": "markdown",
   "metadata": {},
   "source": [
    "### -1"
   ]
  },
  {
   "cell_type": "code",
   "execution_count": 676,
   "metadata": {},
   "outputs": [
    {
     "name": "stdout",
     "output_type": "stream",
     "text": [
      "No sharing.\n",
      "Retrive melody...\n",
      "Filter by pitch range...\n",
      "Selected notes:  NOT bar_112 Pos_0 Pitch_52 Dur_6 NOT bar_112 Pos_6 Pitch_52 Dur_4 NOT bar_112 Pos_10 Pitch_52 Dur_2 NOT bar_112 Pos_12 Pitch_50 Dur_4 HALF bar_113 Pos_0 Pitch_48 Dur_2 \n",
      "Chords:  C: C: C:\n"
     ]
    }
   ],
   "source": [
    "print('No sharing.')\n",
    "one_syllable_multi_notes_probabilty = random.randint(1,100)\n",
    "if one_syllable_multi_notes_probabilty == 1:\n",
    "    is_1smn = 1\n",
    "    connect_notes = random.randint(1,2)\n",
    "    cnt += connect_notes\n",
    "    connect_start = random.randint(1,cnt)\n",
    "    print('One Syllable Multi Notes range:',connect_start, connect_start + connect_notes)\n",
    "\n",
    "if len(select_notes) == 0:  # The first sentence of a song.\n",
    "    last_bar = None\n",
    "else:\n",
    "    last_bar = select_notes[-1]\n",
    "\n",
    "selected_bars = select_melody(is_maj, is_chorus, cnt, last_bar, chord, chord_ptr, is_last_sentence)\n",
    "if cnt < 9 and len(selected_bars) > 0:\n",
    "    selected_bars = lm_score(selected_bars, note_string, bar_idx)\n",
    "    # selected_bars = no_keep_trend(selected_bars)\n",
    "    bar_chord = selected_bars[random.randint(0, len(selected_bars) - 1)]\n",
    "    s_bar = bar_chord[0]\n",
    "    s_chord = bar_chord[1]\n",
    "    s_bar, bar_idx = fill_template(s_bar,\n",
    "                                    bar_idx)  # The returned bar index is the first bar index which should be in the next sentence, that is s_bar + 1.\n",
    "else:  # If no pieces is retrieved or there are too many syllables in a lyric.\n",
    "    print('No pieces is retrieved or there are too many syllables in a lyric. Split the lyric.')\n",
    "    s_bar = ''\n",
    "    s_chord = ''\n",
    "    origin_cnt = cnt\n",
    "    error = 0\n",
    "    while cnt > 0:\n",
    "        l = max(origin_cnt // 3, 5)\n",
    "        r = max(origin_cnt // 2, 7)  # Better to use long pieces, for better coherency.\n",
    "        split_len = random.randint(l, r)\n",
    "        if split_len > cnt:\n",
    "            split_len = cnt\n",
    "        print('Split at ', split_len)\n",
    "        selected_bars = select_melody(is_maj, is_chorus, split_len, last_bar, chord, chord_ptr,\n",
    "                                        is_last_sentence)\n",
    "        if len(selected_bars) > 0:\n",
    "            selected_bars = lm_score(selected_bars, note_string + s_bar, bar_idx)\n",
    "            bar_chord = selected_bars[random.randint(0, len(selected_bars) - 1)]\n",
    "            last_bar = bar_chord[0]\n",
    "            last_chord = bar_chord[1]\n",
    "            s_bar = splice(s_bar, last_bar)\n",
    "            s_chord += ' ' + last_chord\n",
    "\n",
    "            # Explanation: if this condition is true, i.e., the length of s_bar + last_bar == the length of last_bar,\n",
    "            # then the only possibility is that we are in the first step of this while loop. We need to replace the bar index in retrieved pieces with the true bar index.\n",
    "            # In the following steps, there is no need to do so because there is a implicit 'fill_template' in 'splice'.\n",
    "            if len(s_bar) == len(last_bar):\n",
    "                s_bar, bar_idx = fill_template(s_bar, bar_idx)\n",
    "            s_chord, chord_ptr = polish_chord(s_bar, s_chord, chord, chord_ptr)\n",
    "            last_bar = s_bar\n",
    "            cnt -= split_len\n",
    "        else:\n",
    "            error += 1\n",
    "            if error >= 10:\n",
    "                print('Database has not enough pieces to support ROC.')\n",
    "                exit()\n",
    "\n",
    "    s_chord = s_chord[1:]\n",
    "\n",
    "s_bar, bar_idx, last_note_end = polish(s_bar, last_note_end)\n",
    "s_chord, chord_ptr = polish_chord(s_bar, s_chord, chord, chord_ptr)\n",
    "note_string += s_bar\n",
    "select_notes.append(s_bar)\n",
    "select_chords.append(s_chord)\n",
    "print('Selected notes: ', s_bar)\n",
    "print('Chords: ', s_chord)"
   ]
  },
  {
   "cell_type": "markdown",
   "metadata": {},
   "source": [
    "### -2"
   ]
  },
  {
   "cell_type": "code",
   "execution_count": 526,
   "metadata": {},
   "outputs": [
    {
     "name": "stdout",
     "output_type": "stream",
     "text": [
      "Share partial melody from the previous lyric.\n",
      "Retrive melody...\n",
      "Filter by pitch range...\n",
      "Modified notes:  NOT bar_81 Pos_0 Pitch_62 Dur_2 NOT bar_81 Pos_2 Pitch_62 Dur_2 NOT bar_81 Pos_4 Pitch_62 Dur_2 NOT bar_81 Pos_6 Pitch_66 Dur_2 NOT bar_81 Pos_8 Pitch_71 Dur_2 HALF bar_81 Pos_10 Pitch_66 Dur_2 \n",
      "chords:  G: B:m\n"
     ]
    }
   ],
   "source": [
    "print('Share partial melody from the previous lyric.')\n",
    "\n",
    "l = min(cnt // 3,\n",
    "        3)  # As mentioned in 'Concatenation and Polish' Section, for adjacents lyrics having the same syllabels number,\n",
    "r = min(cnt // 2, 5)  # we 'polish their melodies to sound similar'\n",
    "\n",
    "# modify some notes then share.\n",
    "replace_len = random.randint(l, r)\n",
    "last_bar = ' '.join(select_notes[-1].split(' ')[:- replace_len * 5 - 1]) + ' '\n",
    "tail = select_notes[-1].split(' ')[- replace_len * 5 - 1:]\n",
    "last_chord = ' '.join(chord_truc(last_bar, select_chords[-1]))\n",
    "selected_bars = select_melody(is_maj, is_chorus, replace_len, last_bar, chord, chord_ptr,\n",
    "                                is_last_sentence)\n",
    "selected_bars = lm_score(selected_bars, note_string + last_bar, bar_idx)\n",
    "for bar_chord in selected_bars:\n",
    "    bar = bar_chord[0]\n",
    "    s_chord = bar_chord[1]\n",
    "    s_bar = splice(last_bar, bar)\n",
    "    if not_mono(s_bar) and not_duplicate(s_bar, select_notes[-1]):\n",
    "        s_chord = last_chord + ' ' + s_chord\n",
    "        break\n",
    "\n",
    "s_bar, bar_idx = fill_template(s_bar, bar_idx)\n",
    "s_bar = s_bar.split(' ')\n",
    "\n",
    "for i in range(2, len(tail)):  # Modify duration\n",
    "    if i % 5 == 2 or i % 5 == 1:  # dur and cadence\n",
    "        s_bar[-i] = tail[-i]\n",
    "s_bar = ' '.join(s_bar)\n",
    "\n",
    "s_bar, bar_idx, last_note_end = polish(s_bar, last_note_end, True)\n",
    "s_chord, chord_ptr = polish_chord(s_bar, s_chord, chord, chord_ptr)\n",
    "note_string += s_bar\n",
    "select_notes.append(s_bar)\n",
    "select_chords.append(s_chord)\n",
    "\n",
    "print('Modified notes: ', s_bar)\n",
    "print('chords: ', s_chord)"
   ]
  },
  {
   "cell_type": "markdown",
   "metadata": {},
   "source": [
    "### else"
   ]
  },
  {
   "cell_type": "code",
   "execution_count": 667,
   "metadata": {},
   "outputs": [
    {
     "name": "stdout",
     "output_type": "stream",
     "text": [
      "Share notes with sentence No. 19\n"
     ]
    }
   ],
   "source": [
    "# 'struct value is postive' as mentioned in the paper, we directly share melodies.\n",
    "print('Share notes with sentence No.', parent[line_num])\n",
    "\n",
    "s_bar = copy.deepcopy(select_notes[parent[line_num]])\n",
    "s_chord = copy.deepcopy(select_chords[parent[line_num]])\n",
    "s_bar, bar_idx = fill_template(s_bar, bar_idx)\n",
    "s_bar, bar_idx, last_note_end = polish(s_bar, last_note_end, True)\n",
    "s_chord, chord_ptr = polish_chord(s_bar, s_chord, chord, chord_ptr)\n",
    "note_string += s_bar\n",
    "select_notes.append(s_bar)\n",
    "select_chords.append(s_chord)"
   ]
  },
  {
   "cell_type": "markdown",
   "metadata": {},
   "source": [
    "### Если struct value = -1 (True)"
   ]
  },
  {
   "cell_type": "code",
   "execution_count": 26,
   "metadata": {},
   "outputs": [],
   "source": [
    "# Будет ли слог с несколькими нотами?\n",
    "one_syllable_multi_notes_probabilty = random.randint(1,100)\n",
    "if one_syllable_multi_notes_probabilty == 1:\n",
    "    print('One syllable will have several notes')\n",
    "    is_1smn = 1\n",
    "    connect_notes = random.randint(1,2)\n",
    "    cnt += connect_notes\n",
    "    connect_start = random.randint(1,cnt)\n",
    "    print('One Syllable Multi Notes range:',connect_start, connect_start + connect_notes)"
   ]
  },
  {
   "cell_type": "code",
   "execution_count": 27,
   "metadata": {},
   "outputs": [
    {
     "name": "stdout",
     "output_type": "stream",
     "text": [
      "Это первая строчка в песне\n"
     ]
    }
   ],
   "source": [
    "if len(select_notes) == 0:  # The first sentence of a song.\n",
    "    last_bar = None\n",
    "    print('Это первая строчка в песне')\n",
    "else:\n",
    "    last_bar = select_notes[-1]\n",
    "    print('Last bar: ', last_bar)"
   ]
  },
  {
   "cell_type": "code",
   "execution_count": 28,
   "metadata": {},
   "outputs": [
    {
     "name": "stdout",
     "output_type": "stream",
     "text": [
      "Retrive melody...\n",
      "Start a song...\n",
      "('NOT bar_X Pos_4 Pitch_64 Dur_1 NOT bar_X Pos_5 Pitch_64 Dur_1 NOT bar_X Pos_7 Pitch_64 Dur_4 NOT bar_X Pos_11 Pitch_62 Dur_1 NOT bar_X Pos_12 Pitch_60 Dur_2 NOT bar_X Pos_14 Pitch_62 Dur_2 NOT bar_Y Pos_0 Pitch_64 Dur_2 NOT bar_Y Pos_2 Pitch_64 Dur_1 NOT bar_Y Pos_3 Pitch_64 Dur_3 NOT bar_Y Pos_6 Pitch_64 Dur_1 NOT bar_Y Pos_7 Pitch_64 Dur_4 NOT bar_Y Pos_11 Pitch_62 Dur_1 NOT bar_Y Pos_12 Pitch_60 Dur_2 NOT bar_Y Pos_14 Pitch_62 Dur_2 ', 'C: C: C: C: C:')\n"
     ]
    }
   ],
   "source": [
    "selected_bars = select_melody(is_maj, is_chorus, cnt, last_bar, chord, chord_ptr, is_last_sentence)\n",
    "print(selected_bars[0])"
   ]
  },
  {
   "cell_type": "code",
   "execution_count": 29,
   "metadata": {},
   "outputs": [],
   "source": [
    "if cnt < 9 and len(selected_bars) > 0:\n",
    "    print('Количество слогов в строчке меньше 9')"
   ]
  },
  {
   "cell_type": "markdown",
   "metadata": {},
   "source": [
    "Если есть вывод, то выполнить:"
   ]
  },
  {
   "cell_type": "code",
   "execution_count": 1320,
   "metadata": {},
   "outputs": [],
   "source": [
    "selected_bars = lm_score(selected_bars, note_string, bar_idx)\n",
    "# selected_bars = no_keep_trend(selected_bars)\n",
    "bar_chord = selected_bars[random.randint(0, len(selected_bars) - 1)]\n",
    "s_bar = bar_chord[0]\n",
    "s_chord = bar_chord[1]\n",
    "s_bar, bar_idx = fill_template(s_bar, bar_idx) \n",
    "# The returned bar index is the first bar index which should be in the next sentence, that is s_bar + 1"
   ]
  },
  {
   "cell_type": "markdown",
   "metadata": {},
   "source": [
    "Если нет: т. е. количество слогов в строчке большое, и/или не было найдено подходящих мелодий-кусочков"
   ]
  },
  {
   "cell_type": "code",
   "execution_count": 30,
   "metadata": {},
   "outputs": [
    {
     "name": "stdout",
     "output_type": "stream",
     "text": [
      "No pieces is retrieved or there are too many syllables in a lyric. Split the lyric.\n"
     ]
    }
   ],
   "source": [
    "print('No pieces is retrieved or there are too many syllables in a lyric. Split the lyric.')\n",
    "\n",
    "s_bar = ''\n",
    "s_chord = ''\n",
    "origin_cnt = cnt\n",
    "error = 0"
   ]
  },
  {
   "cell_type": "code",
   "execution_count": 31,
   "metadata": {},
   "outputs": [
    {
     "name": "stdout",
     "output_type": "stream",
     "text": [
      "Длина строчки:  14\n"
     ]
    }
   ],
   "source": [
    "print('Длина строчки: ', origin_cnt)"
   ]
  },
  {
   "cell_type": "markdown",
   "metadata": {},
   "source": [
    "#### делается пока cnt > 0: "
   ]
  },
  {
   "cell_type": "code",
   "execution_count": 32,
   "metadata": {},
   "outputs": [
    {
     "data": {
      "text/plain": [
       "True"
      ]
     },
     "execution_count": 32,
     "metadata": {},
     "output_type": "execute_result"
    }
   ],
   "source": [
    "cnt > 0"
   ]
  },
  {
   "cell_type": "code",
   "execution_count": 53,
   "metadata": {},
   "outputs": [],
   "source": [
    "# Уменьшим лину строчки\n",
    "l = max(origin_cnt // 3, 5)\n",
    "r = max(origin_cnt // 2, 7)  # Better to use long pieces, for better coherency.\n",
    "split_len = random.randint(l, r)"
   ]
  },
  {
   "cell_type": "code",
   "execution_count": 54,
   "metadata": {},
   "outputs": [
    {
     "name": "stdout",
     "output_type": "stream",
     "text": [
      "Split at  4\n"
     ]
    }
   ],
   "source": [
    "if split_len > cnt:\n",
    "    split_len = cnt\n",
    "print('Split at ', split_len)"
   ]
  },
  {
   "cell_type": "code",
   "execution_count": 55,
   "metadata": {},
   "outputs": [
    {
     "name": "stdout",
     "output_type": "stream",
     "text": [
      "Retrive melody...\n",
      "Filter by pitch range...\n",
      "61  melodies retrieved\n"
     ]
    }
   ],
   "source": [
    "selected_bars = select_melody(is_maj, is_chorus, split_len, last_bar, chord, chord_ptr, is_last_sentence)\n",
    "print(len(selected_bars), ' melodies retrieved')"
   ]
  },
  {
   "cell_type": "markdown",
   "metadata": {},
   "source": [
    "Если мелодий не нашлось, то:"
   ]
  },
  {
   "cell_type": "code",
   "execution_count": 360,
   "metadata": {},
   "outputs": [],
   "source": [
    "error += 1\n",
    "if error >= 10:\n",
    "    print('Database has not enough pieces to support ROC.')"
   ]
  },
  {
   "cell_type": "markdown",
   "metadata": {},
   "source": [
    "Если хотя бы сколько-то мелодий нашлось, выполнить:"
   ]
  },
  {
   "cell_type": "code",
   "execution_count": 56,
   "metadata": {},
   "outputs": [
    {
     "data": {
      "text/plain": [
       "16"
      ]
     },
     "execution_count": 56,
     "metadata": {},
     "output_type": "execute_result"
    }
   ],
   "source": [
    "selected_bars = lm_score(selected_bars, note_string + s_bar, bar_idx)\n",
    "len(selected_bars)"
   ]
  },
  {
   "cell_type": "code",
   "execution_count": 57,
   "metadata": {},
   "outputs": [
    {
     "name": "stdout",
     "output_type": "stream",
     "text": [
      "Last bar:  NOT bar_X Pos_8 Pitch_64 Dur_2 NOT bar_X Pos_10 Pitch_67 Dur_2 NOT bar_X Pos_12 Pitch_69 Dur_2 NOT bar_X Pos_14 Pitch_71 Dur_2 \n",
      "Last chord:  E:m E:m E:m\n"
     ]
    }
   ],
   "source": [
    "bar_chord = selected_bars[random.randint(0, len(selected_bars) - 1)]\n",
    "last_bar = bar_chord[0]\n",
    "last_chord = bar_chord[1]\n",
    "print('Last bar: ', last_bar)\n",
    "print('Last chord: ', last_chord)"
   ]
  },
  {
   "cell_type": "code",
   "execution_count": 58,
   "metadata": {},
   "outputs": [
    {
     "data": {
      "text/plain": [
       "'NOT bar_0 Pos_4 Pitch_64 Dur_2 NOT bar_0 Pos_6 Pitch_64 Dur_2 NOT bar_0 Pos_8 Pitch_64 Dur_4 NOT bar_0 Pos_12 Pitch_62 Dur_2 AUT bar_0 Pos_14 Pitch_60 Dur_8 NOT bar_0 Pos_6 Pitch_67 Dur_2 NOT bar_0 Pos_8 Pitch_67 Dur_2 NOT bar_0 Pos_10 Pitch_69 Dur_2 NOT bar_0 Pos_12 Pitch_71 Dur_2 NOT bar_0 Pos_14 Pitch_67 Dur_2 NOT bar_1 Pos_0 Pitch_64 Dur_2 NOT bar_1 Pos_2 Pitch_67 Dur_2 NOT bar_1 Pos_4 Pitch_69 Dur_2 NOT bar_1 Pos_6 Pitch_71 Dur_2 '"
      ]
     },
     "execution_count": 58,
     "metadata": {},
     "output_type": "execute_result"
    }
   ],
   "source": [
    "# Соединяем полученную мелодию с предыдущей сохраняя все правила\n",
    "s_bar = splice(s_bar, last_bar)\n",
    "s_bar"
   ]
  },
  {
   "cell_type": "code",
   "execution_count": 59,
   "metadata": {},
   "outputs": [
    {
     "name": "stdout",
     "output_type": "stream",
     "text": [
      " C: E:m E:m E:m\n"
     ]
    }
   ],
   "source": [
    "# Соединяем текущие аккорды с предыдущими\n",
    "s_chord += ' ' + last_chord\n",
    "print(s_chord)"
   ]
  },
  {
   "cell_type": "code",
   "execution_count": 60,
   "metadata": {},
   "outputs": [],
   "source": [
    "# Explanation: if this condition is true, i.e., the length of s_bar + last_bar == the length of last_bar,\n",
    "# then the only possibility is that we are in the first step of this while loop. \n",
    "# We need to replace the bar index in retrieved pieces with the true bar index.\n",
    "# In the following steps, there is no need to do so because there is a implicit 'fill_template' in 'splice'.\n",
    "if len(s_bar) == len(last_bar):\n",
    "    s_bar, bar_idx = fill_template(s_bar, bar_idx)"
   ]
  },
  {
   "cell_type": "code",
   "execution_count": 61,
   "metadata": {},
   "outputs": [],
   "source": [
    "s_chord, chord_ptr = polish_chord(s_bar, s_chord, chord, chord_ptr)\n",
    "last_bar = s_bar\n",
    "cnt -= split_len"
   ]
  },
  {
   "cell_type": "code",
   "execution_count": 62,
   "metadata": {},
   "outputs": [
    {
     "data": {
      "text/plain": [
       "0"
      ]
     },
     "execution_count": 62,
     "metadata": {},
     "output_type": "execute_result"
    }
   ],
   "source": [
    "cnt"
   ]
  },
  {
   "cell_type": "markdown",
   "metadata": {},
   "source": [
    "#### как только перестанет выполняться cnt > 0: "
   ]
  },
  {
   "cell_type": "code",
   "execution_count": 63,
   "metadata": {},
   "outputs": [],
   "source": [
    "s_chord = s_chord[1:]"
   ]
  },
  {
   "cell_type": "code",
   "execution_count": 64,
   "metadata": {},
   "outputs": [
    {
     "data": {
      "text/plain": [
       "'C: E:m'"
      ]
     },
     "execution_count": 64,
     "metadata": {},
     "output_type": "execute_result"
    }
   ],
   "source": [
    "s_chord"
   ]
  },
  {
   "cell_type": "markdown",
   "metadata": {},
   "source": [
    "#### продолжаем работать с полученной мелодией"
   ]
  },
  {
   "cell_type": "code",
   "execution_count": 65,
   "metadata": {},
   "outputs": [],
   "source": [
    "s_bar, bar_idx, last_note_end = polish(s_bar, last_note_end)"
   ]
  },
  {
   "cell_type": "code",
   "execution_count": 66,
   "metadata": {},
   "outputs": [
    {
     "name": "stdout",
     "output_type": "stream",
     "text": [
      "C: C: E:m E:m\n"
     ]
    },
    {
     "data": {
      "text/plain": [
       "2"
      ]
     },
     "execution_count": 66,
     "metadata": {},
     "output_type": "execute_result"
    }
   ],
   "source": [
    "s_chord, chord_ptr = polish_chord(s_bar, s_chord, chord, chord_ptr)\n",
    "print(s_chord)\n",
    "chord_ptr"
   ]
  },
  {
   "cell_type": "code",
   "execution_count": 67,
   "metadata": {},
   "outputs": [
    {
     "name": "stdout",
     "output_type": "stream",
     "text": [
      "Selected notes:  NOT bar_0 Pos_0 Pitch_64 Dur_2 NOT bar_0 Pos_2 Pitch_64 Dur_2 NOT bar_0 Pos_4 Pitch_64 Dur_4 NOT bar_0 Pos_8 Pitch_62 Dur_2 NOT bar_0 Pos_10 Pitch_60 Dur_8 NOT bar_1 Pos_2 Pitch_67 Dur_2 NOT bar_1 Pos_4 Pitch_67 Dur_2 NOT bar_1 Pos_6 Pitch_69 Dur_2 NOT bar_1 Pos_8 Pitch_71 Dur_2 NOT bar_1 Pos_10 Pitch_67 Dur_2 NOT bar_1 Pos_12 Pitch_64 Dur_2 NOT bar_1 Pos_14 Pitch_67 Dur_2 NOT bar_2 Pos_0 Pitch_69 Dur_2 HALF bar_2 Pos_2 Pitch_71 Dur_2 \n",
      "Chords:  C: C: E:m E:m\n"
     ]
    }
   ],
   "source": [
    "note_string += s_bar\n",
    "select_notes.append(s_bar)\n",
    "select_chords.append(s_chord)\n",
    "print('Selected notes: ', s_bar)\n",
    "print('Chords: ', s_chord)"
   ]
  },
  {
   "cell_type": "markdown",
   "metadata": {},
   "source": [
    "### Если struct value = -2 (True)"
   ]
  },
  {
   "cell_type": "code",
   "execution_count": 1142,
   "metadata": {},
   "outputs": [
    {
     "name": "stdout",
     "output_type": "stream",
     "text": [
      "Share partial melody from the previous lyric.\n",
      "l =  2  r =  3\n"
     ]
    }
   ],
   "source": [
    "print('Share partial melody from the previous lyric.')\n",
    "l = min(cnt // 3, 3)  \n",
    "# As mentioned in 'Concatenation and Polish' Section, for adjacents lyrics having the same syllabels number,\n",
    "r = min(cnt // 2, 5)  \n",
    "# we 'polish their melodies to sound similar'\n",
    "print('l = ', l, ' r = ', r)"
   ]
  },
  {
   "cell_type": "code",
   "execution_count": 1143,
   "metadata": {},
   "outputs": [
    {
     "name": "stdout",
     "output_type": "stream",
     "text": [
      "replace length:  3\n",
      "NOT bar_90 Pos_0 Pitch_55 Dur_2 NOT bar_90 Pos_2 Pitch_55 Dur_2 NOT bar_90 Pos_4 Pitch_55 Dur_2 \n"
     ]
    }
   ],
   "source": [
    "# modify some notes then share.\n",
    "replace_len = random.randint(l, r)\n",
    "print('replace length: ', replace_len)\n",
    "last_bar = ' '.join(select_notes[-1].split(' ')[:- replace_len * 5 - 1]) + ' '\n",
    "print(last_bar)"
   ]
  },
  {
   "cell_type": "code",
   "execution_count": 1144,
   "metadata": {},
   "outputs": [
    {
     "name": "stdout",
     "output_type": "stream",
     "text": [
      "Retrive melody...\n",
      "Filter by pitch range...\n",
      "last chord:  C:\n"
     ]
    }
   ],
   "source": [
    "tail = select_notes[-1].split(' ')[- replace_len * 5 - 1:]\n",
    "last_chord = ' '.join(chord_truc(last_bar, select_chords[-1]))\n",
    "selected_bars = select_melody(is_maj, is_chorus, replace_len, last_bar, chord, chord_ptr, is_last_sentence)\n",
    "\n",
    "print('last chord: ', last_chord)"
   ]
  },
  {
   "cell_type": "code",
   "execution_count": 1145,
   "metadata": {},
   "outputs": [
    {
     "data": {
      "text/plain": [
       "[('NOT bar_X Pos_10 Pitch_55 Dur_2 NOT bar_X Pos_12 Pitch_57 Dur_2 NOT bar_X Pos_14 Pitch_59 Dur_2 ',\n",
       "  'E:m E:m E:m'),\n",
       " ('NOT bar_X Pos_8 Pitch_55 Dur_2 NOT bar_X Pos_10 Pitch_57 Dur_2 NOT bar_X Pos_12 Pitch_59 Dur_4 ',\n",
       "  'E:m E:m E:m'),\n",
       " ('NOT bar_X Pos_10 Pitch_55 Dur_2 NOT bar_X Pos_12 Pitch_55 Dur_2 NOT bar_X Pos_14 Pitch_59 Dur_4 ',\n",
       "  'E:m E:m E:m'),\n",
       " ('NOT bar_X Pos_0 Pitch_59 Dur_4 NOT bar_X Pos_4 Pitch_55 Dur_2 AUT bar_X Pos_6 Pitch_55 Dur_6 ',\n",
       "  'E:m E:m E:m'),\n",
       " ('NOT bar_X Pos_0 Pitch_59 Dur_4 NOT bar_X Pos_4 Pitch_57 Dur_2 AUT bar_X Pos_6 Pitch_55 Dur_6 ',\n",
       "  'E:m E:m E:m'),\n",
       " ('NOT bar_X Pos_10 Pitch_52 Dur_2 NOT bar_X Pos_12 Pitch_57 Dur_2 NOT bar_X Pos_14 Pitch_59 Dur_2 ',\n",
       "  'E:m E:m E:m'),\n",
       " ('NOT bar_X Pos_11 Pitch_55 Dur_2 NOT bar_X Pos_13 Pitch_57 Dur_2 NOT bar_X Pos_15 Pitch_59 Dur_2 ',\n",
       "  'E:m E:m E:m'),\n",
       " ('NOT bar_X Pos_12 Pitch_55 Dur_2 NOT bar_X Pos_14 Pitch_57 Dur_1 NOT bar_X Pos_15 Pitch_59 Dur_1 ',\n",
       "  'E:m E:m E:m'),\n",
       " ('NOT bar_X Pos_0 Pitch_57 Dur_2 NOT bar_X Pos_2 Pitch_59 Dur_2 HALF bar_X Pos_4 Pitch_55 Dur_8 ',\n",
       "  'E:m E:m E:m'),\n",
       " ('NOT bar_X Pos_12 Pitch_55 Dur_1 NOT bar_X Pos_13 Pitch_57 Dur_1 NOT bar_X Pos_15 Pitch_59 Dur_1 ',\n",
       "  'E:m E:m E:m'),\n",
       " ('NOT bar_X Pos_4 Pitch_55 Dur_4 NOT bar_X Pos_8 Pitch_59 Dur_4 NOT bar_X Pos_12 Pitch_55 Dur_4 ',\n",
       "  'E:m E:m E:m'),\n",
       " ('NOT bar_X Pos_10 Pitch_52 Dur_2 NOT bar_X Pos_12 Pitch_55 Dur_2 HALF bar_X Pos_14 Pitch_59 Dur_6 ',\n",
       "  'E:m E:m E:m'),\n",
       " ('NOT bar_X Pos_0 Pitch_57 Dur_2 NOT bar_X Pos_2 Pitch_59 Dur_2 HALF bar_X Pos_4 Pitch_55 Dur_12 ',\n",
       "  'E:m E:m E:m'),\n",
       " ('NOT bar_X Pos_0 Pitch_52 Dur_2 NOT bar_X Pos_2 Pitch_55 Dur_4 AUT bar_X Pos_6 Pitch_59 Dur_8 ',\n",
       "  'E:m E:m E:m'),\n",
       " ('NOT bar_X Pos_10 Pitch_55 Dur_1 NOT bar_X Pos_12 Pitch_55 Dur_2 HALF bar_X Pos_14 Pitch_59 Dur_6 ',\n",
       "  'E:m E:m E:m'),\n",
       " ('HALF bar_X Pos_0 Pitch_59 Dur_12 NOT bar_X Pos_12 Pitch_55 Dur_2 NOT bar_X Pos_14 Pitch_57 Dur_2 ',\n",
       "  'E:m E:m E:m'),\n",
       " ('NOT bar_X Pos_0 Pitch_59 Dur_2 NOT bar_X Pos_2 Pitch_57 Dur_1 HALF bar_X Pos_3 Pitch_55 Dur_6 ',\n",
       "  'E:m E:m E:m'),\n",
       " ('NOT bar_X Pos_2 Pitch_57 Dur_1 NOT bar_X Pos_3 Pitch_59 Dur_1 AUT bar_X Pos_4 Pitch_55 Dur_6 ',\n",
       "  'E:m E:m E:m'),\n",
       " ('NOT bar_X Pos_11 Pitch_57 Dur_1 NOT bar_X Pos_12 Pitch_59 Dur_2 NOT bar_X Pos_14 Pitch_55 Dur_2 ',\n",
       "  'E:m E:m E:m'),\n",
       " ('NOT bar_X Pos_0 Pitch_59 Dur_2 NOT bar_X Pos_2 Pitch_57 Dur_1 AUT bar_X Pos_3 Pitch_55 Dur_6 ',\n",
       "  'E:m E:m E:m'),\n",
       " ('NOT bar_X Pos_10 Pitch_59 Dur_2 NOT bar_X Pos_12 Pitch_55 Dur_2 NOT bar_X Pos_14 Pitch_67 Dur_2 ',\n",
       "  'E:m E:m E:m'),\n",
       " ('NOT bar_X Pos_10 Pitch_55 Dur_1 NOT bar_X Pos_12 Pitch_57 Dur_1 NOT bar_X Pos_14 Pitch_59 Dur_1 ',\n",
       "  'E:m E:m E:m'),\n",
       " ('NOT bar_X Pos_12 Pitch_55 Dur_1 NOT bar_X Pos_13 Pitch_57 Dur_1 NOT bar_X Pos_14 Pitch_59 Dur_3 ',\n",
       "  'E:m E:m E:m'),\n",
       " ('AUT bar_X Pos_0 Pitch_59 Dur_8 NOT bar_X Pos_8 Pitch_52 Dur_4 NOT bar_X Pos_12 Pitch_52 Dur_4 ',\n",
       "  'E:m E:m E:m'),\n",
       " ('NOT bar_X Pos_0 Pitch_59 Dur_2 NOT bar_X Pos_2 Pitch_64 Dur_2 HALF bar_X Pos_4 Pitch_64 Dur_12 ',\n",
       "  'E:m E:m E:m'),\n",
       " ('NOT bar_X Pos_0 Pitch_59 Dur_4 NOT bar_X Pos_4 Pitch_64 Dur_4 HALF bar_X Pos_8 Pitch_67 Dur_4 ',\n",
       "  'E:m E:m E:m'),\n",
       " ('NOT bar_X Pos_6 Pitch_59 Dur_2 NOT bar_X Pos_8 Pitch_64 Dur_4 NOT bar_X Pos_12 Pitch_67 Dur_4 ',\n",
       "  'E:m E:m E:m'),\n",
       " ('NOT bar_X Pos_12 Pitch_55 Dur_2 NOT bar_X Pos_14 Pitch_57 Dur_1 NOT bar_X Pos_15 Pitch_59 Dur_4 ',\n",
       "  'E:m E:m E:m'),\n",
       " ('NOT bar_X Pos_8 Pitch_52 Dur_2 NOT bar_X Pos_10 Pitch_55 Dur_4 NOT bar_X Pos_14 Pitch_59 Dur_3 ',\n",
       "  'E:m E:m E:m'),\n",
       " ('NOT bar_X Pos_0 Pitch_59 Dur_4 NOT bar_X Pos_4 Pitch_64 Dur_4 AUT bar_X Pos_8 Pitch_67 Dur_4 ',\n",
       "  'E:m E:m E:m')]"
      ]
     },
     "execution_count": 1145,
     "metadata": {},
     "output_type": "execute_result"
    }
   ],
   "source": [
    "selected_bars = lm_score(selected_bars, note_string + last_bar, bar_idx)\n",
    "selected_bars"
   ]
  },
  {
   "cell_type": "markdown",
   "metadata": {},
   "source": [
    "#### for bar chord in selected bars"
   ]
  },
  {
   "cell_type": "code",
   "execution_count": 1146,
   "metadata": {},
   "outputs": [],
   "source": [
    "j = 0"
   ]
  },
  {
   "cell_type": "code",
   "execution_count": 1147,
   "metadata": {},
   "outputs": [
    {
     "data": {
      "text/plain": [
       "False"
      ]
     },
     "execution_count": 1147,
     "metadata": {},
     "output_type": "execute_result"
    }
   ],
   "source": [
    "j == len(selected_bars)"
   ]
  },
  {
   "cell_type": "code",
   "execution_count": 1148,
   "metadata": {},
   "outputs": [
    {
     "name": "stdout",
     "output_type": "stream",
     "text": [
      "('NOT bar_X Pos_10 Pitch_55 Dur_2 NOT bar_X Pos_12 Pitch_57 Dur_2 NOT bar_X Pos_14 Pitch_59 Dur_2 ', 'E:m E:m E:m')\n",
      "E:m E:m E:m\n"
     ]
    }
   ],
   "source": [
    "bar_chord = selected_bars[j]\n",
    "bar = bar_chord[0]\n",
    "s_chord = bar_chord[1]\n",
    "print(bar_chord)\n",
    "print(s_chord)"
   ]
  },
  {
   "cell_type": "code",
   "execution_count": 1149,
   "metadata": {},
   "outputs": [
    {
     "data": {
      "text/plain": [
       "'NOT bar_90 Pos_0 Pitch_55 Dur_2 NOT bar_90 Pos_2 Pitch_55 Dur_2 NOT bar_90 Pos_4 Pitch_55 Dur_2 NOT bar_90 Pos_6 Pitch_55 Dur_2 NOT bar_90 Pos_8 Pitch_57 Dur_2 NOT bar_90 Pos_10 Pitch_59 Dur_2 '"
      ]
     },
     "execution_count": 1149,
     "metadata": {},
     "output_type": "execute_result"
    }
   ],
   "source": [
    "s_bar = splice(last_bar, bar)\n",
    "s_bar"
   ]
  },
  {
   "cell_type": "code",
   "execution_count": 1150,
   "metadata": {},
   "outputs": [
    {
     "data": {
      "text/plain": [
       "'NOT bar_90 Pos_0 Pitch_55 Dur_2 NOT bar_90 Pos_2 Pitch_55 Dur_2 NOT bar_90 Pos_4 Pitch_55 Dur_2 NOT bar_90 Pos_6 Pitch_52 Dur_2 NOT bar_90 Pos_8 Pitch_50 Dur_2 HALF bar_90 Pos_10 Pitch_48 Dur_2 '"
      ]
     },
     "execution_count": 1150,
     "metadata": {},
     "output_type": "execute_result"
    }
   ],
   "source": [
    "select_notes[-1]"
   ]
  },
  {
   "cell_type": "code",
   "execution_count": 1151,
   "metadata": {},
   "outputs": [
    {
     "name": "stdout",
     "output_type": "stream",
     "text": [
      "The melody is not monotonous and doesn't duplicate the previous one\n"
     ]
    }
   ],
   "source": [
    "if not_mono(s_bar) and not_duplicate(s_bar, select_notes[-1]):\n",
    "    s_chord = last_chord + ' ' + s_chord\n",
    "    print('The melody is not monotonous and doesn\\'t duplicate the previous one')"
   ]
  },
  {
   "cell_type": "markdown",
   "metadata": {},
   "source": [
    "Если вывод есть, то выход из цикла"
   ]
  },
  {
   "cell_type": "code",
   "execution_count": null,
   "metadata": {},
   "outputs": [],
   "source": [
    "j += 1"
   ]
  },
  {
   "cell_type": "markdown",
   "metadata": {},
   "source": [
    "#### продолжение"
   ]
  },
  {
   "cell_type": "code",
   "execution_count": 1152,
   "metadata": {},
   "outputs": [],
   "source": [
    "s_bar, bar_idx = fill_template(s_bar, bar_idx)\n",
    "s_bar = s_bar.split(' ')"
   ]
  },
  {
   "cell_type": "code",
   "execution_count": 1153,
   "metadata": {},
   "outputs": [],
   "source": [
    "for k in range(2, len(tail)):  # Modify duration\n",
    "    if k % 5 == 2 or k % 5 == 1:  # dur and cadence\n",
    "        s_bar[-k] = tail[-k]             "
   ]
  },
  {
   "cell_type": "code",
   "execution_count": 1154,
   "metadata": {},
   "outputs": [],
   "source": [
    "s_bar = ' '.join(s_bar)"
   ]
  },
  {
   "cell_type": "code",
   "execution_count": 1155,
   "metadata": {},
   "outputs": [],
   "source": [
    "s_bar, bar_idx, last_note_end = polish(s_bar, last_note_end, True) # melody polishing\n",
    "s_chord, chord_ptr = polish_chord(s_bar, s_chord, chord, chord_ptr) # chord polishing"
   ]
  },
  {
   "cell_type": "code",
   "execution_count": 1156,
   "metadata": {},
   "outputs": [
    {
     "name": "stdout",
     "output_type": "stream",
     "text": [
      "Modified notes:  NOT bar_91 Pos_0 Pitch_55 Dur_2 NOT bar_91 Pos_2 Pitch_55 Dur_2 NOT bar_91 Pos_4 Pitch_55 Dur_2 NOT bar_91 Pos_6 Pitch_55 Dur_2 NOT bar_91 Pos_8 Pitch_57 Dur_2 HALF bar_91 Pos_10 Pitch_59 Dur_2 \n",
      "chords:  C: E:m\n"
     ]
    }
   ],
   "source": [
    "note_string += s_bar\n",
    "select_notes.append(s_bar)\n",
    "select_chords.append(s_chord)\n",
    "\n",
    "print('Modified notes: ', s_bar)\n",
    "print('chords: ', s_chord)"
   ]
  },
  {
   "cell_type": "markdown",
   "metadata": {},
   "source": [
    "### Если не -1 и не -2"
   ]
  },
  {
   "cell_type": "code",
   "execution_count": 1306,
   "metadata": {},
   "outputs": [
    {
     "name": "stdout",
     "output_type": "stream",
     "text": [
      "Share notes with sentence No. 19\n"
     ]
    }
   ],
   "source": [
    "# 'struct value is postive' as mentioned in the paper, we directly share melodies.\n",
    "print('Share notes with sentence No.', parent[i])"
   ]
  },
  {
   "cell_type": "code",
   "execution_count": 1307,
   "metadata": {},
   "outputs": [],
   "source": [
    "s_bar = copy.deepcopy(select_notes[parent[i]])\n",
    "s_chord = copy.deepcopy(select_chords[parent[i]])\n",
    "\n",
    "s_bar, bar_idx = fill_template(s_bar, bar_idx)\n",
    "s_bar, bar_idx, last_note_end = polish(s_bar, last_note_end, True)\n",
    "s_chord, chord_ptr = polish_chord(s_bar, s_chord, chord, chord_ptr)\n",
    "\n",
    "note_string += s_bar\n",
    "select_notes.append(s_bar)\n",
    "select_chords.append(s_chord)"
   ]
  },
  {
   "cell_type": "markdown",
   "metadata": {},
   "source": [
    "### Мелодия сделана"
   ]
  },
  {
   "cell_type": "markdown",
   "metadata": {},
   "source": [
    "# Быстрый код"
   ]
  },
  {
   "cell_type": "code",
   "execution_count": 6,
   "metadata": {},
   "outputs": [],
   "source": [
    "is_debug = True"
   ]
  },
  {
   "cell_type": "code",
   "execution_count": 7,
   "metadata": {},
   "outputs": [
    {
     "name": "stdout",
     "output_type": "stream",
     "text": [
      "Tonality: 1\n",
      "for test: [-1, -1, -1, -1, -1, -1, -1, -1, -1, -1, -1, -1, -1, -1, -1, -1, -1, -1, -1, -1, -1, -1, -1, -1, -1, -1]\n",
      "length: 26\n",
      "Struct Array:  [-1, -1, -1, -1, -1, -1, -1, -1, 7, 8, -2, -1, -1, -1, -1, -1, -1, -1, -1, -1, -1, -1, -1, -1, -1, -1]\n",
      "Recognized Chorus:  -1 2\n",
      "Lyrics:  Кто зна ет, за чем за жи га ют звёз ды? \n",
      "No sharing.\n",
      "Retrive melody...\n",
      "Start a song...\n",
      "No pieces is retrieved or there are too many syllables in a lyric. Split the lyric.\n",
      "Split at  7\n",
      "Retrive melody...\n",
      "Start a song...\n",
      "Split at  4\n",
      "Retrive melody...\n",
      "Filter by pitch range...\n",
      "Selected notes:  NOT bar_0 Pos_0 Pitch_64 Dur_2 NOT bar_0 Pos_2 Pitch_64 Dur_2 NOT bar_0 Pos_4 Pitch_64 Dur_3 NOT bar_0 Pos_7 Pitch_62 Dur_2 NOT bar_0 Pos_9 Pitch_60 Dur_3 NOT bar_0 Pos_12 Pitch_62 Dur_2 NOT bar_0 Pos_14 Pitch_64 Dur_3 NOT bar_1 Pos_1 Pitch_64 Dur_2 NOT bar_1 Pos_3 Pitch_62 Dur_5 NOT bar_1 Pos_8 Pitch_55 Dur_2 HALF bar_1 Pos_10 Pitch_55 Dur_2 \n",
      "Chords:  C: C:\n",
      "----------------------------------------------------------------------------------------------------------\n",
      "Lyrics:   Для ко го о кон мос ковс ких свет и ко гда за кон чит ся зи ма? \n",
      "No sharing.\n",
      "Retrive melody...\n",
      "Filter by pitch range...\n",
      "No pieces is retrieved or there are too many syllables in a lyric. Split the lyric.\n",
      "Split at  6\n",
      "Retrive melody...\n",
      "Filter by pitch range...\n",
      "Split at  7\n",
      "Retrive melody...\n",
      "Filter by pitch range...\n",
      "Split at  5\n",
      "Retrive melody...\n",
      "Filter by pitch range...\n",
      "Selected notes:  NOT bar_2 Pos_0 Pitch_50 Dur_2 NOT bar_2 Pos_2 Pitch_59 Dur_2 NOT bar_2 Pos_4 Pitch_60 Dur_2 NOT bar_2 Pos_6 Pitch_59 Dur_4 NOT bar_2 Pos_10 Pitch_57 Dur_2 NOT bar_2 Pos_12 Pitch_55 Dur_2 NOT bar_2 Pos_14 Pitch_57 Dur_2 NOT bar_3 Pos_0 Pitch_64 Dur_2 NOT bar_3 Pos_2 Pitch_72 Dur_2 NOT bar_3 Pos_4 Pitch_76 Dur_2 NOT bar_3 Pos_6 Pitch_72 Dur_2 NOT bar_3 Pos_8 Pitch_76 Dur_2 NOT bar_3 Pos_10 Pitch_72 Dur_2 NOT bar_3 Pos_12 Pitch_72 Dur_2 NOT bar_3 Pos_14 Pitch_69 Dur_2 NOT bar_4 Pos_0 Pitch_67 Dur_4 NOT bar_4 Pos_4 Pitch_60 Dur_2 HALF bar_4 Pos_6 Pitch_62 Dur_2 \n",
      "Chords:  G: A:m A:m F: F:\n",
      "----------------------------------------------------------------------------------------------------------\n",
      "Lyrics:   Кто зна ет, ка кие на вы ход ны е прог но зы? \n",
      "No sharing.\n",
      "Retrive melody...\n",
      "Filter by pitch range...\n",
      "No pieces is retrieved or there are too many syllables in a lyric. Split the lyric.\n",
      "Split at  6\n",
      "Retrive melody...\n",
      "Filter by pitch range...\n",
      "Split at  6\n",
      "Retrive melody...\n",
      "Filter by pitch range...\n",
      "Split at  1\n",
      "Retrive melody...\n",
      "Filter by pitch range...\n",
      "Selected notes:  NOT bar_5 Pos_0 Pitch_64 Dur_2 NOT bar_5 Pos_2 Pitch_64 Dur_2 NOT bar_5 Pos_4 Pitch_64 Dur_2 NOT bar_5 Pos_6 Pitch_62 Dur_2 NOT bar_5 Pos_8 Pitch_60 Dur_2 NOT bar_5 Pos_10 Pitch_64 Dur_2 NOT bar_5 Pos_12 Pitch_62 Dur_2 NOT bar_5 Pos_14 Pitch_62 Dur_2 NOT bar_6 Pos_0 Pitch_62 Dur_2 NOT bar_6 Pos_2 Pitch_62 Dur_2 NOT bar_6 Pos_4 Pitch_59 Dur_2 NOT bar_6 Pos_6 Pitch_55 Dur_10 HALF bar_7 Pos_0 Pitch_60 Dur_2 \n",
      "Chords:  C: C: G: G: G:\n",
      "----------------------------------------------------------------------------------------------------------\n",
      "Lyrics:   Где ку пить на э том ра йоне ночь ю? \n",
      "No sharing.\n",
      "Retrive melody...\n",
      "Filter by pitch range...\n",
      "No pieces is retrieved or there are too many syllables in a lyric. Split the lyric.\n",
      "Split at  7\n",
      "Retrive melody...\n",
      "Filter by pitch range...\n",
      "Split at  3\n",
      "Retrive melody...\n",
      "Filter by pitch range...\n",
      "Selected notes:  NOT bar_8 Pos_0 Pitch_64 Dur_2 NOT bar_8 Pos_2 Pitch_62 Dur_2 NOT bar_8 Pos_4 Pitch_60 Dur_2 NOT bar_8 Pos_6 Pitch_57 Dur_2 NOT bar_8 Pos_8 Pitch_60 Dur_2 NOT bar_8 Pos_10 Pitch_57 Dur_2 NOT bar_8 Pos_12 Pitch_65 Dur_3 NOT bar_8 Pos_15 Pitch_60 Dur_6 NOT bar_9 Pos_5 Pitch_53 Dur_2 HALF bar_9 Pos_7 Pitch_57 Dur_13 \n",
      "Chords:  A:m A:m F: F: F:\n",
      "----------------------------------------------------------------------------------------------------------\n",
      "Lyrics:   И се год ня как сыг рал Спар так? \n",
      "No sharing.\n",
      "Retrive melody...\n",
      "Filter by pitch range...\n",
      "No pieces is retrieved or there are too many syllables in a lyric. Split the lyric.\n",
      "Split at  6\n",
      "Retrive melody...\n",
      "Filter by pitch range...\n",
      "Split at  3\n",
      "Retrive melody...\n",
      "Filter by pitch range...\n",
      "Selected notes:  NOT bar_11 Pos_0 Pitch_52 Dur_2 NOT bar_11 Pos_2 Pitch_55 Dur_2 NOT bar_11 Pos_4 Pitch_60 Dur_2 NOT bar_11 Pos_6 Pitch_55 Dur_2 NOT bar_11 Pos_8 Pitch_52 Dur_2 NOT bar_11 Pos_10 Pitch_55 Dur_2 NOT bar_11 Pos_12 Pitch_62 Dur_3 NOT bar_11 Pos_15 Pitch_60 Dur_3 HALF bar_12 Pos_2 Pitch_59 Dur_3 \n",
      "Chords:  C: C: G:\n",
      "----------------------------------------------------------------------------------------------------------\n",
      "Lyrics:   Всё рав но, кто ста нет пре зи ден том \n",
      "No sharing.\n",
      "Retrive melody...\n",
      "Filter by pitch range...\n",
      "No pieces is retrieved or there are too many syllables in a lyric. Split the lyric.\n",
      "Split at  6\n",
      "Retrive melody...\n",
      "Filter by pitch range...\n",
      "Split at  4\n",
      "Retrive melody...\n",
      "Filter by pitch range...\n",
      "Selected notes:  NOT bar_13 Pos_0 Pitch_64 Dur_3 NOT bar_13 Pos_3 Pitch_60 Dur_3 NOT bar_13 Pos_6 Pitch_62 Dur_2 NOT bar_13 Pos_8 Pitch_60 Dur_5 NOT bar_13 Pos_13 Pitch_57 Dur_2 NOT bar_13 Pos_15 Pitch_57 Dur_2 NOT bar_14 Pos_1 Pitch_57 Dur_2 NOT bar_14 Pos_3 Pitch_55 Dur_2 NOT bar_14 Pos_5 Pitch_53 Dur_4 HALF bar_14 Pos_9 Pitch_60 Dur_3 \n",
      "Chords:  A:m F: F: F:\n",
      "----------------------------------------------------------------------------------------------------------\n",
      "Lyrics:   Всё рав но, ка ко го раз мера грудь \n",
      "No sharing.\n",
      "Retrive melody...\n",
      "Filter by pitch range...\n",
      "No pieces is retrieved or there are too many syllables in a lyric. Split the lyric.\n",
      "Split at  5\n",
      "Retrive melody...\n",
      "Filter by pitch range...\n",
      "Split at  4\n",
      "Retrive melody...\n",
      "Filter by pitch range...\n",
      "Selected notes:  NOT bar_15 Pos_0 Pitch_60 Dur_4 NOT bar_15 Pos_4 Pitch_60 Dur_4 NOT bar_15 Pos_8 Pitch_60 Dur_2 NOT bar_15 Pos_10 Pitch_62 Dur_2 NOT bar_15 Pos_12 Pitch_64 Dur_3 NOT bar_15 Pos_15 Pitch_62 Dur_4 NOT bar_16 Pos_3 Pitch_59 Dur_4 NOT bar_16 Pos_7 Pitch_55 Dur_4 HALF bar_16 Pos_11 Pitch_62 Dur_10 \n",
      "Chords:  C: C: G: G: G:\n",
      "----------------------------------------------------------------------------------------------------------\n",
      "Lyrics:   Всё рав но, в чём си ла, за кем прав да \n",
      "No sharing.\n",
      "Retrive melody...\n",
      "Filter by pitch range...\n",
      "No pieces is retrieved or there are too many syllables in a lyric. Split the lyric.\n",
      "Split at  7\n",
      "Retrive melody...\n",
      "Filter by pitch range...\n",
      "Split at  4\n",
      "Retrive melody...\n",
      "Filter by pitch range...\n",
      "Selected notes:  NOT bar_18 Pos_0 Pitch_60 Dur_2 NOT bar_18 Pos_2 Pitch_64 Dur_2 NOT bar_18 Pos_4 Pitch_62 Dur_2 NOT bar_18 Pos_6 Pitch_60 Dur_2 NOT bar_18 Pos_8 Pitch_59 Dur_2 NOT bar_18 Pos_10 Pitch_60 Dur_2 NOT bar_18 Pos_12 Pitch_57 Dur_4 NOT bar_19 Pos_0 Pitch_57 Dur_8 NOT bar_19 Pos_8 Pitch_57 Dur_3 NOT bar_19 Pos_11 Pitch_59 Dur_5 HALF bar_20 Pos_0 Pitch_60 Dur_2 \n",
      "Chords:  A:m F: F: F: F:\n",
      "----------------------------------------------------------------------------------------------------------\n",
      "Lyrics:   Всё рав но, по ре зать и ли по лос нуть \n",
      "Share notes with sentence No. 7\n",
      "----------------------------------------------------------------------------------------------------------\n",
      "Lyrics:   Всё рав но, сколь ко се год ня сто ит рубль \n",
      "Share notes with sentence No. 8\n",
      "----------------------------------------------------------------------------------------------------------\n",
      "Lyrics:   Всё рав но, сколь ко ос та лось си га рет \n",
      "Share partial melody from the previous lyric.\n",
      "Retrive melody...\n",
      "Filter by pitch range...\n",
      "Modified notes:  NOT bar_27 Pos_0 Pitch_60 Dur_2 NOT bar_27 Pos_2 Pitch_64 Dur_2 NOT bar_27 Pos_4 Pitch_62 Dur_2 NOT bar_27 Pos_6 Pitch_60 Dur_2 NOT bar_27 Pos_8 Pitch_59 Dur_2 NOT bar_27 Pos_10 Pitch_60 Dur_2 NOT bar_27 Pos_12 Pitch_57 Dur_4 NOT bar_28 Pos_0 Pitch_55 Dur_8 NOT bar_28 Pos_8 Pitch_60 Dur_3 NOT bar_28 Pos_11 Pitch_62 Dur_5 HALF bar_29 Pos_0 Pitch_60 Dur_2 \n",
      "chords:  A:m F: C: C: C:\n",
      "----------------------------------------------------------------------------------------------------------\n",
      "Lyrics:   Всё рав но, ста рый ле вый и ли но вый пра вый \n",
      "No sharing.\n",
      "Retrive melody...\n",
      "Filter by pitch range...\n",
      "No pieces is retrieved or there are too many syllables in a lyric. Split the lyric.\n",
      "Split at  6\n",
      "Retrive melody...\n",
      "Filter by pitch range...\n",
      "Split at  6\n",
      "Retrive melody...\n",
      "Filter by pitch range...\n",
      "Split at  1\n",
      "Retrive melody...\n",
      "Filter by pitch range...\n",
      "Selected notes:  NOT bar_30 Pos_0 Pitch_62 Dur_3 NOT bar_30 Pos_3 Pitch_62 Dur_2 NOT bar_30 Pos_5 Pitch_59 Dur_2 NOT bar_30 Pos_7 Pitch_62 Dur_3 NOT bar_30 Pos_10 Pitch_55 Dur_2 NOT bar_30 Pos_12 Pitch_59 Dur_2 NOT bar_30 Pos_14 Pitch_60 Dur_2 NOT bar_31 Pos_0 Pitch_57 Dur_2 NOT bar_31 Pos_2 Pitch_60 Dur_2 NOT bar_31 Pos_4 Pitch_62 Dur_2 NOT bar_31 Pos_6 Pitch_64 Dur_6 NOT bar_31 Pos_12 Pitch_60 Dur_4 HALF bar_32 Pos_0 Pitch_60 Dur_2 \n",
      "Chords:  G: G: A:m A:m A:m\n",
      "----------------------------------------------------------------------------------------------------------\n",
      "Lyrics:   Всё рав но, аб со лют но точ но, есть бог и ли нет \n",
      "No sharing.\n",
      "Retrive melody...\n",
      "Filter by pitch range...\n",
      "No pieces is retrieved or there are too many syllables in a lyric. Split the lyric.\n",
      "Split at  7\n",
      "Retrive melody...\n",
      "Filter by pitch range...\n",
      "Split at  5\n",
      "Retrive melody...\n",
      "Filter by pitch range...\n",
      "Split at  2\n",
      "Retrive melody...\n",
      "Filter by pitch range...\n",
      "Selected notes:  NOT bar_33 Pos_0 Pitch_60 Dur_2 NOT bar_33 Pos_2 Pitch_60 Dur_2 NOT bar_33 Pos_4 Pitch_60 Dur_2 NOT bar_33 Pos_6 Pitch_60 Dur_2 NOT bar_33 Pos_8 Pitch_60 Dur_2 NOT bar_33 Pos_10 Pitch_59 Dur_2 NOT bar_33 Pos_12 Pitch_57 Dur_2 NOT bar_33 Pos_14 Pitch_64 Dur_2 NOT bar_34 Pos_0 Pitch_64 Dur_3 NOT bar_34 Pos_3 Pitch_64 Dur_2 NOT bar_34 Pos_5 Pitch_62 Dur_2 NOT bar_34 Pos_7 Pitch_60 Dur_2 NOT bar_34 Pos_9 Pitch_62 Dur_2 HALF bar_34 Pos_11 Pitch_55 Dur_8 \n",
      "Chords:  F: F: C: C: C:\n",
      "----------------------------------------------------------------------------------------------------------\n",
      "Lyrics:   И пусть со сут ин тел лек ту а лы \n",
      "No sharing.\n",
      "Retrive melody...\n",
      "Filter by pitch range...\n",
      "No pieces is retrieved or there are too many syllables in a lyric. Split the lyric.\n",
      "Split at  6\n",
      "Retrive melody...\n",
      "Filter by pitch range...\n",
      "Split at  4\n",
      "Retrive melody...\n",
      "Filter by pitch range...\n",
      "Selected notes:  NOT bar_36 Pos_0 Pitch_55 Dur_2 NOT bar_36 Pos_2 Pitch_55 Dur_2 NOT bar_36 Pos_4 Pitch_59 Dur_2 NOT bar_36 Pos_6 Pitch_59 Dur_2 NOT bar_36 Pos_8 Pitch_60 Dur_2 NOT bar_36 Pos_10 Pitch_62 Dur_6 NOT bar_37 Pos_0 Pitch_57 Dur_2 NOT bar_37 Pos_2 Pitch_60 Dur_2 NOT bar_37 Pos_4 Pitch_62 Dur_2 HALF bar_37 Pos_6 Pitch_64 Dur_2 \n",
      "Chords:   \n",
      "----------------------------------------------------------------------------------------------------------\n",
      "Lyrics:   Де пу та ты и ар тис ты \n",
      "No sharing.\n",
      "Retrive melody...\n",
      "Filter by pitch range...\n",
      "Selected notes:  NOT bar_38 Pos_0 Pitch_67 Dur_2 NOT bar_38 Pos_2 Pitch_60 Dur_2 NOT bar_38 Pos_4 Pitch_64 Dur_2 NOT bar_38 Pos_6 Pitch_60 Dur_2 NOT bar_38 Pos_8 Pitch_64 Dur_2 NOT bar_38 Pos_10 Pitch_60 Dur_2 NOT bar_38 Pos_12 Pitch_64 Dur_4 HALF bar_39 Pos_0 Pitch_60 Dur_2 \n",
      "Chords:  C: C: C:\n",
      "----------------------------------------------------------------------------------------------------------\n",
      "Lyrics:   И дёт на хуй Ве ра По лоз ко ва \n",
      "No sharing.\n",
      "Retrive melody...\n",
      "Filter by pitch range...\n",
      "No pieces is retrieved or there are too many syllables in a lyric. Split the lyric.\n",
      "Split at  7\n",
      "Retrive melody...\n",
      "Filter by pitch range...\n",
      "Split at  3\n",
      "Retrive melody...\n",
      "Filter by pitch range...\n",
      "Selected notes:  NOT bar_40 Pos_0 Pitch_62 Dur_2 NOT bar_40 Pos_2 Pitch_62 Dur_2 NOT bar_40 Pos_4 Pitch_62 Dur_3 NOT bar_40 Pos_7 Pitch_62 Dur_2 NOT bar_40 Pos_9 Pitch_62 Dur_3 NOT bar_40 Pos_12 Pitch_60 Dur_3 NOT bar_40 Pos_15 Pitch_59 Dur_2 NOT bar_41 Pos_1 Pitch_64 Dur_3 NOT bar_41 Pos_4 Pitch_59 Dur_2 HALF bar_41 Pos_6 Pitch_57 Dur_4 \n",
      "Chords:  G: G: A:m A:m\n",
      "----------------------------------------------------------------------------------------------------------\n",
      "Lyrics:   Му зы кан ты и дут и, ко неч но, жур на лис ты \n",
      "No sharing.\n",
      "Retrive melody...\n",
      "Filter by pitch range...\n",
      "No pieces is retrieved or there are too many syllables in a lyric. Split the lyric.\n",
      "Split at  6\n",
      "Retrive melody...\n",
      "Filter by pitch range...\n",
      "Split at  5\n",
      "Retrive melody...\n",
      "Filter by pitch range...\n",
      "Split at  3\n",
      "Retrive melody...\n",
      "Filter by pitch range...\n",
      "Selected notes:  NOT bar_42 Pos_0 Pitch_57 Dur_2 NOT bar_42 Pos_2 Pitch_57 Dur_2 NOT bar_42 Pos_4 Pitch_57 Dur_2 NOT bar_42 Pos_6 Pitch_60 Dur_2 NOT bar_42 Pos_8 Pitch_57 Dur_2 NOT bar_42 Pos_10 Pitch_65 Dur_6 NOT bar_43 Pos_0 Pitch_60 Dur_2 NOT bar_43 Pos_2 Pitch_60 Dur_2 NOT bar_43 Pos_4 Pitch_60 Dur_2 NOT bar_43 Pos_6 Pitch_62 Dur_2 NOT bar_43 Pos_8 Pitch_64 Dur_2 NOT bar_43 Pos_10 Pitch_64 Dur_2 NOT bar_43 Pos_12 Pitch_62 Dur_4 HALF bar_44 Pos_0 Pitch_60 Dur_3 \n",
      "Chords:  F: F: C: C:\n",
      "----------------------------------------------------------------------------------------------------------\n",
      "Lyrics:   Всё рав но, тот на род и ли не тот \n",
      "No sharing.\n",
      "Retrive melody...\n",
      "Filter by pitch range...\n",
      "No pieces is retrieved or there are too many syllables in a lyric. Split the lyric.\n",
      "Split at  6\n",
      "Retrive melody...\n",
      "Filter by pitch range...\n",
      "Split at  4\n",
      "Retrive melody...\n",
      "Filter by pitch range...\n",
      "Selected notes:  NOT bar_45 Pos_0 Pitch_67 Dur_2 NOT bar_45 Pos_2 Pitch_67 Dur_2 NOT bar_45 Pos_4 Pitch_67 Dur_2 NOT bar_45 Pos_6 Pitch_67 Dur_2 NOT bar_45 Pos_8 Pitch_71 Dur_3 NOT bar_45 Pos_11 Pitch_74 Dur_3 NOT bar_45 Pos_14 Pitch_69 Dur_2 NOT bar_46 Pos_0 Pitch_72 Dur_2 NOT bar_46 Pos_2 Pitch_74 Dur_2 HALF bar_46 Pos_4 Pitch_76 Dur_2 \n",
      "Chords:  G: G: A:m\n",
      "----------------------------------------------------------------------------------------------------------\n",
      "Lyrics:   Я не спе ци а лист, но вро де бы ва ют и по ху же \n",
      "No sharing.\n",
      "Retrive melody...\n",
      "Filter by pitch range...\n",
      "No pieces is retrieved or there are too many syllables in a lyric. Split the lyric.\n",
      "Split at  8\n",
      "Retrive melody...\n",
      "Filter by pitch range...\n",
      "Split at  7\n",
      "Retrive melody...\n",
      "Filter by pitch range...\n",
      "Split at  1\n",
      "Retrive melody...\n",
      "Filter by pitch range...\n",
      "Selected notes:  NOT bar_47 Pos_0 Pitch_69 Dur_2 NOT bar_47 Pos_2 Pitch_77 Dur_2 NOT bar_47 Pos_4 Pitch_72 Dur_2 NOT bar_47 Pos_6 Pitch_69 Dur_2 NOT bar_47 Pos_8 Pitch_77 Dur_2 NOT bar_47 Pos_10 Pitch_72 Dur_2 NOT bar_47 Pos_12 Pitch_69 Dur_2 NOT bar_47 Pos_14 Pitch_72 Dur_2 NOT bar_48 Pos_0 Pitch_67 Dur_2 NOT bar_48 Pos_2 Pitch_76 Dur_2 NOT bar_48 Pos_4 Pitch_76 Dur_3 NOT bar_48 Pos_7 Pitch_76 Dur_2 NOT bar_48 Pos_9 Pitch_76 Dur_2 NOT bar_48 Pos_11 Pitch_74 Dur_2 NOT bar_48 Pos_13 Pitch_72 Dur_3 HALF bar_49 Pos_0 Pitch_72 Dur_4 \n",
      "Chords:  F: F: C: C: C:\n",
      "----------------------------------------------------------------------------------------------------------\n",
      "Lyrics:   Мне всё рав но, что по эт тут боль ше чем по эт \n",
      "No sharing.\n",
      "Retrive melody...\n",
      "Filter by pitch range...\n",
      "No pieces is retrieved or there are too many syllables in a lyric. Split the lyric.\n",
      "Split at  6\n",
      "Retrive melody...\n",
      "Filter by pitch range...\n",
      "Split at  7\n",
      "Retrive melody...\n",
      "Filter by pitch range...\n",
      "Selected notes:  NOT bar_50 Pos_0 Pitch_67 Dur_2 NOT bar_50 Pos_2 Pitch_67 Dur_2 NOT bar_50 Pos_4 Pitch_67 Dur_2 NOT bar_50 Pos_6 Pitch_67 Dur_2 NOT bar_50 Pos_8 Pitch_71 Dur_3 NOT bar_50 Pos_11 Pitch_74 Dur_3 NOT bar_50 Pos_14 Pitch_72 Dur_2 NOT bar_51 Pos_0 Pitch_69 Dur_2 NOT bar_51 Pos_2 Pitch_71 Dur_2 NOT bar_51 Pos_4 Pitch_72 Dur_4 NOT bar_51 Pos_8 Pitch_74 Dur_2 NOT bar_51 Pos_10 Pitch_76 Dur_2 HALF bar_51 Pos_12 Pitch_76 Dur_6 \n",
      "Chords:  G: G: A:m A:m A:m\n",
      "----------------------------------------------------------------------------------------------------------\n",
      "Lyrics:   Для ме ня есть ты и я, боль ше сов сем ник то не ну жен \n",
      "No sharing.\n",
      "Retrive melody...\n",
      "Filter by pitch range...\n",
      "No pieces is retrieved or there are too many syllables in a lyric. Split the lyric.\n",
      "Split at  7\n",
      "Retrive melody...\n",
      "Filter by pitch range...\n",
      "Split at  8\n",
      "Retrive melody...\n",
      "Filter by pitch range...\n",
      "Split at  1\n",
      "Retrive melody...\n",
      "Filter by pitch range...\n",
      "Selected notes:  NOT bar_53 Pos_0 Pitch_72 Dur_2 NOT bar_53 Pos_2 Pitch_71 Dur_2 NOT bar_53 Pos_4 Pitch_69 Dur_2 NOT bar_53 Pos_6 Pitch_67 Dur_2 NOT bar_53 Pos_8 Pitch_64 Dur_2 NOT bar_53 Pos_10 Pitch_67 Dur_2 NOT bar_53 Pos_12 Pitch_64 Dur_2 NOT bar_53 Pos_14 Pitch_64 Dur_2 NOT bar_54 Pos_0 Pitch_62 Dur_2 NOT bar_54 Pos_2 Pitch_60 Dur_6 NOT bar_54 Pos_8 Pitch_60 Dur_2 NOT bar_54 Pos_10 Pitch_60 Dur_2 NOT bar_54 Pos_12 Pitch_60 Dur_2 NOT bar_54 Pos_14 Pitch_60 Dur_2 NOT bar_55 Pos_0 Pitch_60 Dur_2 HALF bar_55 Pos_2 Pitch_60 Dur_4 \n",
      "Chords:  F: F: C: C: C:\n",
      "----------------------------------------------------------------------------------------------------------\n",
      "Lyrics:   И лет че рез сто те бя, на вер но е, спро сят вну ки \n",
      "No sharing.\n",
      "Retrive melody...\n",
      "Filter by pitch range...\n",
      "No pieces is retrieved or there are too many syllables in a lyric. Split the lyric.\n",
      "Split at  7\n",
      "Retrive melody...\n",
      "Filter by pitch range...\n",
      "Split at  6\n",
      "Retrive melody...\n",
      "Filter by pitch range...\n",
      "Split at  2\n",
      "Retrive melody...\n",
      "Filter by pitch range...\n",
      "Selected notes:  NOT bar_56 Pos_0 Pitch_67 Dur_2 NOT bar_56 Pos_2 Pitch_71 Dur_2 NOT bar_56 Pos_4 Pitch_74 Dur_2 NOT bar_56 Pos_6 Pitch_71 Dur_2 NOT bar_56 Pos_8 Pitch_74 Dur_2 NOT bar_56 Pos_10 Pitch_71 Dur_2 NOT bar_56 Pos_12 Pitch_74 Dur_2 NOT bar_56 Pos_14 Pitch_72 Dur_2 NOT bar_57 Pos_0 Pitch_64 Dur_2 NOT bar_57 Pos_2 Pitch_64 Dur_8 NOT bar_57 Pos_10 Pitch_69 Dur_2 NOT bar_57 Pos_12 Pitch_71 Dur_2 NOT bar_57 Pos_14 Pitch_72 Dur_2 NOT bar_58 Pos_0 Pitch_72 Dur_4 HALF bar_58 Pos_4 Pitch_69 Dur_4 \n",
      "Chords:  G: G: A:m A:m A:m\n",
      "----------------------------------------------------------------------------------------------------------\n",
      "Lyrics:   \"Рас ска жи ка, дед, про что пи са ли в ин тер не те в сем на дца том го ду?\" \n",
      "No sharing.\n",
      "Retrive melody...\n",
      "Filter by pitch range...\n",
      "No pieces is retrieved or there are too many syllables in a lyric. Split the lyric.\n",
      "Split at  11\n",
      "Retrive melody...\n",
      "Filter by pitch range...\n",
      "Split at  9\n",
      "Retrive melody...\n",
      "Filter by pitch range...\n",
      "Split at  2\n",
      "Retrive melody...\n",
      "Filter by pitch range...\n",
      "Selected notes:  NOT bar_59 Pos_0 Pitch_69 Dur_2 NOT bar_59 Pos_2 Pitch_69 Dur_2 NOT bar_59 Pos_4 Pitch_69 Dur_2 NOT bar_59 Pos_6 Pitch_69 Dur_6 NOT bar_59 Pos_12 Pitch_71 Dur_2 NOT bar_59 Pos_14 Pitch_72 Dur_4 NOT bar_60 Pos_2 Pitch_71 Dur_2 NOT bar_60 Pos_4 Pitch_69 Dur_2 NOT bar_60 Pos_6 Pitch_69 Dur_6 NOT bar_60 Pos_12 Pitch_71 Dur_2 NOT bar_60 Pos_14 Pitch_72 Dur_4 NOT bar_61 Pos_2 Pitch_72 Dur_2 NOT bar_61 Pos_4 Pitch_72 Dur_2 NOT bar_61 Pos_6 Pitch_72 Dur_2 NOT bar_61 Pos_8 Pitch_72 Dur_2 NOT bar_61 Pos_10 Pitch_74 Dur_2 NOT bar_61 Pos_12 Pitch_76 Dur_2 NOT bar_61 Pos_14 Pitch_72 Dur_2 NOT bar_62 Pos_0 Pitch_71 Dur_2 NOT bar_62 Pos_2 Pitch_72 Dur_3 NOT bar_62 Pos_5 Pitch_74 Dur_11 HALF bar_63 Pos_0 Pitch_67 Dur_8 \n",
      "Chords:  F: F: F: F: C: C: G: G: G:\n",
      "----------------------------------------------------------------------------------------------------------\n",
      "Lyrics:   И ты, на вер но е, гла за под лоб за ка тишь \n",
      "No sharing.\n",
      "Retrive melody...\n",
      "Filter by pitch range...\n",
      "No pieces is retrieved or there are too many syllables in a lyric. Split the lyric.\n",
      "Split at  7\n",
      "Retrive melody...\n",
      "Filter by pitch range...\n",
      "Split at  6\n",
      "Retrive melody...\n",
      "Filter by pitch range...\n",
      "Selected notes:  NOT bar_64 Pos_0 Pitch_69 Dur_2 NOT bar_64 Pos_2 Pitch_72 Dur_3 NOT bar_64 Pos_5 Pitch_72 Dur_3 NOT bar_64 Pos_8 Pitch_72 Dur_2 NOT bar_64 Pos_10 Pitch_74 Dur_2 NOT bar_64 Pos_12 Pitch_76 Dur_3 NOT bar_64 Pos_15 Pitch_74 Dur_2 NOT bar_65 Pos_1 Pitch_69 Dur_2 NOT bar_65 Pos_3 Pitch_71 Dur_2 NOT bar_65 Pos_5 Pitch_72 Dur_4 NOT bar_65 Pos_9 Pitch_69 Dur_2 NOT bar_65 Pos_11 Pitch_71 Dur_5 HALF bar_66 Pos_0 Pitch_72 Dur_4 \n",
      "Chords:  A:m A:m A:m A:m F:\n",
      "----------------------------------------------------------------------------------------------------------\n",
      "Lyrics:   И я на де юсь, ни че го не вспом нишь \n",
      "No sharing.\n",
      "Retrive melody...\n",
      "Filter by pitch range...\n",
      "No pieces is retrieved or there are too many syllables in a lyric. Split the lyric.\n",
      "Split at  5\n",
      "Retrive melody...\n",
      "Filter by pitch range...\n",
      "Split at  6\n",
      "Retrive melody...\n",
      "Filter by pitch range...\n",
      "Selected notes:  NOT bar_67 Pos_0 Pitch_67 Dur_2 NOT bar_67 Pos_2 Pitch_67 Dur_2 NOT bar_67 Pos_4 Pitch_67 Dur_2 NOT bar_67 Pos_6 Pitch_65 Dur_2 NOT bar_67 Pos_8 Pitch_64 Dur_2 NOT bar_67 Pos_10 Pitch_59 Dur_2 NOT bar_67 Pos_12 Pitch_55 Dur_2 NOT bar_67 Pos_14 Pitch_62 Dur_4 NOT bar_68 Pos_2 Pitch_59 Dur_2 NOT bar_68 Pos_4 Pitch_55 Dur_3 HALF bar_68 Pos_7 Pitch_62 Dur_2 \n",
      "Chords:  C: C: G: G:\n",
      "----------------------------------------------------------------------------------------------------------\n",
      "Lyrics:   Кро ме глаз мо их\n",
      "No sharing.\n",
      "Retrive melody...\n",
      "Filter by pitch range...\n",
      "Selected notes:  NOT bar_69 Pos_0 Pitch_57 Dur_2 NOT bar_69 Pos_2 Pitch_52 Dur_2 NOT bar_69 Pos_4 Pitch_55 Dur_2 NOT bar_69 Pos_6 Pitch_55 Dur_3 HALF bar_69 Pos_9 Pitch_60 Dur_11 \n",
      "Chords:  A:m A:m C:\n",
      "----------------------------------------------------------------------------------------------------------\n",
      "['C: C:', 'G: A:m A:m F: F:', 'C: C: G: G: G:', 'A:m A:m F: F: F:', 'C: C: G:', 'A:m F: F: F:', 'C: C: G: G: G:', 'A:m F: F: F: F:', 'A:m F: F: F: F:', 'A:m F: F: F: F:', 'A:m F: C: C: C:', 'G: G: A:m A:m A:m', 'F: F: C: C: C:', ' ', 'C: C: C:', 'G: G: A:m A:m', 'F: F: C: C:', 'G: G: A:m', 'F: F: C: C: C:', 'G: G: A:m A:m A:m', 'F: F: C: C: C:', 'G: G: A:m A:m A:m', 'F: F: F: F: C: C: G: G: G:', 'A:m A:m A:m A:m F:', 'C: C: G: G:', 'A:m A:m C:']\n",
      "['NOT bar_0 Pos_0 Pitch_64 Dur_2 NOT bar_0 Pos_2 Pitch_64 Dur_2 NOT bar_0 Pos_4 Pitch_64 Dur_3 NOT bar_0 Pos_7 Pitch_62 Dur_2 NOT bar_0 Pos_9 Pitch_60 Dur_3 NOT bar_0 Pos_12 Pitch_62 Dur_2 NOT bar_0 Pos_14 Pitch_64 Dur_3 NOT bar_1 Pos_1 Pitch_64 Dur_2 NOT bar_1 Pos_3 Pitch_62 Dur_5 NOT bar_1 Pos_8 Pitch_55 Dur_2 HALF bar_1 Pos_10 Pitch_55 Dur_2 ', 'NOT bar_2 Pos_0 Pitch_50 Dur_2 NOT bar_2 Pos_2 Pitch_59 Dur_2 NOT bar_2 Pos_4 Pitch_60 Dur_2 NOT bar_2 Pos_6 Pitch_59 Dur_4 NOT bar_2 Pos_10 Pitch_57 Dur_2 NOT bar_2 Pos_12 Pitch_55 Dur_2 NOT bar_2 Pos_14 Pitch_57 Dur_2 NOT bar_3 Pos_0 Pitch_64 Dur_2 NOT bar_3 Pos_2 Pitch_72 Dur_2 NOT bar_3 Pos_4 Pitch_76 Dur_2 NOT bar_3 Pos_6 Pitch_72 Dur_2 NOT bar_3 Pos_8 Pitch_76 Dur_2 NOT bar_3 Pos_10 Pitch_72 Dur_2 NOT bar_3 Pos_12 Pitch_72 Dur_2 NOT bar_3 Pos_14 Pitch_69 Dur_2 NOT bar_4 Pos_0 Pitch_67 Dur_4 NOT bar_4 Pos_4 Pitch_60 Dur_2 HALF bar_4 Pos_6 Pitch_62 Dur_2 ', 'NOT bar_5 Pos_0 Pitch_64 Dur_2 NOT bar_5 Pos_2 Pitch_64 Dur_2 NOT bar_5 Pos_4 Pitch_64 Dur_2 NOT bar_5 Pos_6 Pitch_62 Dur_2 NOT bar_5 Pos_8 Pitch_60 Dur_2 NOT bar_5 Pos_10 Pitch_64 Dur_2 NOT bar_5 Pos_12 Pitch_62 Dur_2 NOT bar_5 Pos_14 Pitch_62 Dur_2 NOT bar_6 Pos_0 Pitch_62 Dur_2 NOT bar_6 Pos_2 Pitch_62 Dur_2 NOT bar_6 Pos_4 Pitch_59 Dur_2 NOT bar_6 Pos_6 Pitch_55 Dur_10 HALF bar_7 Pos_0 Pitch_60 Dur_2 ', 'NOT bar_8 Pos_0 Pitch_64 Dur_2 NOT bar_8 Pos_2 Pitch_62 Dur_2 NOT bar_8 Pos_4 Pitch_60 Dur_2 NOT bar_8 Pos_6 Pitch_57 Dur_2 NOT bar_8 Pos_8 Pitch_60 Dur_2 NOT bar_8 Pos_10 Pitch_57 Dur_2 NOT bar_8 Pos_12 Pitch_65 Dur_3 NOT bar_8 Pos_15 Pitch_60 Dur_6 NOT bar_9 Pos_5 Pitch_53 Dur_2 HALF bar_9 Pos_7 Pitch_57 Dur_13 ', 'NOT bar_11 Pos_0 Pitch_52 Dur_2 NOT bar_11 Pos_2 Pitch_55 Dur_2 NOT bar_11 Pos_4 Pitch_60 Dur_2 NOT bar_11 Pos_6 Pitch_55 Dur_2 NOT bar_11 Pos_8 Pitch_52 Dur_2 NOT bar_11 Pos_10 Pitch_55 Dur_2 NOT bar_11 Pos_12 Pitch_62 Dur_3 NOT bar_11 Pos_15 Pitch_60 Dur_3 HALF bar_12 Pos_2 Pitch_59 Dur_3 ', 'NOT bar_13 Pos_0 Pitch_64 Dur_3 NOT bar_13 Pos_3 Pitch_60 Dur_3 NOT bar_13 Pos_6 Pitch_62 Dur_2 NOT bar_13 Pos_8 Pitch_60 Dur_5 NOT bar_13 Pos_13 Pitch_57 Dur_2 NOT bar_13 Pos_15 Pitch_57 Dur_2 NOT bar_14 Pos_1 Pitch_57 Dur_2 NOT bar_14 Pos_3 Pitch_55 Dur_2 NOT bar_14 Pos_5 Pitch_53 Dur_4 HALF bar_14 Pos_9 Pitch_60 Dur_3 ', 'NOT bar_15 Pos_0 Pitch_60 Dur_4 NOT bar_15 Pos_4 Pitch_60 Dur_4 NOT bar_15 Pos_8 Pitch_60 Dur_2 NOT bar_15 Pos_10 Pitch_62 Dur_2 NOT bar_15 Pos_12 Pitch_64 Dur_3 NOT bar_15 Pos_15 Pitch_62 Dur_4 NOT bar_16 Pos_3 Pitch_59 Dur_4 NOT bar_16 Pos_7 Pitch_55 Dur_4 HALF bar_16 Pos_11 Pitch_62 Dur_10 ', 'NOT bar_18 Pos_0 Pitch_60 Dur_2 NOT bar_18 Pos_2 Pitch_64 Dur_2 NOT bar_18 Pos_4 Pitch_62 Dur_2 NOT bar_18 Pos_6 Pitch_60 Dur_2 NOT bar_18 Pos_8 Pitch_59 Dur_2 NOT bar_18 Pos_10 Pitch_60 Dur_2 NOT bar_18 Pos_12 Pitch_57 Dur_4 NOT bar_19 Pos_0 Pitch_57 Dur_8 NOT bar_19 Pos_8 Pitch_57 Dur_3 NOT bar_19 Pos_11 Pitch_59 Dur_5 HALF bar_20 Pos_0 Pitch_60 Dur_2 ', 'NOT bar_21 Pos_0 Pitch_60 Dur_2 NOT bar_21 Pos_2 Pitch_64 Dur_2 NOT bar_21 Pos_4 Pitch_62 Dur_2 NOT bar_21 Pos_6 Pitch_60 Dur_2 NOT bar_21 Pos_8 Pitch_59 Dur_2 NOT bar_21 Pos_10 Pitch_60 Dur_2 NOT bar_21 Pos_12 Pitch_57 Dur_4 NOT bar_22 Pos_0 Pitch_57 Dur_8 NOT bar_22 Pos_8 Pitch_57 Dur_3 NOT bar_22 Pos_11 Pitch_59 Dur_5 HALF bar_23 Pos_0 Pitch_60 Dur_2 ', 'NOT bar_24 Pos_0 Pitch_60 Dur_2 NOT bar_24 Pos_2 Pitch_64 Dur_2 NOT bar_24 Pos_4 Pitch_62 Dur_2 NOT bar_24 Pos_6 Pitch_60 Dur_2 NOT bar_24 Pos_8 Pitch_59 Dur_2 NOT bar_24 Pos_10 Pitch_60 Dur_2 NOT bar_24 Pos_12 Pitch_57 Dur_4 NOT bar_25 Pos_0 Pitch_57 Dur_8 NOT bar_25 Pos_8 Pitch_57 Dur_3 NOT bar_25 Pos_11 Pitch_59 Dur_5 HALF bar_26 Pos_0 Pitch_60 Dur_2 ', 'NOT bar_27 Pos_0 Pitch_60 Dur_2 NOT bar_27 Pos_2 Pitch_64 Dur_2 NOT bar_27 Pos_4 Pitch_62 Dur_2 NOT bar_27 Pos_6 Pitch_60 Dur_2 NOT bar_27 Pos_8 Pitch_59 Dur_2 NOT bar_27 Pos_10 Pitch_60 Dur_2 NOT bar_27 Pos_12 Pitch_57 Dur_4 NOT bar_28 Pos_0 Pitch_55 Dur_8 NOT bar_28 Pos_8 Pitch_60 Dur_3 NOT bar_28 Pos_11 Pitch_62 Dur_5 HALF bar_29 Pos_0 Pitch_60 Dur_2 ', 'NOT bar_30 Pos_0 Pitch_62 Dur_3 NOT bar_30 Pos_3 Pitch_62 Dur_2 NOT bar_30 Pos_5 Pitch_59 Dur_2 NOT bar_30 Pos_7 Pitch_62 Dur_3 NOT bar_30 Pos_10 Pitch_55 Dur_2 NOT bar_30 Pos_12 Pitch_59 Dur_2 NOT bar_30 Pos_14 Pitch_60 Dur_2 NOT bar_31 Pos_0 Pitch_57 Dur_2 NOT bar_31 Pos_2 Pitch_60 Dur_2 NOT bar_31 Pos_4 Pitch_62 Dur_2 NOT bar_31 Pos_6 Pitch_64 Dur_6 NOT bar_31 Pos_12 Pitch_60 Dur_4 HALF bar_32 Pos_0 Pitch_60 Dur_2 ', 'NOT bar_33 Pos_0 Pitch_60 Dur_2 NOT bar_33 Pos_2 Pitch_60 Dur_2 NOT bar_33 Pos_4 Pitch_60 Dur_2 NOT bar_33 Pos_6 Pitch_60 Dur_2 NOT bar_33 Pos_8 Pitch_60 Dur_2 NOT bar_33 Pos_10 Pitch_59 Dur_2 NOT bar_33 Pos_12 Pitch_57 Dur_2 NOT bar_33 Pos_14 Pitch_64 Dur_2 NOT bar_34 Pos_0 Pitch_64 Dur_3 NOT bar_34 Pos_3 Pitch_64 Dur_2 NOT bar_34 Pos_5 Pitch_62 Dur_2 NOT bar_34 Pos_7 Pitch_60 Dur_2 NOT bar_34 Pos_9 Pitch_62 Dur_2 HALF bar_34 Pos_11 Pitch_55 Dur_8 ', 'NOT bar_36 Pos_0 Pitch_55 Dur_2 NOT bar_36 Pos_2 Pitch_55 Dur_2 NOT bar_36 Pos_4 Pitch_59 Dur_2 NOT bar_36 Pos_6 Pitch_59 Dur_2 NOT bar_36 Pos_8 Pitch_60 Dur_2 NOT bar_36 Pos_10 Pitch_62 Dur_6 NOT bar_37 Pos_0 Pitch_57 Dur_2 NOT bar_37 Pos_2 Pitch_60 Dur_2 NOT bar_37 Pos_4 Pitch_62 Dur_2 HALF bar_37 Pos_6 Pitch_64 Dur_2 ', 'NOT bar_38 Pos_0 Pitch_67 Dur_2 NOT bar_38 Pos_2 Pitch_60 Dur_2 NOT bar_38 Pos_4 Pitch_64 Dur_2 NOT bar_38 Pos_6 Pitch_60 Dur_2 NOT bar_38 Pos_8 Pitch_64 Dur_2 NOT bar_38 Pos_10 Pitch_60 Dur_2 NOT bar_38 Pos_12 Pitch_64 Dur_4 HALF bar_39 Pos_0 Pitch_60 Dur_2 ', 'NOT bar_40 Pos_0 Pitch_62 Dur_2 NOT bar_40 Pos_2 Pitch_62 Dur_2 NOT bar_40 Pos_4 Pitch_62 Dur_3 NOT bar_40 Pos_7 Pitch_62 Dur_2 NOT bar_40 Pos_9 Pitch_62 Dur_3 NOT bar_40 Pos_12 Pitch_60 Dur_3 NOT bar_40 Pos_15 Pitch_59 Dur_2 NOT bar_41 Pos_1 Pitch_64 Dur_3 NOT bar_41 Pos_4 Pitch_59 Dur_2 HALF bar_41 Pos_6 Pitch_57 Dur_4 ', 'NOT bar_42 Pos_0 Pitch_57 Dur_2 NOT bar_42 Pos_2 Pitch_57 Dur_2 NOT bar_42 Pos_4 Pitch_57 Dur_2 NOT bar_42 Pos_6 Pitch_60 Dur_2 NOT bar_42 Pos_8 Pitch_57 Dur_2 NOT bar_42 Pos_10 Pitch_65 Dur_6 NOT bar_43 Pos_0 Pitch_60 Dur_2 NOT bar_43 Pos_2 Pitch_60 Dur_2 NOT bar_43 Pos_4 Pitch_60 Dur_2 NOT bar_43 Pos_6 Pitch_62 Dur_2 NOT bar_43 Pos_8 Pitch_64 Dur_2 NOT bar_43 Pos_10 Pitch_64 Dur_2 NOT bar_43 Pos_12 Pitch_62 Dur_4 HALF bar_44 Pos_0 Pitch_60 Dur_3 ', 'NOT bar_45 Pos_0 Pitch_67 Dur_2 NOT bar_45 Pos_2 Pitch_67 Dur_2 NOT bar_45 Pos_4 Pitch_67 Dur_2 NOT bar_45 Pos_6 Pitch_67 Dur_2 NOT bar_45 Pos_8 Pitch_71 Dur_3 NOT bar_45 Pos_11 Pitch_74 Dur_3 NOT bar_45 Pos_14 Pitch_69 Dur_2 NOT bar_46 Pos_0 Pitch_72 Dur_2 NOT bar_46 Pos_2 Pitch_74 Dur_2 HALF bar_46 Pos_4 Pitch_76 Dur_2 ', 'NOT bar_47 Pos_0 Pitch_69 Dur_2 NOT bar_47 Pos_2 Pitch_77 Dur_2 NOT bar_47 Pos_4 Pitch_72 Dur_2 NOT bar_47 Pos_6 Pitch_69 Dur_2 NOT bar_47 Pos_8 Pitch_77 Dur_2 NOT bar_47 Pos_10 Pitch_72 Dur_2 NOT bar_47 Pos_12 Pitch_69 Dur_2 NOT bar_47 Pos_14 Pitch_72 Dur_2 NOT bar_48 Pos_0 Pitch_67 Dur_2 NOT bar_48 Pos_2 Pitch_76 Dur_2 NOT bar_48 Pos_4 Pitch_76 Dur_3 NOT bar_48 Pos_7 Pitch_76 Dur_2 NOT bar_48 Pos_9 Pitch_76 Dur_2 NOT bar_48 Pos_11 Pitch_74 Dur_2 NOT bar_48 Pos_13 Pitch_72 Dur_3 HALF bar_49 Pos_0 Pitch_72 Dur_4 ', 'NOT bar_50 Pos_0 Pitch_67 Dur_2 NOT bar_50 Pos_2 Pitch_67 Dur_2 NOT bar_50 Pos_4 Pitch_67 Dur_2 NOT bar_50 Pos_6 Pitch_67 Dur_2 NOT bar_50 Pos_8 Pitch_71 Dur_3 NOT bar_50 Pos_11 Pitch_74 Dur_3 NOT bar_50 Pos_14 Pitch_72 Dur_2 NOT bar_51 Pos_0 Pitch_69 Dur_2 NOT bar_51 Pos_2 Pitch_71 Dur_2 NOT bar_51 Pos_4 Pitch_72 Dur_4 NOT bar_51 Pos_8 Pitch_74 Dur_2 NOT bar_51 Pos_10 Pitch_76 Dur_2 HALF bar_51 Pos_12 Pitch_76 Dur_6 ', 'NOT bar_53 Pos_0 Pitch_72 Dur_2 NOT bar_53 Pos_2 Pitch_71 Dur_2 NOT bar_53 Pos_4 Pitch_69 Dur_2 NOT bar_53 Pos_6 Pitch_67 Dur_2 NOT bar_53 Pos_8 Pitch_64 Dur_2 NOT bar_53 Pos_10 Pitch_67 Dur_2 NOT bar_53 Pos_12 Pitch_64 Dur_2 NOT bar_53 Pos_14 Pitch_64 Dur_2 NOT bar_54 Pos_0 Pitch_62 Dur_2 NOT bar_54 Pos_2 Pitch_60 Dur_6 NOT bar_54 Pos_8 Pitch_60 Dur_2 NOT bar_54 Pos_10 Pitch_60 Dur_2 NOT bar_54 Pos_12 Pitch_60 Dur_2 NOT bar_54 Pos_14 Pitch_60 Dur_2 NOT bar_55 Pos_0 Pitch_60 Dur_2 HALF bar_55 Pos_2 Pitch_60 Dur_4 ', 'NOT bar_56 Pos_0 Pitch_67 Dur_2 NOT bar_56 Pos_2 Pitch_71 Dur_2 NOT bar_56 Pos_4 Pitch_74 Dur_2 NOT bar_56 Pos_6 Pitch_71 Dur_2 NOT bar_56 Pos_8 Pitch_74 Dur_2 NOT bar_56 Pos_10 Pitch_71 Dur_2 NOT bar_56 Pos_12 Pitch_74 Dur_2 NOT bar_56 Pos_14 Pitch_72 Dur_2 NOT bar_57 Pos_0 Pitch_64 Dur_2 NOT bar_57 Pos_2 Pitch_64 Dur_8 NOT bar_57 Pos_10 Pitch_69 Dur_2 NOT bar_57 Pos_12 Pitch_71 Dur_2 NOT bar_57 Pos_14 Pitch_72 Dur_2 NOT bar_58 Pos_0 Pitch_72 Dur_4 HALF bar_58 Pos_4 Pitch_69 Dur_4 ', 'NOT bar_59 Pos_0 Pitch_69 Dur_2 NOT bar_59 Pos_2 Pitch_69 Dur_2 NOT bar_59 Pos_4 Pitch_69 Dur_2 NOT bar_59 Pos_6 Pitch_69 Dur_6 NOT bar_59 Pos_12 Pitch_71 Dur_2 NOT bar_59 Pos_14 Pitch_72 Dur_4 NOT bar_60 Pos_2 Pitch_71 Dur_2 NOT bar_60 Pos_4 Pitch_69 Dur_2 NOT bar_60 Pos_6 Pitch_69 Dur_6 NOT bar_60 Pos_12 Pitch_71 Dur_2 NOT bar_60 Pos_14 Pitch_72 Dur_4 NOT bar_61 Pos_2 Pitch_72 Dur_2 NOT bar_61 Pos_4 Pitch_72 Dur_2 NOT bar_61 Pos_6 Pitch_72 Dur_2 NOT bar_61 Pos_8 Pitch_72 Dur_2 NOT bar_61 Pos_10 Pitch_74 Dur_2 NOT bar_61 Pos_12 Pitch_76 Dur_2 NOT bar_61 Pos_14 Pitch_72 Dur_2 NOT bar_62 Pos_0 Pitch_71 Dur_2 NOT bar_62 Pos_2 Pitch_72 Dur_3 NOT bar_62 Pos_5 Pitch_74 Dur_11 HALF bar_63 Pos_0 Pitch_67 Dur_8 ', 'NOT bar_64 Pos_0 Pitch_69 Dur_2 NOT bar_64 Pos_2 Pitch_72 Dur_3 NOT bar_64 Pos_5 Pitch_72 Dur_3 NOT bar_64 Pos_8 Pitch_72 Dur_2 NOT bar_64 Pos_10 Pitch_74 Dur_2 NOT bar_64 Pos_12 Pitch_76 Dur_3 NOT bar_64 Pos_15 Pitch_74 Dur_2 NOT bar_65 Pos_1 Pitch_69 Dur_2 NOT bar_65 Pos_3 Pitch_71 Dur_2 NOT bar_65 Pos_5 Pitch_72 Dur_4 NOT bar_65 Pos_9 Pitch_69 Dur_2 NOT bar_65 Pos_11 Pitch_71 Dur_5 HALF bar_66 Pos_0 Pitch_72 Dur_4 ', 'NOT bar_67 Pos_0 Pitch_67 Dur_2 NOT bar_67 Pos_2 Pitch_67 Dur_2 NOT bar_67 Pos_4 Pitch_67 Dur_2 NOT bar_67 Pos_6 Pitch_65 Dur_2 NOT bar_67 Pos_8 Pitch_64 Dur_2 NOT bar_67 Pos_10 Pitch_59 Dur_2 NOT bar_67 Pos_12 Pitch_55 Dur_2 NOT bar_67 Pos_14 Pitch_62 Dur_4 NOT bar_68 Pos_2 Pitch_59 Dur_2 NOT bar_68 Pos_4 Pitch_55 Dur_3 HALF bar_68 Pos_7 Pitch_62 Dur_2 ', 'NOT bar_69 Pos_0 Pitch_57 Dur_2 NOT bar_69 Pos_2 Pitch_52 Dur_2 NOT bar_69 Pos_4 Pitch_55 Dur_2 NOT bar_69 Pos_6 Pitch_55 Dur_3 HALF bar_69 Pos_9 Pitch_60 Dur_11 ']\n"
     ]
    }
   ],
   "source": [
    "chord_ptr = 0\n",
    "\n",
    "is_maj = 1\n",
    "#is_maj = 0\n",
    "\n",
    "\n",
    "sentence = lyrics.strip().split('[sep]')\n",
    "name = sentence[0]\n",
    "sentence = [len(x.strip().split(' ')) * '_' for x in sentence] # parsing the syllables\n",
    "\n",
    "# if use_sentiment:\n",
    "#     sent = '.'.join(sentence)\n",
    "#     blob = TextBlob(sent)\n",
    "#     polarity = 0\n",
    "#     for s in blob.sentences:\n",
    "#         polarity += s.sentiment.polarity\n",
    "#     if polarity >= 0:\n",
    "#         is_maj = 1\n",
    "#     else:\n",
    "#         is_maj = 0\n",
    "\n",
    "print('Tonality:', is_maj)\n",
    "\n",
    "# structure recognition\n",
    "parent, chorus_start, chorus_length = Lyrics_match(\n",
    "    sentence)  # The last element must be -1, because the chord should go back to tonic\n",
    "if is_debug:\n",
    "    print('Struct Array: ', parent)\n",
    "\n",
    "chorus_range = get_chorus(chorus_start, chorus_length, lyrics)\n",
    "if is_debug:\n",
    "    print('Recognized Chorus: ', chorus_start, chorus_length)\n",
    "\n",
    "select_notes = []  # selected_melodies\n",
    "select_chords = []  # selected chords\n",
    "is_chorus = 0  # is a chorus?\n",
    "note_string = ''  # the 'melody context' mentioned in the paper.\n",
    "bar_idx = 0  # current bar index. it is used to replace bar index in retrieved pieces.\n",
    "last_note_end = -16\n",
    "# is_1smn = 0             # Does 1 Syllable align with Multi Notes? In the future, we will explore better methods to realize this function. Here by default, we disable it.\n",
    "\n",
    "for i in range(len(sentence)):\n",
    "\n",
    "    print('Lyrics: ', lyrics.strip().split('[sep]')[i])\n",
    "\n",
    "    is_last_sentence = (i == len(sentence) - 1)\n",
    "\n",
    "    if i in chorus_range:\n",
    "        is_chorus = 1\n",
    "    else:\n",
    "        is_chorus = 0\n",
    "\n",
    "    cnt = len(sentence[i])\n",
    "    if cnt <= 2 and parent[i] == -2:  # if length is too short, do not partially share\n",
    "        parent[i] = -1\n",
    "\n",
    "    # Following codes correspond to 'Retrieval and Re-ranking' in Section 3.2.\n",
    "    # parent[i] is the 'struct value' in the paper.\n",
    "    if parent[i] == -1:\n",
    "        if is_debug:\n",
    "            print('No sharing.')\n",
    "        one_syllable_multi_notes_probabilty = random.randint(1,100)\n",
    "        if one_syllable_multi_notes_probabilty == 1:\n",
    "            is_1smn = 1\n",
    "            connect_notes = random.randint(1,2)\n",
    "            cnt += connect_notes\n",
    "            connect_start = random.randint(1,cnt)\n",
    "            print('One Syllable Multi Notes range:',connect_start, connect_start + connect_notes)\n",
    "\n",
    "        if len(select_notes) == 0:  # The first sentence of a song.\n",
    "            last_bar = None\n",
    "        else:\n",
    "            last_bar = select_notes[-1]\n",
    "\n",
    "        selected_bars = select_melody(is_maj, is_chorus, cnt, last_bar, chord, chord_ptr, is_last_sentence)\n",
    "        if cnt < 9 and len(selected_bars) > 0:\n",
    "            selected_bars = lm_score(selected_bars, note_string, bar_idx)\n",
    "            # selected_bars = no_keep_trend(selected_bars)\n",
    "            bar_chord = selected_bars[random.randint(0, len(selected_bars) - 1)]\n",
    "            s_bar = bar_chord[0]\n",
    "            s_chord = bar_chord[1]\n",
    "            s_bar, bar_idx = fill_template(s_bar,\n",
    "                                            bar_idx)  # The returned bar index is the first bar index which should be in the next sentence, that is s_bar + 1.\n",
    "        else:  # If no pieces is retrieved or there are too many syllables in a lyric.\n",
    "            if is_debug:\n",
    "                print('No pieces is retrieved or there are too many syllables in a lyric. Split the lyric.')\n",
    "            s_bar = ''\n",
    "            s_chord = ''\n",
    "            origin_cnt = cnt\n",
    "            error = 0\n",
    "            while cnt > 0:\n",
    "                l = max(origin_cnt // 3, 5)\n",
    "                r = max(origin_cnt // 2, 7)  # Better to use long pieces, for better coherency.\n",
    "                split_len = random.randint(l, r)\n",
    "                if split_len > cnt:\n",
    "                    split_len = cnt\n",
    "                if is_debug:\n",
    "                    print('Split at ', split_len)\n",
    "                selected_bars = select_melody(is_maj, is_chorus, split_len, last_bar, chord, chord_ptr,\n",
    "                                                is_last_sentence)\n",
    "                if len(selected_bars) > 0:\n",
    "                    selected_bars = lm_score(selected_bars, note_string + s_bar, bar_idx)\n",
    "                    bar_chord = selected_bars[random.randint(0, len(selected_bars) - 1)]\n",
    "                    last_bar = bar_chord[0]\n",
    "                    last_chord = bar_chord[1]\n",
    "                    s_bar = splice(s_bar, last_bar)\n",
    "                    s_chord += ' ' + last_chord\n",
    "\n",
    "                    # Explanation: if this condition is true, i.e., the length of s_bar + last_bar == the length of last_bar,\n",
    "                    # then the only possibility is that we are in the first step of this while loop. We need to replace the bar index in retrieved pieces with the true bar index.\n",
    "                    # In the following steps, there is no need to do so because there is a implicit 'fill_template' in 'splice'.\n",
    "                    if len(s_bar) == len(last_bar):\n",
    "                        s_bar, bar_idx = fill_template(s_bar, bar_idx)\n",
    "                    s_chord, chord_ptr = polish_chord(s_bar, s_chord, chord, chord_ptr)\n",
    "                    last_bar = s_bar\n",
    "                    cnt -= split_len\n",
    "                else:\n",
    "                    error += 1\n",
    "                    if error >= 10:\n",
    "                        print('Database has not enough pieces to support ROC.')\n",
    "                        exit()\n",
    "\n",
    "            s_chord = s_chord[1:]\n",
    "\n",
    "        s_bar, bar_idx, last_note_end = polish(s_bar, last_note_end)\n",
    "        s_chord, chord_ptr = polish_chord(s_bar, s_chord, chord, chord_ptr)\n",
    "        note_string += s_bar\n",
    "        select_notes.append(s_bar)\n",
    "        select_chords.append(s_chord)\n",
    "        if is_debug:\n",
    "            print('Selected notes: ', s_bar)\n",
    "            print('Chords: ', s_chord)\n",
    "\n",
    "    elif parent[i] == -2:\n",
    "        if is_debug:\n",
    "            print('Share partial melody from the previous lyric.')\n",
    "\n",
    "        l = min(cnt // 3,\n",
    "                3)  # As mentioned in 'Concatenation and Polish' Section, for adjacents lyrics having the same syllabels number,\n",
    "        r = min(cnt // 2, 5)  # we 'polish their melodies to sound similar'\n",
    "\n",
    "        # modify some notes then share.\n",
    "        replace_len = random.randint(l, r)\n",
    "        last_bar = ' '.join(select_notes[-1].split(' ')[:- replace_len * 5 - 1]) + ' '\n",
    "        tail = select_notes[-1].split(' ')[- replace_len * 5 - 1:]\n",
    "        last_chord = ' '.join(chord_truc(last_bar, select_chords[-1]))\n",
    "        selected_bars = select_melody(is_maj, is_chorus, replace_len, last_bar, chord, chord_ptr,\n",
    "                                        is_last_sentence)\n",
    "        selected_bars = lm_score(selected_bars, note_string + last_bar, bar_idx)\n",
    "        for bar_chord in selected_bars:\n",
    "            bar = bar_chord[0]\n",
    "            s_chord = bar_chord[1]\n",
    "            s_bar = splice(last_bar, bar)\n",
    "            if not_mono(s_bar) and not_duplicate(s_bar, select_notes[-1]):\n",
    "                s_chord = last_chord + ' ' + s_chord\n",
    "                break\n",
    "\n",
    "        s_bar, bar_idx = fill_template(s_bar, bar_idx)\n",
    "        s_bar = s_bar.split(' ')\n",
    "\n",
    "        for i in range(2, len(tail)):  # Modify duration\n",
    "            if i % 5 == 2 or i % 5 == 1:  # dur and cadence\n",
    "                s_bar[-i] = tail[-i]\n",
    "        s_bar = ' '.join(s_bar)\n",
    "\n",
    "        s_bar, bar_idx, last_note_end = polish(s_bar, last_note_end, True)\n",
    "        s_chord, chord_ptr = polish_chord(s_bar, s_chord, chord, chord_ptr)\n",
    "        note_string += s_bar\n",
    "        select_notes.append(s_bar)\n",
    "        select_chords.append(s_chord)\n",
    "\n",
    "        if is_debug:\n",
    "            print('Modified notes: ', s_bar)\n",
    "            print('chords: ', s_chord)\n",
    "    else:\n",
    "        # 'struct value is postive' as mentioned in the paper, we directly share melodies.\n",
    "        if is_debug:\n",
    "            print('Share notes with sentence No.', parent[i])\n",
    "\n",
    "        s_bar = copy.deepcopy(select_notes[parent[i]])\n",
    "        s_chord = copy.deepcopy(select_chords[parent[i]])\n",
    "        s_bar, bar_idx = fill_template(s_bar, bar_idx)\n",
    "        s_bar, bar_idx, last_note_end = polish(s_bar, last_note_end, True)\n",
    "        s_chord, chord_ptr = polish_chord(s_bar, s_chord, chord, chord_ptr)\n",
    "        note_string += s_bar\n",
    "        select_notes.append(s_bar)\n",
    "        select_chords.append(s_chord)\n",
    "\n",
    "    if is_debug:\n",
    "        print(\n",
    "            '----------------------------------------------------------------------------------------------------------')\n",
    "\n",
    "if is_debug:\n",
    "    print(select_chords)\n",
    "    print(select_notes)"
   ]
  },
  {
   "cell_type": "markdown",
   "metadata": {},
   "source": [
    "# Конечный результат"
   ]
  },
  {
   "cell_type": "code",
   "execution_count": 8,
   "metadata": {},
   "outputs": [
    {
     "name": "stdout",
     "output_type": "stream",
     "text": [
      "['C: C:', 'G: A:m A:m F: F:', 'C: C: G: G: G:', 'A:m A:m F: F: F:', 'C: C: G:', 'A:m F: F: F:', 'C: C: G: G: G:', 'A:m F: F: F: F:', 'A:m F: F: F: F:', 'A:m F: F: F: F:', 'A:m F: C: C: C:', 'G: G: A:m A:m A:m', 'F: F: C: C: C:', ' ', 'C: C: C:', 'G: G: A:m A:m', 'F: F: C: C:', 'G: G: A:m', 'F: F: C: C: C:', 'G: G: A:m A:m A:m', 'F: F: C: C: C:', 'G: G: A:m A:m A:m', 'F: F: F: F: C: C: G: G: G:', 'A:m A:m A:m A:m F:', 'C: C: G: G:', 'A:m A:m C:']\n"
     ]
    }
   ],
   "source": [
    "print(select_chords)"
   ]
  },
  {
   "cell_type": "code",
   "execution_count": 9,
   "metadata": {},
   "outputs": [
    {
     "name": "stdout",
     "output_type": "stream",
     "text": [
      "['NOT bar_0 Pos_0 Pitch_64 Dur_2 NOT bar_0 Pos_2 Pitch_64 Dur_2 NOT bar_0 Pos_4 Pitch_64 Dur_3 NOT bar_0 Pos_7 Pitch_62 Dur_2 NOT bar_0 Pos_9 Pitch_60 Dur_3 NOT bar_0 Pos_12 Pitch_62 Dur_2 NOT bar_0 Pos_14 Pitch_64 Dur_3 NOT bar_1 Pos_1 Pitch_64 Dur_2 NOT bar_1 Pos_3 Pitch_62 Dur_5 NOT bar_1 Pos_8 Pitch_55 Dur_2 HALF bar_1 Pos_10 Pitch_55 Dur_2 ']\n"
     ]
    }
   ],
   "source": [
    "print(select_notes[:1])"
   ]
  },
  {
   "cell_type": "code",
   "execution_count": 1415,
   "metadata": {},
   "outputs": [
    {
     "name": "stdout",
     "output_type": "stream",
     "text": [
      "Save the melody to take 1.mid.mid\n"
     ]
    },
    {
     "ename": "NameError",
     "evalue": "name 'is_debug' is not defined",
     "output_type": "error",
     "traceback": [
      "\u001b[0;31m---------------------------------------------------------------------------\u001b[0m",
      "\u001b[0;31mNameError\u001b[0m                                 Traceback (most recent call last)",
      "Cell \u001b[0;32mIn [1415], line 1\u001b[0m\n\u001b[0;32m----> 1\u001b[0m save_demo(\n\u001b[1;32m      2\u001b[0m     note_string, \n\u001b[1;32m      3\u001b[0m     select_chords, \n\u001b[1;32m      4\u001b[0m     name, \n\u001b[1;32m      5\u001b[0m     \u001b[39m'\u001b[39;49m\u001b[39men\u001b[39;49m\u001b[39m'\u001b[39;49m,\n\u001b[1;32m      6\u001b[0m     lyrics\u001b[39m.\u001b[39;49mstrip()\u001b[39m.\u001b[39;49msplit(\u001b[39m'\u001b[39;49m\u001b[39m[sep]\u001b[39;49m\u001b[39m'\u001b[39;49m),\n\u001b[1;32m      7\u001b[0m     [\u001b[39mlen\u001b[39;49m(i) \u001b[39mfor\u001b[39;49;00m i \u001b[39min\u001b[39;49;00m sentence])\n",
      "File \u001b[0;32m~/ROC/lyrics_to_melody.py:223\u001b[0m, in \u001b[0;36msave_demo\u001b[0;34m(notes_str, select_chords, name, lang, sentence, word_counter)\u001b[0m\n\u001b[1;32m    221\u001b[0m chord_time \u001b[39m=\u001b[39m []\n\u001b[1;32m    222\u001b[0m \u001b[39mfor\u001b[39;00m i \u001b[39min\u001b[39;00m \u001b[39mrange\u001b[39m(\u001b[39mlen\u001b[39m(notes) \u001b[39m/\u001b[39m\u001b[39m/\u001b[39m \u001b[39m5\u001b[39m):\n\u001b[0;32m--> 223\u001b[0m     \u001b[39mif\u001b[39;00m is_debug:\n\u001b[1;32m    224\u001b[0m         \u001b[39mprint\u001b[39m(\u001b[39m'\u001b[39m\u001b[39mwriting idx: \u001b[39m\u001b[39m'\u001b[39m, i)\n\u001b[1;32m    225\u001b[0m     \u001b[39m# cadence = notes[5 * i]\u001b[39;00m\n",
      "\u001b[0;31mNameError\u001b[0m: name 'is_debug' is not defined"
     ]
    }
   ],
   "source": [
    "save_demo(\n",
    "    note_string, \n",
    "    select_chords, \n",
    "    name, \n",
    "    'en',\n",
    "    lyrics.strip().split('[sep]'),\n",
    "    [len(i) for i in sentence])"
   ]
  },
  {
   "cell_type": "code",
   "execution_count": 10,
   "metadata": {},
   "outputs": [],
   "source": [
    "conn.close()"
   ]
  },
  {
   "cell_type": "markdown",
   "metadata": {},
   "source": [
    "# Select melody: how does it work"
   ]
  },
  {
   "cell_type": "code",
   "execution_count": 72,
   "metadata": {},
   "outputs": [
    {
     "ename": "NameError",
     "evalue": "name 'c' is not defined",
     "output_type": "error",
     "traceback": [
      "\u001b[0;31m---------------------------------------------------------------------------\u001b[0m",
      "\u001b[0;31mNameError\u001b[0m                                 Traceback (most recent call last)",
      "Cell \u001b[0;32mIn [72], line 1\u001b[0m\n\u001b[0;32m----> 1\u001b[0m selected_bars \u001b[39m=\u001b[39m select_melody(is_maj, is_chorus, cnt, last_bar, chord, chord_ptr, is_last_sentence)\n\u001b[1;32m      2\u001b[0m \u001b[39mprint\u001b[39m(selected_bars)\n",
      "File \u001b[0;32m~/ROC/lyrics_to_melody.py:31\u001b[0m, in \u001b[0;36mselect_melody\u001b[0;34m(is_maj, is_chorus, length, last_bar, chord, chord_ptr, is_last_sentence)\u001b[0m\n\u001b[1;32m     30\u001b[0m \u001b[39mdef\u001b[39;00m \u001b[39mselect_melody\u001b[39m(is_maj, is_chorus, length, last_bar, chord, chord_ptr, is_last_sentence):\n\u001b[0;32m---> 31\u001b[0m     cursor \u001b[39m=\u001b[39m c\u001b[39m.\u001b[39mexecute(\n\u001b[1;32m     32\u001b[0m         \u001b[39m\"\u001b[39m\u001b[39mSELECT DISTINCT NOTES, CHORDS from MELOLIB  where LENGTH = \u001b[39m\u001b[39m'\u001b[39m\u001b[39m{}\u001b[39;00m\u001b[39m'\u001b[39m\u001b[39m and CHORUS = \u001b[39m\u001b[39m'\u001b[39m\u001b[39m{}\u001b[39;00m\u001b[39m'\u001b[39m\u001b[39m and MAJOR = \u001b[39m\u001b[39m'\u001b[39m\u001b[39m{}\u001b[39;00m\u001b[39m'\u001b[39m\u001b[39m \u001b[39m\u001b[39m\"\u001b[39m\u001b[39m.\u001b[39mformat(\n\u001b[1;32m     33\u001b[0m             length, is_chorus, is_maj))  \u001b[39m# and MAJOR = '{}'\u001b[39;00m\n\u001b[1;32m     34\u001b[0m     candidates_bars \u001b[39m=\u001b[39m []\n\u001b[1;32m     35\u001b[0m     \u001b[39mif\u001b[39;00m is_debug:\n",
      "\u001b[0;31mNameError\u001b[0m: name 'c' is not defined"
     ]
    }
   ],
   "source": [
    "selected_bars = select_melody(is_maj, is_chorus, cnt, last_bar, chord, chord_ptr, is_last_sentence)\n",
    "print(selected_bars)"
   ]
  },
  {
   "cell_type": "code",
   "execution_count": 73,
   "metadata": {},
   "outputs": [
    {
     "name": "stdout",
     "output_type": "stream",
     "text": [
      "Length =  14\n"
     ]
    }
   ],
   "source": [
    "length = cnt\n",
    "print('Length = ', length)"
   ]
  },
  {
   "cell_type": "code",
   "execution_count": 74,
   "metadata": {},
   "outputs": [],
   "source": [
    "# Поиск в базе кусочка по длине, ладу и тому, является ли припевом или нет\n",
    "cursor = c.execute(\n",
    "    \"SELECT DISTINCT NOTES, CHORDS from MELOLIB  where LENGTH = '{}' and CHORUS = '{}' and MAJOR = '{}' \".format(\n",
    "        length, is_chorus, is_maj\n",
    "        )\n",
    "        )  # and MAJOR = '{}'"
   ]
  },
  {
   "cell_type": "code",
   "execution_count": 75,
   "metadata": {},
   "outputs": [
    {
     "name": "stdout",
     "output_type": "stream",
     "text": [
      "Retrive melody...\n",
      "('NOT bar_X Pos_2 Pitch_76 Dur_1 NOT bar_X Pos_4 Pitch_76 Dur_1 NOT bar_X Pos_6 Pitch_76 Dur_1 NOT bar_X Pos_8 Pitch_76 Dur_2 NOT bar_X Pos_10 Pitch_74 Dur_2 NOT bar_X Pos_12 Pitch_72 Dur_2 NOT bar_X Pos_14 Pitch_74 Dur_4 NOT bar_Y Pos_2 Pitch_72 Dur_1 NOT bar_Y Pos_4 Pitch_72 Dur_1 NOT bar_Y Pos_6 Pitch_72 Dur_1 NOT bar_Y Pos_8 Pitch_72 Dur_2 NOT bar_Y Pos_10 Pitch_71 Dur_2 NOT bar_Y Pos_12 Pitch_69 Dur_2 NOT bar_Y Pos_14 Pitch_67 Dur_4 ', 'C: C: D:m7 D:m7 C:maj7')\n",
      "2089  melodies retirved\n"
     ]
    }
   ],
   "source": [
    "candidates_bars = []\n",
    "print(\"Retrive melody...\")\n",
    "for row in cursor:\n",
    "    notes = row[0]\n",
    "    cd_ = row[1]\n",
    "    candidates_bars.append((notes, cd_))\n",
    "\n",
    "print(candidates_bars[0])\n",
    "print(len(candidates_bars), ' melodies retirved')"
   ]
  },
  {
   "cell_type": "code",
   "execution_count": 76,
   "metadata": {},
   "outputs": [
    {
     "data": {
      "text/plain": [
       "0"
      ]
     },
     "execution_count": 76,
     "metadata": {},
     "output_type": "execute_result"
    }
   ],
   "source": [
    "chord_ptr"
   ]
  },
  {
   "cell_type": "code",
   "execution_count": 77,
   "metadata": {},
   "outputs": [
    {
     "name": "stdout",
     "output_type": "stream",
     "text": [
      "['C:', 'E:m', 'G:', 'B:m', 'C:', 'E:m', 'G:', 'B:m', 'C:', 'E:m', 'G:', 'B:m', 'C:', 'E:m', 'G:', 'B:m', 'C:', 'E:m', 'G:', 'B:m', 'C:', 'E:m', 'G:', 'B:m', 'C:', 'E:m', 'G:', 'B:m', 'C:', 'E:m', 'G:', 'B:m', 'C:', 'E:m', 'G:', 'B:m', 'C:', 'E:m', 'G:', 'B:m', 'C:', 'E:m', 'G:', 'B:m', 'C:', 'E:m', 'G:', 'B:m', 'C:', 'E:m', 'G:', 'B:m', 'C:']\n"
     ]
    }
   ],
   "source": [
    "# Filter by chords.\n",
    "chord_list_ = chord.strip().split(' ')\n",
    "chord_list_ = chord_list_[chord_ptr:] + chord_list_[:chord_ptr]\n",
    "re_str = ''\n",
    "print(chord_list_)"
   ]
  },
  {
   "cell_type": "code",
   "execution_count": 78,
   "metadata": {},
   "outputs": [],
   "source": [
    "# Здесь задано условие, что на последнем такте должна быть тоника\n",
    "\n",
    "if not is_last_sentence:\n",
    "    key = ''\n",
    "else:\n",
    "    if is_maj:\n",
    "        key = ' C:'\n",
    "    else:\n",
    "        key = ' A:m'"
   ]
  },
  {
   "cell_type": "code",
   "execution_count": 79,
   "metadata": {},
   "outputs": [],
   "source": [
    "# Оформление строки для запроса\n",
    "    # For the given chord progression, we generate a regex like:\n",
    "    # A:m F: G: C: -> ^A:m( A:m)*( F:)+( G:)+( C:)*$|^A:m( A:m)*( F:)+( G:)*$|^A:m( A:m)*( F:)*$|^A:m( A:m)*$\n",
    "    # Given the regex, we find matched pieces.\n",
    "    # We design the regex like this because alternations in regular expressions are evaluated from left to right,\n",
    "    # the piece with the most various chords will be selected, if there's any.\n",
    "for j in range(len(chord_list_), 0, -1):\n",
    "    re_str += '^({}( {})*'.format(chord_list_[0], chord_list_[0])\n",
    "    for idx in range(1, j):\n",
    "        re_str += '( {})+'.format(chord_list_[idx])\n",
    "    re_str = re_str[:-1]\n",
    "    re_str += '*{})$|'.format(key)\n",
    "re_str = re_str[:-1]\n"
   ]
  },
  {
   "cell_type": "code",
   "execution_count": 80,
   "metadata": {},
   "outputs": [
    {
     "name": "stdout",
     "output_type": "stream",
     "text": [
      "39  candidates remain\n"
     ]
    }
   ],
   "source": [
    "# Фльтр по аккордам\n",
    "tmp_candidates = []\n",
    "for row in candidates_bars:\n",
    "    if re.match(r'{}'.format(re_str), row[1]):\n",
    "        tmp_candidates.append(row)\n",
    "\n",
    "print(len(tmp_candidates), ' candidates remain')"
   ]
  },
  {
   "cell_type": "code",
   "execution_count": 81,
   "metadata": {},
   "outputs": [],
   "source": [
    "# Что делать, если кандидатов не найдено\n",
    "if len(tmp_candidates) == 0:\n",
    "    print('меняем запрос')\n",
    "    re_str = '^{}( {})*$'.format(chord_list_[-1], chord_list_[-1])\n",
    "    for row in candidates_bars:\n",
    "        if re.match(r'{}'.format(re_str), row[1]):\n",
    "            tmp_candidates.append(row)\n",
    "    print(len(tmp_candidates), ' candidates remain')"
   ]
  },
  {
   "cell_type": "code",
   "execution_count": 82,
   "metadata": {},
   "outputs": [
    {
     "name": "stdout",
     "output_type": "stream",
     "text": [
      "39  candidates remain\n"
     ]
    }
   ],
   "source": [
    "# Также что делать, если кандидатов не нашлось\n",
    "if len(tmp_candidates) > 0:\n",
    "    candidates_bars = tmp_candidates\n",
    "else:\n",
    "    if is_maj:\n",
    "        re_str = '^C:( C:)*$'\n",
    "    else:\n",
    "        re_str = '^A:m( A:m)*$'\n",
    "    for row in candidates_bars:\n",
    "        if re.match(r'{}'.format(re_str), row[1]):\n",
    "            tmp_candidates.append(row)\n",
    "    if len(tmp_candidates) > 0:\n",
    "        candidates_bars = tmp_candidates\n",
    "\n",
    "print(len(candidates_bars), ' candidates remain')"
   ]
  },
  {
   "cell_type": "code",
   "execution_count": 83,
   "metadata": {},
   "outputs": [],
   "source": [
    "candidates_cnt = len(candidates_bars)\n",
    "if candidates_cnt == 0:\n",
    "    print('No Matched Rhythm as {}'.format(length))\n",
    "    selected_bars = []"
   ]
  },
  {
   "cell_type": "markdown",
   "metadata": {},
   "source": [
    "Если только что был вывод, то на этом всё."
   ]
  },
  {
   "cell_type": "code",
   "execution_count": 84,
   "metadata": {},
   "outputs": [
    {
     "name": "stdout",
     "output_type": "stream",
     "text": [
      "Start a song...\n"
     ]
    }
   ],
   "source": [
    "if last_bar == None:  # we are at the begining of a song, random select bars.\n",
    "    print('Start a song...')"
   ]
  },
  {
   "cell_type": "markdown",
   "metadata": {},
   "source": [
    "### Если это начало песни, выполнить:"
   ]
  },
  {
   "cell_type": "code",
   "execution_count": 85,
   "metadata": {},
   "outputs": [
    {
     "name": "stdout",
     "output_type": "stream",
     "text": [
      "349  notes filtered\n",
      "('NOT bar_X Pos_2 Pitch_76 Dur_1 NOT bar_X Pos_3 Pitch_76 Dur_1 NOT bar_X Pos_4 Pitch_76 Dur_1 NOT bar_X Pos_5 Pitch_76 Dur_1 NOT bar_X Pos_6 Pitch_76 Dur_1 NOT bar_X Pos_7 Pitch_76 Dur_1 NOT bar_X Pos_8 Pitch_76 Dur_1 NOT bar_X Pos_9 Pitch_74 Dur_1 AUT bar_X Pos_10 Pitch_72 Dur_11 NOT bar_Y Pos_6 Pitch_76 Dur_1 NOT bar_Y Pos_7 Pitch_76 Dur_1 NOT bar_Y Pos_8 Pitch_76 Dur_1 NOT bar_Y Pos_9 Pitch_74 Dur_1 AUT bar_Y Pos_10 Pitch_72 Dur_11 ', 'C: C: C: C: C:')\n"
     ]
    }
   ],
   "source": [
    "# Фльтр слишком низких и слшком высоких нот (От pitch 57 до 66)\n",
    "tmp = []\n",
    "counter = 0\n",
    "for bar in candidates_bars:\n",
    "    notes = bar[0].split(' ')[:-1][3::5]\n",
    "    notes = [int(x[6:]) for x in notes]\n",
    "    for i in notes:\n",
    "        if 57 > i or i > 66:\n",
    "            too_high = True\n",
    "            counter += 1\n",
    "    too_high = False\n",
    "\n",
    "    if not too_high:\n",
    "        tmp.append(bar)\n",
    "\n",
    "selected_bars = tmp\n",
    "print(counter, ' notes filtered')\n",
    "print(selected_bars[0])\n"
   ]
  },
  {
   "cell_type": "markdown",
   "metadata": {},
   "source": [
    "На этом всё"
   ]
  },
  {
   "cell_type": "markdown",
   "metadata": {},
   "source": [
    "### Если это не начало песни"
   ]
  },
  {
   "cell_type": "code",
   "execution_count": null,
   "metadata": {},
   "outputs": [],
   "source": [
    "last_note = int(last_bar.split(' ')[-3][6:])\n",
    "# tendency\n",
    "selected_bars = []\n",
    "prefer_note = None"
   ]
  },
  {
   "cell_type": "code",
   "execution_count": null,
   "metadata": {},
   "outputs": [],
   "source": [
    "#Дальнейшее построение мелодии в зависимости от предыдущей ноты\n",
    "# Major C\n",
    "if is_maj:\n",
    "    if last_note % 12 == 2 or last_note % 12 == 9:\n",
    "        prefer_note = last_note - 2\n",
    "    elif last_note % 12 == 5:\n",
    "        prefer_note = last_note - 1\n",
    "    elif last_note % 12 == 11:\n",
    "        prefer_note = last_note + 1\n",
    "# Minor A\n",
    "else:\n",
    "    if last_note % 12 == 11 or last_note % 12 == 2:  # 2 -> 1, 4 -> 3\n",
    "        prefer_note = last_note - 2\n",
    "    elif last_note % 12 == 6:  # 6 -> 5\n",
    "        prefer_note = last_note - 1\n",
    "    elif last_note % 12 == 7:  # 7-> 1\n",
    "        prefer_note = last_note + 2"
   ]
  },
  {
   "cell_type": "code",
   "execution_count": null,
   "metadata": {},
   "outputs": [],
   "source": [
    "if prefer_note is not None:\n",
    "    for x in candidates_bars:\n",
    "        if x[0][0] == prefer_note:\n",
    "            selected_bars.append(x)"
   ]
  },
  {
   "cell_type": "code",
   "execution_count": null,
   "metadata": {},
   "outputs": [],
   "source": [
    "# Добавление кусочка к кандидату\n",
    "if len(selected_bars) > 0:\n",
    "    print('Filter by tendency...')\n",
    "    candidates_bars = selected_bars"
   ]
  },
  {
   "cell_type": "code",
   "execution_count": null,
   "metadata": {},
   "outputs": [],
   "source": [
    "selected_bars = []\n",
    "for bar in candidates_bars:\n",
    "    first_pitch = int(bar[0].split(' ')[3][6:])\n",
    "    if (first_pitch > last_note - 8 and first_pitch < last_note + 8):\n",
    "            selected_bars.append(bar)\n",
    "if len(selected_bars) > 0:\n",
    "    print('Filter by pitch range...')\n",
    "    selected_bars"
   ]
  },
  {
   "cell_type": "markdown",
   "metadata": {},
   "source": [
    "### Если ничего не нашлось"
   ]
  },
  {
   "cell_type": "code",
   "execution_count": null,
   "metadata": {},
   "outputs": [],
   "source": [
    "# No candidates yet? randomly return some.\n",
    "print(\"Randomly selected...\")"
   ]
  },
  {
   "cell_type": "markdown",
   "metadata": {},
   "source": [
    "# LM score: closer look"
   ]
  },
  {
   "cell_type": "code",
   "execution_count": null,
   "metadata": {},
   "outputs": [],
   "source": [
    "selected_bars = lm_score(selected_bars, note_string + s_bar, bar_idx)"
   ]
  },
  {
   "cell_type": "code",
   "execution_count": 117,
   "metadata": {},
   "outputs": [
    {
     "name": "stdout",
     "output_type": "stream",
     "text": [
      "note string:  NOT bar_X Pos_0 Pitch_60 Dur_2 NOT bar_X Pos_2 Pitch_62 Dur_2 HALF bar_X Pos_4 Pitch_64 Dur_6 NOT bar_X Pos_10 Pitch_60 Dur_2 NOT bar_X Pos_12 Pitch_64 Dur_2 NOT bar_X Pos_14 Pitch_62 Dur_1 NOT bar_X Pos_15 Pitch_64 Dur_1 \n",
      "bar index:  0\n"
     ]
    }
   ],
   "source": [
    "bars = selected_bars\n",
    "note_string = note_string + s_bar\n",
    "print('note string: ', note_string)\n",
    "print('bar index: ', bar_idx)"
   ]
  },
  {
   "cell_type": "code",
   "execution_count": 119,
   "metadata": {},
   "outputs": [
    {
     "name": "stdout",
     "output_type": "stream",
     "text": [
      "NOT bar_X Pos_0 Pitch_60 Dur_2 NOT bar_X Pos_2 Pitch_62 Dur_2 HALF bar_X Pos_4 Pitch_64 Dur_6 NOT bar_X Pos_10 Pitch_60 Dur_2 NOT bar_X Pos_12 Pitch_64 Dur_2 NOT bar_X Pos_14 Pitch_62 Dur_1 NOT bar_X Pos_15 Pitch_64 Dur_1 \n",
      "NOT bar_X Pos_0 Pitch_60 Dur_2 NOT bar_X Pos_2 Pitch_62 Dur_2 HALF bar_X Pos_4 Pitch_64 Dur_6 NOT bar_X Pos_10 Pitch_60 Dur_2 NOT bar_X Pos_12 Pitch_64 Dur_2 NOT bar_X Pos_14 Pitch_62 Dur_1 NOT bar_X Pos_15 Pitch_64 Dur_1 NOT bar_0 Pos_0 Pitch_60 Dur_2 NOT bar_0 Pos_2 Pitch_62 Dur_2 HALF bar_0 Pos_4 Pitch_64 Dur_6 NOT bar_0 Pos_10 Pitch_60 Dur_2 NOT bar_0 Pos_12 Pitch_64 Dur_2 NOT bar_0 Pos_14 Pitch_62 Dur_1 NOT bar_0 Pos_15 Pitch_64 Dur_1 \n"
     ]
    }
   ],
   "source": [
    "tmp_string = []\n",
    "n = ' '.join(note_string.split(' ')[-100:])\n",
    "print(n)\n",
    "for sbar in bars:\n",
    "    sbar_, _ = fill_template(sbar[0], bar_idx)\n",
    "    tmp_string.append(n + sbar_)\n",
    "\n",
    "print(tmp_string[0])\n"
   ]
  },
  {
   "cell_type": "markdown",
   "metadata": {},
   "source": [
    "Transformer Language model"
   ]
  },
  {
   "cell_type": "code",
   "execution_count": 121,
   "metadata": {},
   "outputs": [
    {
     "name": "stderr",
     "output_type": "stream",
     "text": [
      "2022-12-02 16:20:14 | INFO | fairseq.file_utils | loading archive file music-ckps/\n",
      "2022-12-02 16:20:15 | INFO | fairseq.tasks.language_modeling | dictionary: 336 types\n",
      "2022-12-02 16:20:15 | INFO | fairseq.models.fairseq_model | Namespace(no_progress_bar=False, log_interval=100, log_format=None, tensorboard_logdir=None, seed=1, cpu=False, tpu=False, bf16=False, memory_efficient_bf16=False, fp16=True, memory_efficient_fp16=False, fp16_no_flatten_grads=False, fp16_init_scale=128, fp16_scale_window=None, fp16_scale_tolerance=0.0, min_loss_scale=0.0001, threshold_loss_scale=None, user_dir=None, empty_cache_freq=0, all_gather_list_size=16384, model_parallel_size=1, checkpoint_suffix='', checkpoint_shard_count=1, quantization_config_path=None, profile=False, criterion='cross_entropy', tokenizer='space', bpe=None, optimizer='adam', lr_scheduler='inverse_sqrt', scoring='bleu', task='language_modeling', num_workers=1, skip_invalid_size_inputs_valid_test=False, max_tokens=None, batch_size=8192, required_batch_size_multiple=8, required_seq_len_multiple=1, dataset_impl=None, data_buffer_size=10, train_subset='train', valid_subset='valid', validate_interval=1, validate_interval_updates=0, validate_after_updates=0, fixed_validation_seed=None, disable_validation=False, max_tokens_valid=None, batch_size_valid=16, curriculum=0, gen_subset='test', num_shards=1, shard_id=0, distributed_world_size=2, distributed_rank=0, distributed_backend='nccl', distributed_init_method='tcp://localhost:18115', distributed_port=-1, device_id=0, distributed_no_spawn=False, ddp_backend='c10d', bucket_cap_mb=25, fix_batches_to_gpus=False, find_unused_parameters=False, fast_stat_sync=False, broadcast_buffers=False, distributed_wrapper='DDP', slowmo_momentum=None, slowmo_algorithm='LocalSGD', localsgd_frequency=3, nprocs_per_node=2, pipeline_model_parallel=False, pipeline_balance=None, pipeline_devices=None, pipeline_chunks=0, pipeline_encoder_balance=None, pipeline_encoder_devices=None, pipeline_decoder_balance=None, pipeline_decoder_devices=None, pipeline_checkpoint='never', zero_sharding='none', arch='transformer_lm', max_epoch=0, max_update=50000, stop_time_hours=0, clip_norm=0.0, sentence_avg=False, update_freq=[1], lr=[0.0001], min_lr=-1.0, use_bmuf=False, save_dir='checkpoints/music-ckps', restore_file='checkpoint_last.pt', finetune_from_model=None, reset_dataloader=False, reset_lr_scheduler=False, reset_meters=False, reset_optimizer=False, optimizer_overrides='{}', save_interval=1, save_interval_updates=0, keep_interval_updates=-1, keep_last_epochs=-1, keep_best_checkpoints=-1, no_save=False, no_epoch_checkpoints=True, no_last_checkpoints=False, no_save_optimizer_state=False, best_checkpoint_metric='ppl', maximize_best_checkpoint_metric=False, patience=20, activation_fn='relu', dropout=0.1, attention_dropout=0.1, activation_dropout=0.0, relu_dropout=0.0, decoder_embed_dim=256, decoder_output_dim=256, decoder_input_dim=256, decoder_ffn_embed_dim=2048, decoder_layers=4, decoder_attention_heads=4, decoder_normalize_before=True, no_decoder_final_norm=False, adaptive_softmax_cutoff=None, adaptive_softmax_dropout=0, adaptive_softmax_factor=4, no_token_positional_embeddings=False, share_decoder_input_output_embed=True, character_embeddings=False, character_filters='[(1, 64), (2, 128), (3, 192), (4, 256), (5, 256), (6, 256), (7, 256)]', character_embedding_dim=4, char_embedder_highway_layers=2, adaptive_input=False, adaptive_input_factor=4, adaptive_input_cutoff=None, tie_adaptive_weights=False, tie_adaptive_proj=False, decoder_learned_pos=False, decoder_layerdrop=0.0, decoder_layers_to_keep=None, layernorm_embedding=False, no_scale_embedding=False, quant_noise_pq=0.0, quant_noise_pq_block_size=8, quant_noise_scalar=0.0, adam_betas='(0.9, 0.98)', adam_eps=1e-08, weight_decay=0.01, use_old_adam=False, warmup_updates=4000, warmup_init_lr=1e-07, data='/home/marykorol/ROC/music-ckps', sample_break_mode='none', tokens_per_sample=512, output_dictionary_size=-1, self_target=False, future_target=False, past_target=False, add_bos_token=False, max_target_positions=512, shorten_method='none', shorten_data_split_list='', no_seed_provided=False, distributed_num_procs=2)\n"
     ]
    }
   ],
   "source": [
    "custom_lm = TransformerLanguageModel.from_pretrained('music-ckps/', 'checkpoint_best.pt', tokenizer='space', batch_size=8192).cuda() ##batch_size=8192"
   ]
  },
  {
   "cell_type": "code",
   "execution_count": 122,
   "metadata": {},
   "outputs": [
    {
     "name": "stdout",
     "output_type": "stream",
     "text": [
      "[-1.4300748109817505, -1.7863236665725708, -1.6854327917099, -1.6432011127471924, -1.6571078300476074, -1.7879468202590942, -1.8273859024047852, -1.6911218166351318, -1.6490498781204224, -1.6866108179092407, -1.7833352088928223, -1.6709933280944824, -1.692547082901001, -1.7468184232711792, -1.6804587841033936, -1.8105361461639404, -1.7329291105270386, -1.7314627170562744, -1.6447081565856934, -1.7520016431808472, -1.6835275888442993, -1.6533275842666626, -1.6672742366790771, -1.6592875719070435, -1.684422254562378, -1.6835284233093262, -1.599609375, -1.5680079460144043, -1.6503944396972656, -1.753185749053955, -1.647818922996521, -1.709039330482483, -1.5755046606063843, -1.6546794176101685, -1.717308759689331, -1.6337529420852661, -1.6332213878631592, -1.6758097410202026, -1.7071884870529175, -1.6378215551376343, -1.7218457460403442, -1.6788103580474854, -1.6440554857254028, -1.7222388982772827, -1.6640251874923706, -1.6943453550338745, -1.6922346353530884, -1.7473279237747192, -1.7268129587173462, -1.6729317903518677, -1.7255703210830688, -1.6598851680755615, -1.7275843620300293, -1.6672412157058716, -1.7276253700256348, -1.8893698453903198, -1.8508708477020264, -1.6767433881759644, -1.6912742853164673, -1.713578224182129, -1.7465189695358276, -1.7559012174606323, -1.5884969234466553, -1.79771089553833, -1.6995906829833984, -1.6699985265731812, -1.6375035047531128, -1.6480759382247925, -1.7092111110687256, -1.6723999977111816, -1.7213135957717896, -1.7321746349334717, -1.69204843044281, -1.834376335144043, -1.6445592641830444, -1.7519464492797852, -1.6789170503616333, -1.6767961978912354, -1.708532452583313, -1.7515990734100342, -1.7579138278961182, -1.763270378112793, -1.7030367851257324, -1.68186354637146, -1.5968234539031982, -1.7143431901931763, -1.756463646888733, -1.6178346872329712, -1.7953301668167114, -1.694620132446289, -1.820278286933899, -1.671357274055481, -1.6268798112869263, -1.5672104358673096, -1.6998744010925293, -1.667470097541809, -1.6310844421386719, -1.7228143215179443, -1.7796028852462769, -1.6847845315933228]\n"
     ]
    }
   ],
   "source": [
    "# Расчёт score для каждого кусочка мелодии\n",
    "score = [x['score'].item() for x in custom_lm.score(tmp_string)]\n",
    "print(score)"
   ]
  },
  {
   "cell_type": "code",
   "execution_count": 123,
   "metadata": {},
   "outputs": [],
   "source": [
    "assert len(score) == len(tmp_string)"
   ]
  },
  {
   "cell_type": "code",
   "execution_count": 124,
   "metadata": {},
   "outputs": [
    {
     "name": "stdout",
     "output_type": "stream",
     "text": [
      "-1.4300748109817505\n"
     ]
    }
   ],
   "source": [
    "# Выбор 30 лучших кусочков\n",
    "tmp = list(zip(bars, score))\n",
    "tmp.sort(key=lambda x: x[1], reverse=True)\n",
    "tmp = tmp[:30]\n",
    "best_score = tmp[0][1]\n",
    "print(best_score)"
   ]
  },
  {
   "cell_type": "code",
   "execution_count": 127,
   "metadata": {},
   "outputs": [
    {
     "name": "stdout",
     "output_type": "stream",
     "text": [
      "1  melodies chosen\n"
     ]
    }
   ],
   "source": [
    "res = []\n",
    "\n",
    "for x in tmp:\n",
    "    if best_score - x[1] < 0.1:\n",
    "        res.append(x[0])\n",
    "\n",
    "print(len(res), ' melodies chosen')"
   ]
  },
  {
   "cell_type": "code",
   "execution_count": 129,
   "metadata": {},
   "outputs": [
    {
     "data": {
      "text/plain": [
       "[('NOT bar_X Pos_0 Pitch_60 Dur_2 NOT bar_X Pos_2 Pitch_62 Dur_2 HALF bar_X Pos_4 Pitch_64 Dur_6 NOT bar_X Pos_10 Pitch_60 Dur_2 NOT bar_X Pos_12 Pitch_64 Dur_2 NOT bar_X Pos_14 Pitch_62 Dur_1 NOT bar_X Pos_15 Pitch_64 Dur_1 ',\n",
       "  'C: C: C:')]"
      ]
     },
     "execution_count": 129,
     "metadata": {},
     "output_type": "execute_result"
    }
   ],
   "source": [
    "res"
   ]
  },
  {
   "cell_type": "markdown",
   "metadata": {},
   "source": [
    "# Fill template: closer look"
   ]
  },
  {
   "cell_type": "markdown",
   "metadata": {},
   "source": [
    "Заполнение bar_X"
   ]
  },
  {
   "cell_type": "code",
   "execution_count": null,
   "metadata": {},
   "outputs": [],
   "source": [
    "sbar_, _ = fill_template(sbar[0], bar_idx)"
   ]
  },
  {
   "cell_type": "code",
   "execution_count": 111,
   "metadata": {},
   "outputs": [],
   "source": [
    "sbar = bars[0]"
   ]
  },
  {
   "cell_type": "code",
   "execution_count": 112,
   "metadata": {},
   "outputs": [
    {
     "name": "stdout",
     "output_type": "stream",
     "text": [
      "NOT bar_X Pos_0 Pitch_60 Dur_2 NOT bar_X Pos_2 Pitch_62 Dur_2 HALF bar_X Pos_4 Pitch_64 Dur_6 NOT bar_X Pos_10 Pitch_60 Dur_2 NOT bar_X Pos_12 Pitch_64 Dur_2 NOT bar_X Pos_14 Pitch_62 Dur_1 NOT bar_X Pos_15 Pitch_64 Dur_1 \n"
     ]
    }
   ],
   "source": [
    "s_bar = sbar[0]\n",
    "print(s_bar)"
   ]
  },
  {
   "cell_type": "code",
   "execution_count": 115,
   "metadata": {},
   "outputs": [
    {
     "data": {
      "text/plain": [
       "0"
      ]
     },
     "execution_count": 115,
     "metadata": {},
     "output_type": "execute_result"
    }
   ],
   "source": [
    "bar_idx"
   ]
  },
  {
   "cell_type": "code",
   "execution_count": 113,
   "metadata": {},
   "outputs": [
    {
     "name": "stdout",
     "output_type": "stream",
     "text": [
      "Last bar index:  X\n"
     ]
    }
   ],
   "source": [
    "notes = s_bar.split(' ')\n",
    "tmp = []\n",
    "last_bar_idx = notes[1][4:]\n",
    "print('Last bar index: ', last_bar_idx)"
   ]
  },
  {
   "cell_type": "code",
   "execution_count": 116,
   "metadata": {},
   "outputs": [
    {
     "data": {
      "text/plain": [
       "('NOT bar_0 Pos_0 Pitch_60 Dur_2 NOT bar_0 Pos_2 Pitch_62 Dur_2 HALF bar_0 Pos_4 Pitch_64 Dur_6 NOT bar_0 Pos_10 Pitch_60 Dur_2 NOT bar_0 Pos_12 Pitch_64 Dur_2 NOT bar_0 Pos_14 Pitch_62 Dur_1 NOT bar_0 Pos_15 Pitch_64 Dur_1 ',\n",
       " 1)"
      ]
     },
     "execution_count": 116,
     "metadata": {},
     "output_type": "execute_result"
    }
   ],
   "source": [
    "# Замена X на номер такта\n",
    "for i in range(len(notes)):\n",
    "    if i % 5 == 1: #Каждая пятая\n",
    "        if notes[i][4:] != last_bar_idx:\n",
    "            bar_idx += 1\n",
    "            last_bar_idx = notes[i][4:]\n",
    "        tmp.append('bar_' + str(bar_idx))\n",
    "    else:\n",
    "        tmp.append(notes[i])\n",
    "\n",
    "' '.join(tmp), bar_idx + 1"
   ]
  },
  {
   "cell_type": "markdown",
   "metadata": {},
   "source": [
    "# Splice: closer look"
   ]
  },
  {
   "cell_type": "markdown",
   "metadata": {},
   "source": [
    "Cancatenate bar1 and bar2\n",
    "In bar1, bar index is replaced while in bar2 X or Y is remained like 'X {} {} {} {} '.format(pos, pitch,dur,cadence)"
   ]
  },
  {
   "cell_type": "code",
   "execution_count": null,
   "metadata": {},
   "outputs": [],
   "source": [
    "s_bar = splice(s_bar, last_bar)"
   ]
  },
  {
   "cell_type": "code",
   "execution_count": 203,
   "metadata": {},
   "outputs": [
    {
     "name": "stdout",
     "output_type": "stream",
     "text": [
      "Bar 1:  \n",
      "Bar 2:  NOT bar_X Pos_4 Pitch_67 Dur_2 NOT bar_X Pos_6 Pitch_67 Dur_2 NOT bar_X Pos_8 Pitch_67 Dur_4 NOT bar_X Pos_12 Pitch_65 Dur_2 NOT bar_X Pos_14 Pitch_64 Dur_4 \n"
     ]
    }
   ],
   "source": [
    "bar1 = s_bar\n",
    "bar2 = last_bar\n",
    "\n",
    "print('Bar 1: ', bar1)\n",
    "print('Bar 2: ', bar2)"
   ]
  },
  {
   "cell_type": "code",
   "execution_count": 204,
   "metadata": {},
   "outputs": [
    {
     "name": "stdout",
     "output_type": "stream",
     "text": [
      "bar1 is empty\n"
     ]
    }
   ],
   "source": [
    "if bar1 == '':\n",
    "    s_bar = bar2\n",
    "    print('bar1 is empty')\n",
    "if bar2 == '':\n",
    "    s_bar = bar1\n",
    "    print('bar2 is empty')"
   ]
  },
  {
   "cell_type": "markdown",
   "metadata": {},
   "source": [
    "если вывод есть, то на этом всё"
   ]
  },
  {
   "cell_type": "code",
   "execution_count": 137,
   "metadata": {},
   "outputs": [],
   "source": [
    "assert bar1[-1] == ' '  # For the ease of concatenation, there's a space at the end of bar\n",
    "assert bar2[-1] == ' '"
   ]
  },
  {
   "cell_type": "code",
   "execution_count": 138,
   "metadata": {},
   "outputs": [],
   "source": [
    "notes1 = bar1.split(' ')[:-1]\n",
    "notes2 = bar2.split(' ')[:-1]"
   ]
  },
  {
   "cell_type": "code",
   "execution_count": 141,
   "metadata": {},
   "outputs": [],
   "source": [
    "# If the last note ending time in bar1 is not far from the begining time of the first note in bar2, just return bar1 + bar2\n",
    "# Calculate the note intervals in bars. If interval between two bars <= the average interval inside a bar, \n",
    "# then it is regarded as 'not far away'.\n",
    "def get_interval(notes):\n",
    "    begin = []\n",
    "    dur = []\n",
    "\n",
    "    if notes[1][4:] != 'X' and notes[1][4:] != 'Y':\n",
    "        start_bar = int(notes[1][4:])\n",
    "    else:\n",
    "        start_bar = 0\n",
    "\n",
    "    for idx in range(len(notes) // 5):\n",
    "        if notes[5 * idx + 1][4:] == 'X':\n",
    "            bar_idx_ = 0\n",
    "        elif notes[5 * idx + 1][4:] == 'Y':\n",
    "            bar_idx_ = 1\n",
    "        else:\n",
    "            bar_idx_ = int(notes[5 * idx + 1][4:])\n",
    "        begin.append(16 * (bar_idx_ - start_bar) + int(notes[5 * idx + 2][4:]))\n",
    "        dur.append(int(notes[5 * idx + 4][4:]))\n",
    "    end = list(np.array(begin) + np.array(dur))\n",
    "\n",
    "    return list(np.array(begin[1:]) - np.array(end[:-1])), begin[0], end[-1] - 16 if end[-1] > 16 else end[-1]"
   ]
  },
  {
   "cell_type": "code",
   "execution_count": 148,
   "metadata": {},
   "outputs": [],
   "source": [
    "inter1, _, end1 = get_interval(notes1)\n",
    "inter2, begin2, _ = get_interval(notes2)"
   ]
  },
  {
   "cell_type": "code",
   "execution_count": 142,
   "metadata": {},
   "outputs": [
    {
     "data": {
      "text/plain": [
       "([0, 0, 0, 0, 0, 0], 0, 16)"
      ]
     },
     "execution_count": 142,
     "metadata": {},
     "output_type": "execute_result"
    }
   ],
   "source": [
    "get_interval(notes1)"
   ]
  },
  {
   "cell_type": "code",
   "execution_count": 143,
   "metadata": {},
   "outputs": [
    {
     "data": {
      "text/plain": [
       "([0, 0, 0, 0, 0, 0], 0, 16)"
      ]
     },
     "execution_count": 143,
     "metadata": {},
     "output_type": "execute_result"
    }
   ],
   "source": [
    "get_interval(notes2)"
   ]
  },
  {
   "cell_type": "code",
   "execution_count": 149,
   "metadata": {},
   "outputs": [
    {
     "data": {
      "text/plain": [
       "0.0"
      ]
     },
     "execution_count": 149,
     "metadata": {},
     "output_type": "execute_result"
    }
   ],
   "source": [
    "def avg(notes):\n",
    "    return sum(notes) / len(notes)\n",
    "\n",
    "avg_interval = avg(inter1 + inter2)\n",
    "avg_interval"
   ]
  },
  {
   "cell_type": "code",
   "execution_count": 150,
   "metadata": {},
   "outputs": [
    {
     "ename": "ValueError",
     "evalue": "invalid literal for int() with base 10: 'X'",
     "output_type": "error",
     "traceback": [
      "\u001b[0;31m---------------------------------------------------------------------------\u001b[0m",
      "\u001b[0;31mValueError\u001b[0m                                Traceback (most recent call last)",
      "Cell \u001b[0;32mIn [150], line 1\u001b[0m\n\u001b[0;32m----> 1\u001b[0m last_bar1_idx \u001b[39m=\u001b[39m \u001b[39mint\u001b[39;49m(notes1[\u001b[39m-\u001b[39;49m\u001b[39m4\u001b[39;49m][\u001b[39m4\u001b[39;49m:])\n",
      "\u001b[0;31mValueError\u001b[0m: invalid literal for int() with base 10: 'X'"
     ]
    }
   ],
   "source": [
    "last_bar1_idx = int(notes1[-4][4:])"
   ]
  },
  {
   "cell_type": "code",
   "execution_count": null,
   "metadata": {},
   "outputs": [],
   "source": [
    "def splice(bar1, bar2):\n",
    "    \"\"\"\n",
    "        Cancatenate bar1 and bar2\n",
    "        In bar1, bar index is replaced while in bar2 X or Y is remained like 'X {} {} {} {} '.format(pos, pitch,dur,cadence)\n",
    "    \"\"\"\n",
    "    if bar1 == '':\n",
    "        return bar2\n",
    "    if bar2 == '':\n",
    "        return bar1\n",
    "\n",
    "    assert bar1[-1] == ' '  # For the ease of concatenation, there's a space at the end of bar\n",
    "    assert bar2[-1] == ' '\n",
    "    notes1 = bar1.split(' ')[:-1]\n",
    "    notes2 = bar2.split(' ')[:-1]\n",
    "    bar_cnt = len(set(notes1[1::5]))\n",
    "\n",
    "    # If the last note ending time in bar1 is not far from the begining time of the first note in bar2, just return bar1 + bar2\n",
    "    # Calculate the note intervals in bars. If interval between two bars <= the average interval inside a bar, then it is regarded as 'not far away'.\n",
    "    def get_interval(notes):\n",
    "        begin = []\n",
    "        dur = []\n",
    "\n",
    "        if notes[1][4:] != 'X' and notes[1][4:] != 'Y':\n",
    "            start_bar = int(notes[1][4:])\n",
    "        else:\n",
    "            start_bar = 0\n",
    "\n",
    "        for idx in range(len(notes) // 5):\n",
    "            if notes[5 * idx + 1][4:] == 'X':\n",
    "                bar_idx_ = 0\n",
    "            elif notes[5 * idx + 1][4:] == 'Y':\n",
    "                bar_idx_ = 1\n",
    "            else:\n",
    "                bar_idx_ = int(notes[5 * idx + 1][4:])\n",
    "            begin.append(16 * (bar_idx_ - start_bar) + int(notes[5 * idx + 2][4:]))\n",
    "            dur.append(int(notes[5 * idx + 4][4:]))\n",
    "        end = list(np.array(begin) + np.array(dur))\n",
    "\n",
    "        return list(np.array(begin[1:]) - np.array(end[:-1])), begin[0], end[-1] - 16 if end[-1] > 16 else end[-1]\n",
    "\n",
    "    inter1, _, end1 = get_interval(notes1)\n",
    "    inter2, begin2, _ = get_interval(notes2)\n",
    "\n",
    "    def avg(notes):\n",
    "        return sum(notes) / len(notes)\n",
    "\n",
    "    avg_interval = avg(inter1 + inter2)\n",
    "\n",
    "    last_bar1_idx = int(notes1[-4][4:])\n",
    "    bar2, _ = fill_template(bar2, last_bar1_idx + 1)\n",
    "\n",
    "    if avg_interval < (16 - end1 + begin2):\n",
    "        # If interval between two bars is big, shift the second bar forward.\n",
    "        notes2 = bar2.split(' ')[:-1]\n",
    "        tmp = ''\n",
    "        for idx in range(len(notes2) // 5):\n",
    "            pos = int(notes2[5 * idx + 2][4:]) - (16 - end1 + begin2)\n",
    "            bar_idx_ = int(notes2[5 * idx + 1][4:])\n",
    "            if pos < 0:\n",
    "                bar_idx_ += pos // 16\n",
    "                pos = pos % 16\n",
    "            tmp += '{} bar_{} Pos_{} {} {} '.format(notes2[5 * idx], bar_idx_, pos, notes2[5 * idx + 3],\n",
    "                                                    notes2[5 * idx + 4])\n",
    "\n",
    "        return bar1 + tmp\n",
    "    else:\n",
    "\n",
    "        return bar1 + bar2"
   ]
  },
  {
   "cell_type": "markdown",
   "metadata": {},
   "source": [
    "# Polish chord: closer look"
   ]
  },
  {
   "cell_type": "markdown",
   "metadata": {},
   "source": [
    "Align chords and the bar. When this function is called, the bar index is already replaced by the true index instead of X or Y.\n",
    "In our setting, there's 2 chords in a bar. Therefore for any position % 8==0, we write a chord.\n",
    "Of course, you can modify this setting as needed."
   ]
  },
  {
   "cell_type": "code",
   "execution_count": null,
   "metadata": {},
   "outputs": [],
   "source": [
    "s_chord, chord_ptr = polish_chord(s_bar, s_chord, chord, chord_ptr)"
   ]
  },
  {
   "cell_type": "code",
   "execution_count": 216,
   "metadata": {},
   "outputs": [
    {
     "name": "stdout",
     "output_type": "stream",
     "text": [
      "Bar:  NOT bar_0 Pos_6 Pitch_60 Dur_2 NOT bar_0 Pos_8 Pitch_60 Dur_2 NOT bar_0 Pos_10 Pitch_62 Dur_2 NOT bar_0 Pos_12 Pitch_64 Dur_2 NOT bar_0 Pos_14 Pitch_64 Dur_2 \n",
      "S chord:   C: C: C:\n",
      "Chords:  C: E:m G: B:m C: E:m G: B:m C: E:m G: B:m C: E:m G: B:m C: E:m G: B:m C: E:m G: B:m C: E:m G: B:m C: E:m G: B:m C: E:m G: B:m C: E:m G: B:m C: E:m G: B:m C: E:m G: B:m C: E:m G: B:m C:\n",
      "Chord ptr:  0\n"
     ]
    }
   ],
   "source": [
    "bar = s_bar\n",
    "schord = s_chord\n",
    "print('Bar: ', s_bar)\n",
    "print('S chord: ', schord)\n",
    "print('Chords: ', chord)\n",
    "print('Chord ptr: ', chord_ptr)"
   ]
  },
  {
   "cell_type": "code",
   "execution_count": 232,
   "metadata": {},
   "outputs": [
    {
     "data": {
      "text/plain": [
       "['', 'C:']"
      ]
     },
     "execution_count": 232,
     "metadata": {},
     "output_type": "execute_result"
    }
   ],
   "source": [
    "# Урезаем аккорды\n",
    "schord_list = chord_truc(bar, schord)\n",
    "schord_list"
   ]
  },
  {
   "cell_type": "code",
   "execution_count": 233,
   "metadata": {},
   "outputs": [
    {
     "name": "stdout",
     "output_type": "stream",
     "text": [
      " C:\n"
     ]
    }
   ],
   "source": [
    "last_chord = schord_list[-1]\n",
    "schord = ' '.join(schord_list)\n",
    "print(schord)"
   ]
  },
  {
   "cell_type": "code",
   "execution_count": 234,
   "metadata": {},
   "outputs": [],
   "source": [
    "chord_list = chord.split(' ')"
   ]
  },
  {
   "cell_type": "code",
   "execution_count": 235,
   "metadata": {},
   "outputs": [],
   "source": [
    "if last_chord not in chord_list:\n",
    "    chord_ptr = (chord_ptr + 1) % len(chord_list)\n",
    "    print(chord_ptr)"
   ]
  },
  {
   "cell_type": "markdown",
   "metadata": {},
   "source": [
    "Если ничего не вывелось, то:"
   ]
  },
  {
   "cell_type": "code",
   "execution_count": 236,
   "metadata": {},
   "outputs": [
    {
     "name": "stdout",
     "output_type": "stream",
     "text": [
      "1\n"
     ]
    }
   ],
   "source": [
    "chord_ptr = (chord_list.index(last_chord) + 1) % len(chord_list)\n",
    "print(chord_ptr)"
   ]
  },
  {
   "cell_type": "markdown",
   "metadata": {},
   "source": [
    "return schord, chord_ptr"
   ]
  },
  {
   "cell_type": "markdown",
   "metadata": {},
   "source": [
    "# Chord truc: closer look"
   ]
  },
  {
   "cell_type": "markdown",
   "metadata": {},
   "source": [
    "Given a bar string, remove redundant chords."
   ]
  },
  {
   "cell_type": "code",
   "execution_count": null,
   "metadata": {},
   "outputs": [],
   "source": [
    "schord_list = chord_truc(bar, schord)"
   ]
  },
  {
   "cell_type": "code",
   "execution_count": 226,
   "metadata": {},
   "outputs": [
    {
     "data": {
      "text/plain": [
       "['', 'C:', 'C:', 'C:']"
      ]
     },
     "execution_count": 226,
     "metadata": {},
     "output_type": "execute_result"
    }
   ],
   "source": [
    "schord_list = schord.split(' ')\n",
    "schord_list"
   ]
  },
  {
   "cell_type": "code",
   "execution_count": 227,
   "metadata": {},
   "outputs": [
    {
     "name": "stdout",
     "output_type": "stream",
     "text": [
      "NOT bar_0 Pos_6 Pitch_60 Dur_2 NOT bar_0 Pos_8 Pitch_60 Dur_2\n"
     ]
    }
   ],
   "source": [
    "notes = bar.strip().split(' ')\n",
    "print(*notes[:10])"
   ]
  },
  {
   "cell_type": "code",
   "execution_count": 228,
   "metadata": {},
   "outputs": [
    {
     "name": "stdout",
     "output_type": "stream",
     "text": [
      "From  6  to  16\n",
      "Duration:  10\n",
      "Chord number:  2\n"
     ]
    }
   ],
   "source": [
    "start_pos = 16 * int(notes[1][4:]) + int(notes[2][4:])\n",
    "end_pos = 16 * int(notes[-4][4:]) + int(notes[-3][4:]) + int(notes[-1][4:])\n",
    "duration = end_pos - start_pos\n",
    "chord_num = ceil(duration / 8)\n",
    "print('From ', start_pos, ' to ', end_pos)\n",
    "print('Duration: ', duration)\n",
    "print('Chord number: ', chord_num)"
   ]
  },
  {
   "cell_type": "code",
   "execution_count": 229,
   "metadata": {},
   "outputs": [],
   "source": [
    "assert chord_num >= 1, 'bar:{},chord:{}'.format(bar, schord)"
   ]
  },
  {
   "cell_type": "code",
   "execution_count": 230,
   "metadata": {},
   "outputs": [
    {
     "name": "stdout",
     "output_type": "stream",
     "text": [
      "Now:  ['', 'C:']\n"
     ]
    }
   ],
   "source": [
    "if len(schord_list) >= chord_num:\n",
    "    schord_list = schord_list[:chord_num]\n",
    "    print('Now: ', schord_list)"
   ]
  },
  {
   "cell_type": "markdown",
   "metadata": {},
   "source": [
    "Если ничего не вывелось, то:"
   ]
  },
  {
   "cell_type": "code",
   "execution_count": null,
   "metadata": {},
   "outputs": [],
   "source": [
    "tmp = []\n",
    "for i in schord_list:\n",
    "        tmp.append(i)\n",
    "        tmp.append(i)\n",
    "    schord_list = tmp[:chord_num]"
   ]
  },
  {
   "cell_type": "markdown",
   "metadata": {},
   "source": [
    "Выводится schord list"
   ]
  },
  {
   "cell_type": "markdown",
   "metadata": {},
   "source": [
    "# Polish: closer look"
   ]
  },
  {
   "cell_type": "markdown",
   "metadata": {},
   "source": [
    "Three fuctions:\n",
    "1. Avoid bars overlapping.\n",
    "2. Make the first note in all bars start at the position 0.\n",
    "3. Remove rest and cadence in a bar."
   ]
  },
  {
   "cell_type": "code",
   "execution_count": null,
   "metadata": {},
   "outputs": [],
   "source": [
    "s_bar, bar_idx, last_note_end = polish(s_bar, last_note_end)"
   ]
  },
  {
   "cell_type": "code",
   "execution_count": 265,
   "metadata": {},
   "outputs": [
    {
     "name": "stdout",
     "output_type": "stream",
     "text": [
      "NOT bar_0 Pos_6 Pitch_60 Dur_2 NOT bar_0 Pos_8 Pitch_60 Dur_2 NOT bar_0 Pos_10 Pitch_62 Dur_2 NOT bar_0 Pos_12 Pitch_64 Dur_2 NOT bar_0 Pos_14 Pitch_64 Dur_2 NOT bar_1 Pos_0 Pitch_71 Dur_2 NOT bar_1 Pos_2 Pitch_67 Dur_2 NOT bar_1 Pos_4 Pitch_64 Dur_4 NOT bar_1 Pos_8 Pitch_71 Dur_2 NOT bar_1 Pos_10 Pitch_67 Dur_2 NOT bar_1 Pos_12 Pitch_64 Dur_4 NOT bar_2 Pos_0 Pitch_62 Dur_2 HALF bar_2 Pos_2 Pitch_59 Dur_6 NOT bar_2 Pos_14 Pitch_55 Dur_2 \n"
     ]
    }
   ],
   "source": [
    "bar = s_bar\n",
    "print(bar)"
   ]
  },
  {
   "cell_type": "code",
   "execution_count": 266,
   "metadata": {},
   "outputs": [
    {
     "data": {
      "text/plain": [
       "-16"
      ]
     },
     "execution_count": 266,
     "metadata": {},
     "output_type": "execute_result"
    }
   ],
   "source": [
    "last_note_end"
   ]
  },
  {
   "cell_type": "code",
   "execution_count": 267,
   "metadata": {},
   "outputs": [],
   "source": [
    "notes = bar.strip().split(' ')\n",
    "tmp = ''\n",
    "is_tuned = False"
   ]
  },
  {
   "cell_type": "code",
   "execution_count": 268,
   "metadata": {},
   "outputs": [
    {
     "name": "stdout",
     "output_type": "stream",
     "text": [
      "pos:  6\n",
      "bar index:  0\n",
      "duration:  2\n",
      "this not start 6\n",
      "threshold:  16\n",
      "changed pos to  0\n",
      "changed bar index to  0\n",
      "last note end:  2\n",
      "pos:  8\n",
      "bar index:  0\n",
      "duration:  2\n",
      "this not start 8\n",
      "threshold:  0\n",
      "changed pos to  2\n",
      "changed bar index to  0\n",
      "last note end:  4\n",
      "pos:  10\n",
      "bar index:  0\n",
      "duration:  2\n",
      "this not start 10\n",
      "threshold:  0\n",
      "changed pos to  4\n",
      "changed bar index to  0\n",
      "last note end:  6\n",
      "pos:  12\n",
      "bar index:  0\n",
      "duration:  2\n",
      "this not start 12\n",
      "threshold:  0\n",
      "changed pos to  6\n",
      "changed bar index to  0\n",
      "last note end:  8\n",
      "pos:  14\n",
      "bar index:  0\n",
      "duration:  2\n",
      "this not start 14\n",
      "threshold:  0\n",
      "changed pos to  8\n",
      "changed bar index to  0\n",
      "last note end:  10\n",
      "pos:  0\n",
      "bar index:  1\n",
      "duration:  2\n",
      "this not start 16\n",
      "threshold:  0\n",
      "changed pos to  10\n",
      "changed bar index to  0\n",
      "last note end:  12\n",
      "pos:  2\n",
      "bar index:  1\n",
      "duration:  2\n",
      "this not start 18\n",
      "threshold:  0\n",
      "changed pos to  12\n",
      "changed bar index to  0\n",
      "last note end:  14\n",
      "pos:  4\n",
      "bar index:  1\n",
      "duration:  4\n",
      "this not start 20\n",
      "threshold:  0\n",
      "changed pos to  14\n",
      "changed bar index to  0\n",
      "last note end:  18\n",
      "pos:  8\n",
      "bar index:  1\n",
      "duration:  2\n",
      "this not start 24\n",
      "threshold:  0\n",
      "changed pos to  2\n",
      "changed bar index to  1\n",
      "last note end:  20\n",
      "pos:  10\n",
      "bar index:  1\n",
      "duration:  2\n",
      "this not start 26\n",
      "threshold:  0\n",
      "changed pos to  4\n",
      "changed bar index to  1\n",
      "last note end:  22\n",
      "pos:  12\n",
      "bar index:  1\n",
      "duration:  4\n",
      "this not start 28\n",
      "threshold:  0\n",
      "changed pos to  6\n",
      "changed bar index to  1\n",
      "last note end:  26\n",
      "pos:  0\n",
      "bar index:  2\n",
      "duration:  2\n",
      "this not start 32\n",
      "threshold:  0\n",
      "changed pos to  10\n",
      "changed bar index to  1\n",
      "last note end:  28\n",
      "pos:  2\n",
      "bar index:  2\n",
      "duration:  6\n",
      "this not start 34\n",
      "threshold:  0\n",
      "changed pos to  12\n",
      "changed bar index to  1\n",
      "last note end:  34\n",
      "pos:  14\n",
      "bar index:  2\n",
      "duration:  2\n",
      "this not start 46\n",
      "threshold:  0\n",
      "changed pos to  2\n",
      "changed bar index to  2\n",
      "making a half cadence\n",
      "last note end:  36\n"
     ]
    }
   ],
   "source": [
    "for idx in range(len(notes) // 5):\n",
    "    pos = int(notes[5 * idx + 2][4:])\n",
    "    bar_idx_ = int(notes[5 * idx + 1][4:])\n",
    "    dur = int(notes[5 * idx + 4][4:])\n",
    "\n",
    "    print('pos: ', pos)\n",
    "    print('bar index: ', bar_idx_)\n",
    "    print('duration: ', dur)\n",
    "\n",
    "    this_note_start = 16 * bar_idx_ + pos\n",
    "\n",
    "    print('this not start', this_note_start)\n",
    "\n",
    "    cadence = 'NOT'\n",
    "    if idx == 0:\n",
    "        blank_after_last_note = 16 - last_note_end % 16\n",
    "        threshold = blank_after_last_note\n",
    "        print('threshold: ', threshold)\n",
    "    else:\n",
    "        threshold = 0\n",
    "        print('threshold: ', threshold)\n",
    "\n",
    "    # максимальная длительность - 1\\2, минимальная - 1\\8\n",
    "    if dur == 1:  # the minimum granularity is a 1/8 note.\n",
    "        dur = 2\n",
    "        print('Changed duration to ', dur)\n",
    "    if dur > 8:  # the maximum granularity is a 1/2 note.\n",
    "        dur = 8\n",
    "        print('Changed duration to ', dur)\n",
    "\n",
    "     # Function 3: removing ret and cadence in a bar\n",
    "    if this_note_start - last_note_end != threshold:\n",
    "        pos += (last_note_end + threshold - this_note_start)\n",
    "        bar_idx_ += pos // 16\n",
    "        pos = pos % 16\n",
    "        print('changed pos to ', pos)\n",
    "        print('changed bar index to ', bar_idx_)\n",
    "\n",
    "\n",
    "    if idx == len(notes) // 5 - 2:\n",
    "        if 12 < pos + dur <= 16 or len(notes) // 5 <= 4:\n",
    "            dur = 16 - pos\n",
    "            is_tuned = True\n",
    "            print('changed duration to ', dur)\n",
    "\n",
    "\n",
    "    if idx == len(notes) // 5 - 1:\n",
    "        if is_tuned:\n",
    "            print('is tuned')\n",
    "            pos = 0\n",
    "            print('changed pos to ', pos)\n",
    "        else:\n",
    "            if 12 < pos + dur <= 16:\n",
    "                dur += 6\n",
    "                print('changed duration to ', dur)\n",
    "        cadence = 'HALF'  # just for the ease of model scoring\n",
    "        print('making a half cadence')\n",
    "\n",
    "    last_note_end = 16 * bar_idx_ + pos + dur  \n",
    "    print('last note end: ', last_note_end)\n",
    "\n",
    "    assert pos <= 16\n",
    "    tmp += '{} bar_{} Pos_{} {} Dur_{} '.format(cadence, bar_idx_, pos, notes[5 * idx + 3], dur)"
   ]
  },
  {
   "cell_type": "code",
   "execution_count": 269,
   "metadata": {},
   "outputs": [
    {
     "name": "stdout",
     "output_type": "stream",
     "text": [
      "NOT bar_0 Pos_0 Pitch_60 Dur_2 NOT bar_0 Pos_2 Pitch_60 Dur_2 NOT bar_0 Pos_4 Pitch_62 Dur_2 NOT bar_0 Pos_6 Pitch_64 Dur_2 NOT bar_0 Pos_8 Pitch_64 Dur_2 NOT bar_0 Pos_10 Pitch_71 Dur_2 NOT bar_0 Pos_12 Pitch_67 Dur_2 NOT bar_0 Pos_14 Pitch_64 Dur_4 NOT bar_1 Pos_2 Pitch_71 Dur_2 NOT bar_1 Pos_4 Pitch_67 Dur_2 NOT bar_1 Pos_6 Pitch_64 Dur_4 NOT bar_1 Pos_10 Pitch_62 Dur_2 NOT bar_1 Pos_12 Pitch_59 Dur_6 HALF bar_2 Pos_2 Pitch_55 Dur_2 \n"
     ]
    },
    {
     "data": {
      "text/plain": [
       "3"
      ]
     },
     "execution_count": 269,
     "metadata": {},
     "output_type": "execute_result"
    }
   ],
   "source": [
    "print(tmp)\n",
    "bar_idx_ + 1"
   ]
  },
  {
   "cell_type": "code",
   "execution_count": 270,
   "metadata": {},
   "outputs": [
    {
     "data": {
      "text/plain": [
       "36"
      ]
     },
     "execution_count": 270,
     "metadata": {},
     "output_type": "execute_result"
    }
   ],
   "source": [
    "last_note_end"
   ]
  },
  {
   "cell_type": "markdown",
   "metadata": {},
   "source": [
    "# Not mono: closer look"
   ]
  },
  {
   "cell_type": "markdown",
   "metadata": {},
   "source": [
    "Filter monotonous pieces."
   ]
  },
  {
   "cell_type": "code",
   "execution_count": null,
   "metadata": {},
   "outputs": [],
   "source": [
    "if not_mono(s_bar) and not_duplicate(s_bar, select_notes[-1]):\n",
    "    s_chord = last_chord + ' ' + s_chord\n",
    "    break"
   ]
  },
  {
   "cell_type": "code",
   "execution_count": 297,
   "metadata": {},
   "outputs": [
    {
     "name": "stdout",
     "output_type": "stream",
     "text": [
      "[60, 60, 62, 64, 64, 71, 67, 64, 71, 71, 71, 76, 78, 74]\n"
     ]
    }
   ],
   "source": [
    "bar = s_bar\n",
    "notes = bar.split(' ')[:-1][3::5]\n",
    "notes = [int(x[6:]) for x in notes]\n",
    "print(notes)"
   ]
  },
  {
   "cell_type": "code",
   "execution_count": 298,
   "metadata": {},
   "outputs": [],
   "source": [
    "# Заполняем единицами слоты, соответствующие использованным в мелодии высотам\n",
    "tmp = [0] * 128\n",
    "for idx in range(len(notes)):\n",
    "    tmp[int(notes[idx])] = 1"
   ]
  },
  {
   "cell_type": "code",
   "execution_count": 300,
   "metadata": {},
   "outputs": [
    {
     "name": "stdout",
     "output_type": "stream",
     "text": [
      "The melody is not monotonous\n"
     ]
    }
   ],
   "source": [
    "# Если мелодия состоит меньше, чем из четырёх нот и они все одинаковые по высоте\n",
    "# Или если мелодия длинная, но используется в ней меньше трйх высот\n",
    "# То мелодия монотонная\n",
    "if (1 < len(notes) <= 3 and sum(tmp) == 1) or (len(notes) >= 4 and sum(tmp) < 3):\n",
    "    print('The melody is monotonous')\n",
    "else:\n",
    "    print('The melody is not monotonous')"
   ]
  },
  {
   "cell_type": "markdown",
   "metadata": {},
   "source": [
    "Не факт, что это разумный подход, так как монотонность может звучать ярко при параллельной смене гармоний"
   ]
  },
  {
   "cell_type": "markdown",
   "metadata": {},
   "source": [
    "# not duplicate: closer look"
   ]
  },
  {
   "cell_type": "markdown",
   "metadata": {},
   "source": [
    "De-duplication, only care about the pitch."
   ]
  },
  {
   "cell_type": "code",
   "execution_count": 301,
   "metadata": {},
   "outputs": [],
   "source": [
    "bar1 = s_bar\n",
    "bar2 = select_notes[-1]"
   ]
  },
  {
   "cell_type": "code",
   "execution_count": 302,
   "metadata": {},
   "outputs": [
    {
     "name": "stdout",
     "output_type": "stream",
     "text": [
      "notes 1:  ['Pitch_60', 'Pitch_60', 'Pitch_62', 'Pitch_64', 'Pitch_64', 'Pitch_71', 'Pitch_67', 'Pitch_64', 'Pitch_71', 'Pitch_71', 'Pitch_71', 'Pitch_76', 'Pitch_78', 'Pitch_74']\n",
      "notes 2:  ['Pitch_60', 'Pitch_60', 'Pitch_62', 'Pitch_64', 'Pitch_64', 'Pitch_71', 'Pitch_67', 'Pitch_64', 'Pitch_71', 'Pitch_67', 'Pitch_64', 'Pitch_62', 'Pitch_59', 'Pitch_55']\n"
     ]
    }
   ],
   "source": [
    "notes1 = bar1.split(' ')[:-1][3::5]\n",
    "notes2 = bar2.split(' ')[:-1][3::5]\n",
    "print('notes 1: ', notes1)\n",
    "print('notes 2: ', notes2)"
   ]
  },
  {
   "cell_type": "code",
   "execution_count": 303,
   "metadata": {},
   "outputs": [
    {
     "name": "stdout",
     "output_type": "stream",
     "text": [
      "Melodies are not duplicates\n"
     ]
    }
   ],
   "source": [
    "if notes1 != notes2:\n",
    "    print('Melodies are not duplicates')\n",
    "else:\n",
    "    print('Melodies are duplicates')"
   ]
  },
  {
   "cell_type": "markdown",
   "metadata": {},
   "source": [
    "# save demo: closer look"
   ]
  },
  {
   "cell_type": "code",
   "execution_count": null,
   "metadata": {},
   "outputs": [],
   "source": [
    "save_demo(\n",
    "    note_string, \n",
    "    select_chords, \n",
    "    name, \n",
    "    lang= 'en',\n",
    "    lyrics.strip().split('[sep]'),\n",
    "    [len(i) for i in sentence])"
   ]
  },
  {
   "cell_type": "code",
   "execution_count": 11,
   "metadata": {},
   "outputs": [],
   "source": [
    "notes_str = note_string\n",
    "sentence = lyrics.strip().split('[sep]')\n",
    "word_counter = [len(i) for i in sentence]"
   ]
  },
  {
   "cell_type": "code",
   "execution_count": 12,
   "metadata": {},
   "outputs": [],
   "source": [
    "pitch_dict = {'C': 0, 'C#': 1, 'D': 2, 'Eb': 3, 'E': 4, 'F': 5, 'F#': 6, 'G': 7, 'Ab': 8, 'A': 9, 'Bb': 10, 'B': 11}\n",
    "_CHORD_KIND_PITCHES = {\n",
    "        '': [0, 4, 7],\n",
    "        'm': [0, 3, 7],\n",
    "        '+': [0, 4, 8],\n",
    "        'dim': [0, 3, 6],\n",
    "        '7': [0, 4, 7, 10],\n",
    "        'maj7': [0, 4, 7, 11],\n",
    "        'm7': [0, 3, 7, 10],\n",
    "        'm7b5': [0, 3, 6, 10],\n",
    "    }"
   ]
  },
  {
   "cell_type": "code",
   "execution_count": 13,
   "metadata": {},
   "outputs": [
    {
     "data": {
      "text/plain": [
       "'test_2'"
      ]
     },
     "execution_count": 13,
     "metadata": {},
     "output_type": "execute_result"
    }
   ],
   "source": [
    "name = 'test_2'\n",
    "name"
   ]
  },
  {
   "cell_type": "code",
   "execution_count": 14,
   "metadata": {},
   "outputs": [],
   "source": [
    "mf = MIDIFile(2)  # only 1 track\n",
    "melody_track = 0  # the only track\n",
    "chord_track = 1\n",
    "time = 0  # start at the beginning\n",
    "channel = 0"
   ]
  },
  {
   "cell_type": "code",
   "execution_count": 15,
   "metadata": {},
   "outputs": [],
   "source": [
    "mf.addTrackName(melody_track, time, \"melody\")\n",
    "mf.addTrackName(chord_track, time, \"chord\")\n",
    "mf.addTempo(melody_track, time, 120) #can be modificated\n",
    "mf.addTempo(chord_track, time, 120)"
   ]
  },
  {
   "cell_type": "code",
   "execution_count": 16,
   "metadata": {},
   "outputs": [],
   "source": [
    "notes = notes_str.split(' ')\n",
    "cnt = 0\n",
    "sen_idx = 0\n",
    "chord_time = []"
   ]
  },
  {
   "cell_type": "code",
   "execution_count": 17,
   "metadata": {},
   "outputs": [
    {
     "name": "stdout",
     "output_type": "stream",
     "text": [
      "writing idx:  0\n",
      "begin sentence: 0\n",
      "writing idx:  1\n",
      "writing idx:  2\n",
      "writing idx:  3\n",
      "writing idx:  4\n",
      "writing idx:  5\n",
      "writing idx:  6\n",
      "writing idx:  7\n",
      "writing idx:  8\n",
      "writing idx:  9\n",
      "writing idx:  10\n",
      "writing idx:  11\n",
      "writing idx:  12\n",
      "writing idx:  13\n",
      "writing idx:  14\n",
      "writing idx:  15\n",
      "writing idx:  16\n",
      "writing idx:  17\n",
      "writing idx:  18\n",
      "writing idx:  19\n",
      "writing idx:  20\n",
      "writing idx:  21\n",
      "writing idx:  22\n",
      "writing idx:  23\n",
      "writing idx:  24\n",
      "writing idx:  25\n",
      "writing idx:  26\n",
      "writing idx:  27\n",
      "writing idx:  28\n",
      "writing idx:  29\n",
      "writing idx:  30\n",
      "writing idx:  31\n",
      "writing idx:  32\n",
      "writing idx:  33\n",
      "writing idx:  34\n",
      "writing idx:  35\n",
      "writing idx:  36\n",
      "writing idx:  37\n",
      "writing idx:  38\n",
      "writing idx:  39\n",
      "writing idx:  40\n",
      "Chords: ['G', '']\n",
      "begin sentence: 1\n",
      "writing idx:  41\n",
      "writing idx:  42\n",
      "writing idx:  43\n",
      "writing idx:  44\n",
      "writing idx:  45\n",
      "writing idx:  46\n",
      "writing idx:  47\n",
      "writing idx:  48\n",
      "writing idx:  49\n",
      "writing idx:  50\n",
      "writing idx:  51\n",
      "writing idx:  52\n",
      "writing idx:  53\n",
      "writing idx:  54\n",
      "writing idx:  55\n",
      "writing idx:  56\n",
      "writing idx:  57\n",
      "writing idx:  58\n",
      "writing idx:  59\n",
      "writing idx:  60\n",
      "writing idx:  61\n",
      "writing idx:  62\n",
      "writing idx:  63\n",
      "writing idx:  64\n",
      "writing idx:  65\n",
      "writing idx:  66\n",
      "writing idx:  67\n",
      "writing idx:  68\n",
      "writing idx:  69\n",
      "writing idx:  70\n",
      "writing idx:  71\n",
      "writing idx:  72\n",
      "writing idx:  73\n",
      "writing idx:  74\n",
      "writing idx:  75\n",
      "writing idx:  76\n",
      "writing idx:  77\n",
      "writing idx:  78\n",
      "writing idx:  79\n",
      "writing idx:  80\n",
      "writing idx:  81\n",
      "writing idx:  82\n",
      "writing idx:  83\n",
      "writing idx:  84\n",
      "writing idx:  85\n",
      "writing idx:  86\n",
      "writing idx:  87\n",
      "writing idx:  88\n",
      "writing idx:  89\n",
      "writing idx:  90\n",
      "writing idx:  91\n",
      "writing idx:  92\n",
      "writing idx:  93\n",
      "writing idx:  94\n",
      "writing idx:  95\n",
      "writing idx:  96\n",
      "writing idx:  97\n",
      "writing idx:  98\n",
      "writing idx:  99\n",
      "writing idx:  100\n",
      "writing idx:  101\n",
      "writing idx:  102\n",
      "writing idx:  103\n",
      "writing idx:  104\n",
      "writing idx:  105\n",
      "Chords: ['C', '']\n",
      "begin sentence: 2\n",
      "writing idx:  106\n",
      "writing idx:  107\n",
      "writing idx:  108\n",
      "writing idx:  109\n",
      "writing idx:  110\n",
      "writing idx:  111\n",
      "writing idx:  112\n",
      "writing idx:  113\n",
      "writing idx:  114\n",
      "writing idx:  115\n",
      "writing idx:  116\n",
      "writing idx:  117\n",
      "writing idx:  118\n",
      "writing idx:  119\n",
      "writing idx:  120\n",
      "writing idx:  121\n",
      "writing idx:  122\n",
      "writing idx:  123\n",
      "writing idx:  124\n",
      "writing idx:  125\n",
      "writing idx:  126\n",
      "writing idx:  127\n",
      "writing idx:  128\n",
      "writing idx:  129\n",
      "writing idx:  130\n",
      "writing idx:  131\n",
      "writing idx:  132\n",
      "writing idx:  133\n",
      "writing idx:  134\n",
      "writing idx:  135\n",
      "writing idx:  136\n",
      "writing idx:  137\n",
      "writing idx:  138\n",
      "writing idx:  139\n",
      "writing idx:  140\n",
      "writing idx:  141\n",
      "writing idx:  142\n",
      "writing idx:  143\n",
      "writing idx:  144\n",
      "writing idx:  145\n",
      "writing idx:  146\n",
      "writing idx:  147\n",
      "writing idx:  148\n",
      "writing idx:  149\n",
      "writing idx:  150\n",
      "writing idx:  151\n",
      "writing idx:  152\n",
      "Chords: ['A', 'm']\n",
      "begin sentence: 3\n",
      "writing idx:  153\n",
      "writing idx:  154\n",
      "writing idx:  155\n",
      "writing idx:  156\n",
      "writing idx:  157\n",
      "writing idx:  158\n",
      "writing idx:  159\n",
      "writing idx:  160\n",
      "writing idx:  161\n",
      "writing idx:  162\n",
      "writing idx:  163\n",
      "writing idx:  164\n",
      "writing idx:  165\n",
      "writing idx:  166\n",
      "writing idx:  167\n",
      "writing idx:  168\n",
      "writing idx:  169\n",
      "writing idx:  170\n",
      "writing idx:  171\n",
      "writing idx:  172\n",
      "writing idx:  173\n",
      "writing idx:  174\n",
      "writing idx:  175\n",
      "writing idx:  176\n",
      "writing idx:  177\n",
      "writing idx:  178\n",
      "writing idx:  179\n",
      "writing idx:  180\n",
      "writing idx:  181\n",
      "writing idx:  182\n",
      "writing idx:  183\n",
      "writing idx:  184\n",
      "writing idx:  185\n",
      "writing idx:  186\n",
      "writing idx:  187\n",
      "writing idx:  188\n",
      "writing idx:  189\n",
      "writing idx:  190\n",
      "Chords: ['C', '']\n",
      "begin sentence: 4\n",
      "writing idx:  191\n",
      "writing idx:  192\n",
      "writing idx:  193\n",
      "writing idx:  194\n",
      "writing idx:  195\n",
      "writing idx:  196\n",
      "writing idx:  197\n",
      "writing idx:  198\n",
      "writing idx:  199\n",
      "writing idx:  200\n",
      "writing idx:  201\n",
      "writing idx:  202\n",
      "writing idx:  203\n",
      "writing idx:  204\n",
      "writing idx:  205\n",
      "writing idx:  206\n",
      "writing idx:  207\n",
      "writing idx:  208\n",
      "writing idx:  209\n",
      "writing idx:  210\n",
      "writing idx:  211\n",
      "writing idx:  212\n",
      "writing idx:  213\n",
      "writing idx:  214\n",
      "writing idx:  215\n",
      "writing idx:  216\n",
      "writing idx:  217\n",
      "writing idx:  218\n",
      "writing idx:  219\n",
      "writing idx:  220\n",
      "writing idx:  221\n",
      "writing idx:  222\n",
      "writing idx:  223\n",
      "writing idx:  224\n",
      "writing idx:  225\n",
      "Chords: ['A', 'm']\n",
      "begin sentence: 5\n",
      "writing idx:  226\n",
      "writing idx:  227\n",
      "writing idx:  228\n",
      "writing idx:  229\n",
      "writing idx:  230\n",
      "writing idx:  231\n",
      "writing idx:  232\n",
      "writing idx:  233\n",
      "writing idx:  234\n",
      "writing idx:  235\n",
      "writing idx:  236\n",
      "writing idx:  237\n",
      "writing idx:  238\n",
      "writing idx:  239\n",
      "writing idx:  240\n",
      "writing idx:  241\n",
      "writing idx:  242\n",
      "writing idx:  243\n",
      "writing idx:  244\n",
      "writing idx:  245\n",
      "writing idx:  246\n",
      "writing idx:  247\n",
      "writing idx:  248\n",
      "writing idx:  249\n",
      "writing idx:  250\n",
      "writing idx:  251\n",
      "writing idx:  252\n",
      "writing idx:  253\n",
      "writing idx:  254\n",
      "writing idx:  255\n",
      "writing idx:  256\n",
      "writing idx:  257\n",
      "writing idx:  258\n",
      "writing idx:  259\n",
      "writing idx:  260\n",
      "writing idx:  261\n",
      "writing idx:  262\n",
      "writing idx:  263\n",
      "writing idx:  264\n",
      "writing idx:  265\n",
      "Chords: ['C', '']\n",
      "begin sentence: 6\n",
      "writing idx:  266\n",
      "writing idx:  267\n",
      "writing idx:  268\n",
      "writing idx:  269\n",
      "writing idx:  270\n",
      "writing idx:  271\n",
      "writing idx:  272\n",
      "writing idx:  273\n",
      "writing idx:  274\n",
      "writing idx:  275\n",
      "writing idx:  276\n",
      "writing idx:  277\n",
      "writing idx:  278\n",
      "writing idx:  279\n",
      "writing idx:  280\n",
      "writing idx:  281\n",
      "writing idx:  282\n",
      "writing idx:  283\n",
      "writing idx:  284\n",
      "writing idx:  285\n",
      "writing idx:  286\n",
      "writing idx:  287\n",
      "writing idx:  288\n",
      "writing idx:  289\n",
      "writing idx:  290\n",
      "writing idx:  291\n",
      "writing idx:  292\n",
      "writing idx:  293\n",
      "writing idx:  294\n",
      "writing idx:  295\n",
      "writing idx:  296\n",
      "writing idx:  297\n",
      "writing idx:  298\n",
      "writing idx:  299\n",
      "writing idx:  300\n",
      "writing idx:  301\n",
      "writing idx:  302\n",
      "Chords: ['A', 'm']\n",
      "begin sentence: 7\n",
      "writing idx:  303\n",
      "writing idx:  304\n",
      "writing idx:  305\n",
      "writing idx:  306\n",
      "writing idx:  307\n",
      "writing idx:  308\n",
      "writing idx:  309\n",
      "writing idx:  310\n",
      "writing idx:  311\n",
      "writing idx:  312\n",
      "writing idx:  313\n"
     ]
    }
   ],
   "source": [
    "for i in range(len(notes) // 5):\n",
    "    print('writing idx: ', i)\n",
    "    # cadence = notes[5 * i]\n",
    "    bar = int(notes[5 * i + 1][4:])\n",
    "    pos = int(notes[5 * i + 2][4:])  # // pos_resolution\n",
    "    pitch = int(notes[5 * i + 3][6:])\n",
    "    dur = int(notes[5 * i + 4][4:]) / 4\n",
    "\n",
    "    time = bar * 4 + pos / 4  # + delta\n",
    "\n",
    "    # if cadence == 'HALF':\n",
    "    #     delta += 2\n",
    "    # if cadence == 'AUT':\n",
    "    #    delta += 4\n",
    "\n",
    "    mf.addNote(melody_track, channel, pitch, time, dur, 100)\n",
    "\n",
    "    # fill all chords into bars before writing notes\n",
    "    if cnt == 0:\n",
    "        cds = select_chords[sen_idx].split(' ')\n",
    "        t = time - time % 2\n",
    "        if len(chord_time) > 0:\n",
    "            blank_dur = t - chord_time[-1] - 2\n",
    "            insert_num = int(blank_dur / 2)\n",
    "\n",
    "            print('Chords:', cds[0].split(':'))\n",
    "            root, cd_type = cds[0].split(':')\n",
    "            root = pitch_dict[root]\n",
    "            for i in range(insert_num):\n",
    "                for shift in _CHORD_KIND_PITCHES[cd_type]:\n",
    "                    mf.addNote(chord_track, channel, 36 + root + shift, chord_time[-1] + 2, 2, 75)\n",
    "                chord_time.append(chord_time[-1] + 2)\n",
    "\n",
    "        print('begin sentence:', sen_idx)\n",
    "        for cd in cds:\n",
    "            root, cd_type = cd.split(':')\n",
    "            root = pitch_dict[root]\n",
    "            # mf.addNote(chord_track, channel, 36+root, t, 2, 75)  # 36 is C3\n",
    "            for shift in _CHORD_KIND_PITCHES[cd_type]:\n",
    "                mf.addNote(chord_track, channel, 36 + root + shift, t, 2, 75)\n",
    "            chord_time.append(t)\n",
    "            t += 2\n",
    "\n",
    "    cnt += 1\n",
    "    if cnt == word_counter[sen_idx]:\n",
    "        cnt = 0\n",
    "        sen_idx += 1"
   ]
  },
  {
   "cell_type": "code",
   "execution_count": 18,
   "metadata": {},
   "outputs": [],
   "source": [
    "name += '.mid'\n",
    "with open(name, 'wb') as outf:\n",
    "    mf.writeFile(outf)"
   ]
  },
  {
   "cell_type": "markdown",
   "metadata": {},
   "source": [
    "Теперь добавим текст в мидифайл"
   ]
  },
  {
   "cell_type": "code",
   "execution_count": 20,
   "metadata": {},
   "outputs": [],
   "source": [
    "name = 'test_2.mid'\n",
    "midi_obj = miditoolkit.midi.parser.MidiFile(name)"
   ]
  },
  {
   "cell_type": "code",
   "execution_count": 21,
   "metadata": {},
   "outputs": [
    {
     "name": "stdout",
     "output_type": "stream",
     "text": [
      "Кто зна ет, за чем за жи га ют звёз ды? \n",
      "['Кто', 'зна', 'ет,', 'за', 'чем', 'за', 'жи', 'га', 'ют', 'звёз', 'ды?', '', '', 'Для', 'ко']\n"
     ]
    }
   ],
   "source": [
    "print(sentence[0])\n",
    "lyrics = ' '.join(sentence).split(' ')\n",
    "print(lyrics[:15])"
   ]
  },
  {
   "cell_type": "code",
   "execution_count": 22,
   "metadata": {},
   "outputs": [],
   "source": [
    "word_idx = 0"
   ]
  },
  {
   "cell_type": "code",
   "execution_count": 23,
   "metadata": {},
   "outputs": [],
   "source": [
    "for word in lyrics:\n",
    "    if word not in [',', '.', '']:\n",
    "        note = midi_obj.instruments[0].notes[word_idx]\n",
    "        midi_obj.lyrics.append(\n",
    "            miditoolkit.Lyric(text=word, time=note.start))\n",
    "        word_idx += 1\n",
    "    else:\n",
    "        midi_obj.lyrics[-1].text += word    "
   ]
  },
  {
   "cell_type": "code",
   "execution_count": 24,
   "metadata": {},
   "outputs": [
    {
     "name": "stdout",
     "output_type": "stream",
     "text": [
      "[Lyric(text=\"Кто\", time=0), Lyric(text=\"зна\", time=480), Lyric(text=\"ет,\", time=960), Lyric(text=\"за\", time=1680), Lyric(text=\"чем\", time=2160)]\n"
     ]
    }
   ],
   "source": [
    "print(midi_obj.lyrics[:5])"
   ]
  },
  {
   "cell_type": "code",
   "execution_count": 25,
   "metadata": {},
   "outputs": [],
   "source": [
    "midi_obj.dump(f'{name}', charset='utf-8')"
   ]
  },
  {
   "cell_type": "code",
   "execution_count": 32,
   "metadata": {},
   "outputs": [
    {
     "data": {
      "text/plain": [
       "{'ticks_per_beat': 960,\n",
       " 'tempo_changes': [TempoChange(tempo=120.0, time=0)],\n",
       " 'key_signature_changes': [],\n",
       " 'time_signature_changes': [],\n",
       " 'markers': [],\n",
       " 'lyrics': [Lyric(text=\"Take\", time=0),\n",
       "  Lyric(text=\"a\", time=480),\n",
       "  Lyric(text=\"look\", time=960),\n",
       "  Lyric(text=\"in\", time=1440),\n",
       "  Lyric(text=\"side\", time=2400),\n",
       "  Lyric(text=\"your\", time=2880),\n",
       "  Lyric(text=\"heart,\", time=3360),\n",
       "  Lyric(text=\"is\", time=3840),\n",
       "  Lyric(text=\"there\", time=4320),\n",
       "  Lyric(text=\"a\", time=4800),\n",
       "  Lyric(text=\"ny\", time=5520),\n",
       "  Lyric(text=\"room\", time=6000),\n",
       "  Lyric(text=\"for\", time=6480),\n",
       "  Lyric(text=\"me?\", time=7680),\n",
       "  Lyric(text=\"I\", time=11520),\n",
       "  Lyric(text=\"won_t\", time=12000),\n",
       "  Lyric(text=\"have\", time=12480),\n",
       "  Lyric(text=\"to\", time=12960),\n",
       "  Lyric(text=\"hold\", time=13920),\n",
       "  Lyric(text=\"my\", time=14400),\n",
       "  Lyric(text=\"breath\", time=14880),\n",
       "  Lyric(text=\"till\", time=15360),\n",
       "  Lyric(text=\"you\", time=15840),\n",
       "  Lyric(text=\"get\", time=16320),\n",
       "  Lyric(text=\"down\", time=17040),\n",
       "  Lyric(text=\"on\", time=17520),\n",
       "  Lyric(text=\"one\", time=18000),\n",
       "  Lyric(text=\"knee\", time=19200),\n",
       "  Lyric(text=\"Be\", time=23040),\n",
       "  Lyric(text=\"cause\", time=23520),\n",
       "  Lyric(text=\"you\", time=24000),\n",
       "  Lyric(text=\"o\", time=24480),\n",
       "  Lyric(text=\"nly\", time=24960),\n",
       "  Lyric(text=\"want\", time=25440),\n",
       "  Lyric(text=\"to\", time=25920),\n",
       "  Lyric(text=\"hold\", time=26400),\n",
       "  Lyric(text=\"me\", time=26880),\n",
       "  Lyric(text=\"when\", time=27360),\n",
       "  Lyric(text=\"I_m\", time=27840),\n",
       "  Lyric(text=\"loo\", time=28320),\n",
       "  Lyric(text=\"king\", time=28800),\n",
       "  Lyric(text=\"good\", time=29280),\n",
       "  Lyric(text=\"e\", time=29760),\n",
       "  Lyric(text=\"nough\", time=30720),\n",
       "  Lyric(text=\"Did\", time=34560),\n",
       "  Lyric(text=\"you\", time=35040),\n",
       "  Lyric(text=\"e\", time=35520),\n",
       "  Lyric(text=\"ver\", time=36000),\n",
       "  Lyric(text=\"feel\", time=36480),\n",
       "  Lyric(text=\"me?\", time=36960),\n",
       "  Lyric(text=\"Would\", time=37440),\n",
       "  Lyric(text=\"you\", time=37920),\n",
       "  Lyric(text=\"e\", time=38400),\n",
       "  Lyric(text=\"ver\", time=38880),\n",
       "  Lyric(text=\"pic\", time=39360),\n",
       "  Lyric(text=\"ture\", time=39840),\n",
       "  Lyric(text=\"us?\", time=40320),\n",
       "  Lyric(text=\"Eve\", time=42240),\n",
       "  Lyric(text=\"ry\", time=42720),\n",
       "  Lyric(text=\"time\", time=43200),\n",
       "  Lyric(text=\"I\", time=43680),\n",
       "  Lyric(text=\"pull\", time=44160),\n",
       "  Lyric(text=\"my\", time=44640),\n",
       "  Lyric(text=\"hair,\", time=45120),\n",
       "  Lyric(text=\"well,\", time=45600),\n",
       "  Lyric(text=\"it_s\", time=46080),\n",
       "  Lyric(text=\"o\", time=46560),\n",
       "  Lyric(text=\"nly\", time=47040),\n",
       "  Lyric(text=\"out\", time=48240),\n",
       "  Lyric(text=\"of\", time=49200),\n",
       "  Lyric(text=\"fear\", time=50160),\n",
       "  Lyric(text=\"That\", time=53760),\n",
       "  Lyric(text=\"you_ll\", time=54240),\n",
       "  Lyric(text=\"find\", time=54720),\n",
       "  Lyric(text=\"me\", time=55200),\n",
       "  Lyric(text=\"ug\", time=56160),\n",
       "  Lyric(text=\"ly\", time=56640),\n",
       "  Lyric(text=\"and\", time=57120),\n",
       "  Lyric(text=\"one\", time=57600),\n",
       "  Lyric(text=\"day\", time=58080),\n",
       "  Lyric(text=\"you_ll\", time=58560),\n",
       "  Lyric(text=\"di\", time=60000),\n",
       "  Lyric(text=\"sap\", time=60480),\n",
       "  Lyric(text=\"pear,\", time=60960),\n",
       "  Lyric(text=\"be\", time=61920),\n",
       "  Lyric(text=\"cause\", time=62400),\n",
       "  Lyric(text=\"What_s\", time=65280),\n",
       "  Lyric(text=\"the\", time=66240),\n",
       "  Lyric(text=\"point\", time=66720),\n",
       "  Lyric(text=\"of\", time=67200),\n",
       "  Lyric(text=\"cry\", time=67680),\n",
       "  Lyric(text=\"ing?\", time=69120),\n",
       "  Lyric(text=\"It\", time=72960),\n",
       "  Lyric(text=\"was\", time=73680),\n",
       "  Lyric(text=\"ne\", time=74160),\n",
       "  Lyric(text=\"ver\", time=74640),\n",
       "  Lyric(text=\"e\", time=75120),\n",
       "  Lyric(text=\"ven\", time=75600),\n",
       "  Lyric(text=\"love\", time=76800),\n",
       "  Lyric(text=\"Did\", time=80640),\n",
       "  Lyric(text=\"you\", time=81600),\n",
       "  Lyric(text=\"e\", time=82080),\n",
       "  Lyric(text=\"ver\", time=82560),\n",
       "  Lyric(text=\"want\", time=83520),\n",
       "  Lyric(text=\"me?\", time=84480),\n",
       "  Lyric(text=\"Was\", time=88320),\n",
       "  Lyric(text=\"I\", time=88800),\n",
       "  Lyric(text=\"e\", time=89280),\n",
       "  Lyric(text=\"ver\", time=89760),\n",
       "  Lyric(text=\"good\", time=90240),\n",
       "  Lyric(text=\"e\", time=90960),\n",
       "  Lyric(text=\"nough?\", time=92160),\n",
       "  Lyric(text=\"Th─\", time=96000),\n",
       "  Lyric(text=\"thе\", time=96480),\n",
       "  Lyric(text=\"boy_s\", time=96960),\n",
       "  Lyric(text=\"a\", time=97440),\n",
       "  Lyric(text=\"li\", time=97920),\n",
       "  Lyric(text=\"ar\", time=98880),\n",
       "  Lyric(text=\"The\", time=103680),\n",
       "  Lyric(text=\"boy_s\", time=104640),\n",
       "  Lyric(text=\"a\", time=105120),\n",
       "  Lyric(text=\"pla\", time=106080),\n",
       "  Lyric(text=\"yer\", time=107520),\n",
       "  Lyric(text=\"He\", time=111360),\n",
       "  Lyric(text=\"doe\", time=112320),\n",
       "  Lyric(text=\"sn_t\", time=112800),\n",
       "  Lyric(text=\"see\", time=113760),\n",
       "  Lyric(text=\"ya\", time=115200),\n",
       "  Lyric(text=\"You_re\", time=119040),\n",
       "  Lyric(text=\"not\", time=119520),\n",
       "  Lyric(text=\"loo\", time=120000),\n",
       "  Lyric(text=\"king\", time=120480),\n",
       "  Lyric(text=\"at\", time=121200),\n",
       "  Lyric(text=\"me,\", time=121680),\n",
       "  Lyric(text=\"boy\", time=122880),\n",
       "  Lyric(text=\"The\", time=126720),\n",
       "  Lyric(text=\"boy_s\", time=127440),\n",
       "  Lyric(text=\"a\", time=127920),\n",
       "  Lyric(text=\"li\", time=128880),\n",
       "  Lyric(text=\"ar\", time=130560),\n",
       "  Lyric(text=\"The\", time=134400),\n",
       "  Lyric(text=\"boy_s\", time=135360),\n",
       "  Lyric(text=\"a\", time=135840),\n",
       "  Lyric(text=\"pla\", time=136800),\n",
       "  Lyric(text=\"yer\", time=138240),\n",
       "  Lyric(text=\"He\", time=142080),\n",
       "  Lyric(text=\"doe\", time=143040),\n",
       "  Lyric(text=\"sn_t\", time=143520),\n",
       "  Lyric(text=\"see\", time=144480),\n",
       "  Lyric(text=\"ya\", time=145920),\n",
       "  Lyric(text=\"You_re\", time=149760),\n",
       "  Lyric(text=\"not\", time=150240),\n",
       "  Lyric(text=\"loo\", time=150720),\n",
       "  Lyric(text=\"king\", time=151200),\n",
       "  Lyric(text=\"at\", time=151920),\n",
       "  Lyric(text=\"me,\", time=152400),\n",
       "  Lyric(text=\"boy\", time=153600),\n",
       "  Lyric(text=\"Good\", time=157440),\n",
       "  Lyric(text=\"e\", time=158160),\n",
       "  Lyric(text=\"nough,\", time=158640),\n",
       "  Lyric(text=\"oh,\", time=159600),\n",
       "  Lyric(text=\"-ough\", time=161280),\n",
       "  Lyric(text=\"Good\", time=165120),\n",
       "  Lyric(text=\"e\", time=165840),\n",
       "  Lyric(text=\"nough,\", time=166320),\n",
       "  Lyric(text=\"oh,\", time=167280),\n",
       "  Lyric(text=\"-ough\", time=168960),\n",
       "  Lyric(text=\"Good\", time=172800),\n",
       "  Lyric(text=\"e\", time=173520),\n",
       "  Lyric(text=\"nough,\", time=174000),\n",
       "  Lyric(text=\"oh,\", time=174960),\n",
       "  Lyric(text=\"-ough\", time=176640),\n",
       "  Lyric(text=\"Good\", time=180480),\n",
       "  Lyric(text=\"e\", time=181200),\n",
       "  Lyric(text=\"nough,\", time=181680),\n",
       "  Lyric(text=\"oh,\", time=182640),\n",
       "  Lyric(text=\"-ough\", time=184320),\n",
       "  Lyric(text=\"Good\", time=188160),\n",
       "  Lyric(text=\"e\", time=188880),\n",
       "  Lyric(text=\"nough,\", time=189360),\n",
       "  Lyric(text=\"oh,\", time=190320),\n",
       "  Lyric(text=\"-ough\", time=192000),\n",
       "  Lyric(text=\"Good\", time=195840),\n",
       "  Lyric(text=\"e\", time=196560),\n",
       "  Lyric(text=\"nough,\", time=197040),\n",
       "  Lyric(text=\"oh,\", time=198000),\n",
       "  Lyric(text=\"-ough\", time=199680),\n",
       "  Lyric(text=\"Good\", time=203520),\n",
       "  Lyric(text=\"e\", time=204240),\n",
       "  Lyric(text=\"nough,\", time=204720),\n",
       "  Lyric(text=\"oh,\", time=205680),\n",
       "  Lyric(text=\"-ough\", time=207360),\n",
       "  Lyric(text=\"Good\", time=211200),\n",
       "  Lyric(text=\"e\", time=211920),\n",
       "  Lyric(text=\"nough,\", time=212400),\n",
       "  Lyric(text=\"oh,\", time=213360),\n",
       "  Lyric(text=\"-ough\", time=215040),\n",
       "  Lyric(text=\"Ba\", time=218880),\n",
       "  Lyric(text=\"by,\", time=219360),\n",
       "  Lyric(text=\"please\", time=222720),\n",
       "  Lyric(text=\"I\", time=226560),\n",
       "  Lyric(text=\"just\", time=227040),\n",
       "  Lyric(text=\"want\", time=227520),\n",
       "  Lyric(text=\"to\", time=228000),\n",
       "  Lyric(text=\"look\", time=228480),\n",
       "  Lyric(text=\"nice\", time=228960),\n",
       "  Lyric(text=\"for\", time=229440),\n",
       "  Lyric(text=\"you\", time=230400),\n",
       "  Lyric(text=\"Come\", time=234240),\n",
       "  Lyric(text=\"stay\", time=234720),\n",
       "  Lyric(text=\"with\", time=235200),\n",
       "  Lyric(text=\"me\", time=238080),\n",
       "  Lyric(text=\"Oh,\", time=241920),\n",
       "  Lyric(text=\"you_re\", time=242640),\n",
       "  Lyric(text=\"not\", time=243360),\n",
       "  Lyric(text=\"a\", time=243840),\n",
       "  Lyric(text=\"round\", time=244560),\n",
       "  Lyric(text=\"so\", time=245280),\n",
       "  Lyric(text=\"what\", time=245760),\n",
       "  Lyric(text=\"should\", time=247200),\n",
       "  Lyric(text=\"I\", time=247680),\n",
       "  Lyric(text=\"do?\", time=248160),\n",
       "  Lyric(text=\"I\", time=249600),\n",
       "  Lyric(text=\"thought\", time=250560),\n",
       "  Lyric(text=\"you\", time=251040),\n",
       "  Lyric(text=\"liked\", time=252000),\n",
       "  Lyric(text=\"the\", time=252480),\n",
       "  Lyric(text=\"look\", time=253440),\n",
       "  Lyric(text=\"of\", time=254160),\n",
       "  Lyric(text=\"a\", time=254640),\n",
       "  Lyric(text=\"girl\", time=255360),\n",
       "  Lyric(text=\"just\", time=255840),\n",
       "  Lyric(text=\"like\", time=256320),\n",
       "  Lyric(text=\"me\", time=257280),\n",
       "  Lyric(text=\"Ba\", time=261120),\n",
       "  Lyric(text=\"by,\", time=261600),\n",
       "  Lyric(text=\"please\", time=264960),\n",
       "  Lyric(text=\"I\", time=268800),\n",
       "  Lyric(text=\"know\", time=269280),\n",
       "  Lyric(text=\"you\", time=269760),\n",
       "  Lyric(text=\"want\", time=270240),\n",
       "  Lyric(text=\"to\", time=270960),\n",
       "  Lyric(text=\"change\", time=271440),\n",
       "  Lyric(text=\"me\", time=272640),\n",
       "  Lyric(text=\"Can\", time=276480),\n",
       "  Lyric(text=\"you\", time=277200),\n",
       "  Lyric(text=\"take\", time=277920),\n",
       "  Lyric(text=\"a\", time=278400),\n",
       "  Lyric(text=\"look\", time=279120),\n",
       "  Lyric(text=\"in\", time=279840),\n",
       "  Lyric(text=\"side\", time=281280),\n",
       "  Lyric(text=\"your\", time=282000),\n",
       "  Lyric(text=\"heart,\", time=282480),\n",
       "  Lyric(text=\"is\", time=283200),\n",
       "  Lyric(text=\"there\", time=283680),\n",
       "  Lyric(text=\"any\", time=284160),\n",
       "  Lyric(text=\"room\", time=284640),\n",
       "  Lyric(text=\"for\", time=285600),\n",
       "  Lyric(text=\"me?\", time=286560),\n",
       "  Lyric(text=\"I\", time=291840),\n",
       "  Lyric(text=\"won_t\", time=292320),\n",
       "  Lyric(text=\"ever\", time=292800),\n",
       "  Lyric(text=\"have\", time=293280),\n",
       "  Lyric(text=\"to\", time=293760),\n",
       "  Lyric(text=\"hold\", time=294240),\n",
       "  Lyric(text=\"my\", time=294720),\n",
       "  Lyric(text=\"breath\", time=295200),\n",
       "  Lyric(text=\"till\", time=295680),\n",
       "  Lyric(text=\"you\", time=296160),\n",
       "  Lyric(text=\"get\", time=296640),\n",
       "  Lyric(text=\"down\", time=297120),\n",
       "  Lyric(text=\"on\", time=297600),\n",
       "  Lyric(text=\"one\", time=299520),\n",
       "  Lyric(text=\"knee\", time=300000),\n",
       "  Lyric(text=\"be\", time=300960),\n",
       "  Lyric(text=\"cause\", time=301440),\n",
       "  Lyric(text=\"What_s\", time=303360),\n",
       "  Lyric(text=\"the\", time=304320),\n",
       "  Lyric(text=\"point\", time=304800),\n",
       "  Lyric(text=\"of\", time=305280),\n",
       "  Lyric(text=\"cry\", time=305760),\n",
       "  Lyric(text=\"ing?\", time=307200),\n",
       "  Lyric(text=\"It\", time=311040),\n",
       "  Lyric(text=\"was\", time=311760),\n",
       "  Lyric(text=\"ne\", time=312240),\n",
       "  Lyric(text=\"ver\", time=312720),\n",
       "  Lyric(text=\"e\", time=313200),\n",
       "  Lyric(text=\"ven\", time=313680),\n",
       "  Lyric(text=\"love\", time=314880),\n",
       "  Lyric(text=\"Did\", time=318720),\n",
       "  Lyric(text=\"you\", time=319680),\n",
       "  Lyric(text=\"e\", time=320160),\n",
       "  Lyric(text=\"ver\", time=320640),\n",
       "  Lyric(text=\"want\", time=321600),\n",
       "  Lyric(text=\"me?\", time=322560),\n",
       "  Lyric(text=\"Was\", time=326400),\n",
       "  Lyric(text=\"I\", time=327360),\n",
       "  Lyric(text=\"e\", time=327840),\n",
       "  Lyric(text=\"ver\", time=328320),\n",
       "  Lyric(text=\"good\", time=329280),\n",
       "  Lyric(text=\"enough?\", time=330240),\n",
       "  Lyric(text=\"Th─\", time=334080),\n",
       "  Lyric(text=\"the\", time=334560),\n",
       "  Lyric(text=\"boy_s\", time=335040),\n",
       "  Lyric(text=\"a\", time=335520),\n",
       "  Lyric(text=\"li\", time=336000),\n",
       "  Lyric(text=\"ar\", time=336960),\n",
       "  Lyric(text=\"The\", time=341760),\n",
       "  Lyric(text=\"boy_s\", time=342720),\n",
       "  Lyric(text=\"a\", time=343200),\n",
       "  Lyric(text=\"pla\", time=344160),\n",
       "  Lyric(text=\"yer\", time=345600),\n",
       "  Lyric(text=\"He\", time=349440),\n",
       "  Lyric(text=\"doe\", time=350400),\n",
       "  Lyric(text=\"sn_t\", time=350880),\n",
       "  Lyric(text=\"see\", time=351840),\n",
       "  Lyric(text=\"ya\", time=353280),\n",
       "  Lyric(text=\"You_re\", time=357120),\n",
       "  Lyric(text=\"not\", time=357600),\n",
       "  Lyric(text=\"loo\", time=358080),\n",
       "  Lyric(text=\"king\", time=358560),\n",
       "  Lyric(text=\"at\", time=359280),\n",
       "  Lyric(text=\"me,\", time=359760),\n",
       "  Lyric(text=\"boy\", time=360960),\n",
       "  Lyric(text=\"The\", time=364800),\n",
       "  Lyric(text=\"boy_s\", time=365520),\n",
       "  Lyric(text=\"a\", time=366000),\n",
       "  Lyric(text=\"li\", time=366960),\n",
       "  Lyric(text=\"ar\", time=368640),\n",
       "  Lyric(text=\"The\", time=372480),\n",
       "  Lyric(text=\"boy_s\", time=373440),\n",
       "  Lyric(text=\"a\", time=373920),\n",
       "  Lyric(text=\"pla\", time=374880),\n",
       "  Lyric(text=\"yer\", time=376320),\n",
       "  Lyric(text=\"He\", time=380160),\n",
       "  Lyric(text=\"doe\", time=381120),\n",
       "  Lyric(text=\"sn_t\", time=381600),\n",
       "  Lyric(text=\"see\", time=382560),\n",
       "  Lyric(text=\"ya\", time=384000),\n",
       "  Lyric(text=\"You_re\", time=387840),\n",
       "  Lyric(text=\"not\", time=388320),\n",
       "  Lyric(text=\"loo\", time=388800),\n",
       "  Lyric(text=\"king\", time=389280),\n",
       "  Lyric(text=\"at\", time=390000),\n",
       "  Lyric(text=\"me,\", time=390480),\n",
       "  Lyric(text=\"boy\", time=391680),\n",
       "  Lyric(text=\"Good\", time=395520),\n",
       "  Lyric(text=\"e\", time=396240),\n",
       "  Lyric(text=\"nough,\", time=396720),\n",
       "  Lyric(text=\"oh,\", time=397680),\n",
       "  Lyric(text=\"-ough\", time=399360),\n",
       "  Lyric(text=\"Good\", time=403200),\n",
       "  Lyric(text=\"e\", time=403920),\n",
       "  Lyric(text=\"nough,\", time=404400),\n",
       "  Lyric(text=\"oh,\", time=405360),\n",
       "  Lyric(text=\"-ough\", time=407040),\n",
       "  Lyric(text=\"Good\", time=410880),\n",
       "  Lyric(text=\"e\", time=411600),\n",
       "  Lyric(text=\"nough,\", time=412080),\n",
       "  Lyric(text=\"oh,\", time=413040),\n",
       "  Lyric(text=\"-ough\", time=414720),\n",
       "  Lyric(text=\"Good\", time=418560),\n",
       "  Lyric(text=\"e\", time=419280),\n",
       "  Lyric(text=\"nough,\", time=419760),\n",
       "  Lyric(text=\"oh,\", time=420720),\n",
       "  Lyric(text=\"-ough\", time=422400),\n",
       "  Lyric(text=\"Good\", time=426240),\n",
       "  Lyric(text=\"e\", time=426960),\n",
       "  Lyric(text=\"nough,\", time=427440),\n",
       "  Lyric(text=\"oh,\", time=428400),\n",
       "  Lyric(text=\"-ough\", time=430080),\n",
       "  Lyric(text=\"Good\", time=433920),\n",
       "  Lyric(text=\"e\", time=434640),\n",
       "  Lyric(text=\"nough,\", time=435120),\n",
       "  Lyric(text=\"oh,\", time=436080),\n",
       "  Lyric(text=\"-ough\", time=437760),\n",
       "  Lyric(text=\"Good\", time=441600),\n",
       "  Lyric(text=\"e\", time=442320),\n",
       "  Lyric(text=\"nough,\", time=442800),\n",
       "  Lyric(text=\"oh,\", time=443760),\n",
       "  Lyric(text=\"-ough\", time=445440),\n",
       "  Lyric(text=\"Good\", time=449280),\n",
       "  Lyric(text=\"e\", time=449760),\n",
       "  Lyric(text=\"nough,\", time=450240),\n",
       "  Lyric(text=\"oh,\", time=451200),\n",
       "  Lyric(text=\"-ough\", time=451680)],\n",
       " 'max_tick': 454081,\n",
       " 'instruments': [Instrument(program=0, is_drum=False, name=\"melody\"),\n",
       "  Instrument(program=0, is_drum=False, name=\"chord\")]}"
      ]
     },
     "execution_count": 32,
     "metadata": {},
     "output_type": "execute_result"
    }
   ],
   "source": [
    "midi_obj.__dict__"
   ]
  },
  {
   "cell_type": "markdown",
   "metadata": {},
   "source": [
    "# Reading MIDI files"
   ]
  },
  {
   "cell_type": "code",
   "execution_count": 2,
   "metadata": {},
   "outputs": [
    {
     "name": "stderr",
     "output_type": "stream",
     "text": [
      "/home/marykorol/bin/lilypond: 4: exec: /home/marykorol/lilypond/usr/bin/lilypond: Permission denied\n"
     ]
    },
    {
     "ename": "IndexError",
     "evalue": "list index out of range",
     "output_type": "error",
     "traceback": [
      "\u001b[0;31m---------------------------------------------------------------------------\u001b[0m",
      "\u001b[0;31mIndexError\u001b[0m                                Traceback (most recent call last)",
      "Cell \u001b[0;32mIn[2], line 3\u001b[0m\n\u001b[1;32m      1\u001b[0m \u001b[39mimport\u001b[39;00m \u001b[39mabjad\u001b[39;00m\n\u001b[1;32m      2\u001b[0m note \u001b[39m=\u001b[39m abjad\u001b[39m.\u001b[39mNote(\u001b[39m\"\u001b[39m\u001b[39mc\u001b[39m\u001b[39m'\u001b[39m\u001b[39m4\u001b[39m\u001b[39m\"\u001b[39m)\n\u001b[0;32m----> 3\u001b[0m abjad\u001b[39m.\u001b[39;49mshow(note)\n",
      "File \u001b[0;32m~/roc-model/.venv/lib/python3.10/site-packages/abjad/io.py:671\u001b[0m, in \u001b[0;36mshow\u001b[0;34m(illustrable, return_timing, **keywords)\u001b[0m\n\u001b[1;32m    624\u001b[0m \u001b[39mr\u001b[39m\u001b[39m\"\"\"\u001b[39;00m\n\u001b[1;32m    625\u001b[0m \u001b[39mShows ``argument``.\u001b[39;00m\n\u001b[1;32m    626\u001b[0m \n\u001b[0;32m   (...)\u001b[0m\n\u001b[1;32m    668\u001b[0m \u001b[39mwhen ``return_timing`` is true.\u001b[39;00m\n\u001b[1;32m    669\u001b[0m \u001b[39m\"\"\"\u001b[39;00m\n\u001b[1;32m    670\u001b[0m illustrator \u001b[39m=\u001b[39m Illustrator(illustrable, \u001b[39m*\u001b[39m\u001b[39m*\u001b[39mkeywords)\n\u001b[0;32m--> 671\u001b[0m result \u001b[39m=\u001b[39m illustrator()\n\u001b[1;32m    672\u001b[0m \u001b[39mif\u001b[39;00m \u001b[39mnot\u001b[39;00m result:\n\u001b[1;32m    673\u001b[0m     \u001b[39mreturn\u001b[39;00m\n",
      "File \u001b[0;32m~/roc-model/.venv/lib/python3.10/site-packages/abjad/io.py:75\u001b[0m, in \u001b[0;36mLilyPondIO.__call__\u001b[0;34m(self)\u001b[0m\n\u001b[1;32m     73\u001b[0m \u001b[39mdef\u001b[39;00m \u001b[39m__call__\u001b[39m(\u001b[39mself\u001b[39m):\n\u001b[1;32m     74\u001b[0m     \u001b[39mwith\u001b[39;00m _contextmanagers\u001b[39m.\u001b[39mTimer() \u001b[39mas\u001b[39;00m format_timer:\n\u001b[0;32m---> 75\u001b[0m         string \u001b[39m=\u001b[39m \u001b[39mself\u001b[39m\u001b[39m.\u001b[39mstring \u001b[39mor\u001b[39;00m \u001b[39mself\u001b[39;49m\u001b[39m.\u001b[39;49mget_string()\n\u001b[1;32m     76\u001b[0m     format_time \u001b[39m=\u001b[39m format_timer\u001b[39m.\u001b[39melapsed_time\n\u001b[1;32m     77\u001b[0m     render_prefix \u001b[39m=\u001b[39m \u001b[39mself\u001b[39m\u001b[39m.\u001b[39mrender_prefix \u001b[39mor\u001b[39;00m \u001b[39mself\u001b[39m\u001b[39m.\u001b[39mget_render_prefix(string)\n",
      "File \u001b[0;32m~/roc-model/.venv/lib/python3.10/site-packages/abjad/io.py:152\u001b[0m, in \u001b[0;36mLilyPondIO.get_string\u001b[0;34m(self)\u001b[0m\n\u001b[1;32m    150\u001b[0m \u001b[39melse\u001b[39;00m:\n\u001b[1;32m    151\u001b[0m     lilypond_file \u001b[39m=\u001b[39m _illustrators\u001b[39m.\u001b[39millustrate(\u001b[39mself\u001b[39m\u001b[39m.\u001b[39millustrable, \u001b[39m*\u001b[39m\u001b[39m*\u001b[39m\u001b[39mself\u001b[39m\u001b[39m.\u001b[39mkeywords)\n\u001b[0;32m--> 152\u001b[0m \u001b[39mreturn\u001b[39;00m lilypond_file\u001b[39m.\u001b[39;49m_get_lilypond_format()\n",
      "File \u001b[0;32m~/roc-model/.venv/lib/python3.10/site-packages/abjad/lilypondfile.py:474\u001b[0m, in \u001b[0;36mLilyPondFile._get_lilypond_format\u001b[0;34m(self)\u001b[0m\n\u001b[1;32m    472\u001b[0m strings \u001b[39m=\u001b[39m []\n\u001b[1;32m    473\u001b[0m \u001b[39mif\u001b[39;00m \u001b[39mself\u001b[39m\u001b[39m.\u001b[39mlilypond_version_token \u001b[39mis\u001b[39;00m \u001b[39mTrue\u001b[39;00m:\n\u001b[0;32m--> 474\u001b[0m     string \u001b[39m=\u001b[39m configuration\u001b[39m.\u001b[39;49mget_lilypond_version_string()\n\u001b[1;32m    475\u001b[0m     string \u001b[39m=\u001b[39m \u001b[39mrf\u001b[39m\u001b[39m'\u001b[39m\u001b[39m\\\u001b[39m\u001b[39mversion \u001b[39m\u001b[39m\"\u001b[39m\u001b[39m{\u001b[39;00mstring\u001b[39m}\u001b[39;00m\u001b[39m\"\u001b[39m\u001b[39m'\u001b[39m\n\u001b[1;32m    476\u001b[0m     strings\u001b[39m.\u001b[39mappend(string)\n",
      "File \u001b[0;32m~/roc-model/.venv/lib/python3.10/site-packages/abjad/configuration.py:382\u001b[0m, in \u001b[0;36mConfiguration.get_lilypond_version_string\u001b[0;34m(self)\u001b[0m\n\u001b[1;32m    380\u001b[0m proc \u001b[39m=\u001b[39m subprocess\u001b[39m.\u001b[39mrun(command, stdout\u001b[39m=\u001b[39msubprocess\u001b[39m.\u001b[39mPIPE)\n\u001b[1;32m    381\u001b[0m \u001b[39massert\u001b[39;00m proc\u001b[39m.\u001b[39mstdout \u001b[39mis\u001b[39;00m \u001b[39mnot\u001b[39;00m \u001b[39mNone\u001b[39;00m\n\u001b[0;32m--> 382\u001b[0m lilypond_version_string \u001b[39m=\u001b[39m proc\u001b[39m.\u001b[39;49mstdout\u001b[39m.\u001b[39;49mdecode()\u001b[39m.\u001b[39;49msplit()[\u001b[39m2\u001b[39;49m]\n\u001b[1;32m    383\u001b[0m Configuration\u001b[39m.\u001b[39m_lilypond_version_string \u001b[39m=\u001b[39m lilypond_version_string\n\u001b[1;32m    384\u001b[0m \u001b[39mreturn\u001b[39;00m lilypond_version_string\n",
      "\u001b[0;31mIndexError\u001b[0m: list index out of range"
     ]
    }
   ],
   "source": [
    "import abjad\n",
    "note = abjad.Note(\"c'4\")\n",
    "abjad.show(note)"
   ]
  },
  {
   "cell_type": "code",
   "execution_count": 3,
   "metadata": {},
   "outputs": [
    {
     "name": "stdout",
     "output_type": "stream",
     "text": [
      "/home/marykorol/bin/lilypond: 4: exec: /home/marykorol/lilypond/usr/bin/lilypond: Permission denied\n",
      "\n"
     ]
    }
   ],
   "source": [
    "import abjad\n",
    "string = \"c'16 f' g' a' d' g' a' b' e' a' b' c'' f' b' c'' d''16\"\n",
    "voice_1 = abjad.Voice(string, name=\"Voice_1\")\n",
    "staff_1 = abjad.Staff([voice_1], name=\"Staff_1\")\n",
    "abjad.show(staff_1)"
   ]
  },
  {
   "cell_type": "code",
   "execution_count": 4,
   "metadata": {},
   "outputs": [
    {
     "name": "stdout",
     "output_type": "stream",
     "text": [
      "/home/marykorol/bin/lilypond: 4: exec: /home/marykorol/lilypond/usr/bin/lilypond: Permission denied\n",
      "\n"
     ]
    }
   ],
   "source": [
    "string = \"d'8 f' a' d'' f'' gs'4 r8 e' gs' b' e'' gs'' a'4\"\n",
    "voice = abjad.Voice(string, name=\"RH_Voice\")\n",
    "staff = abjad.Staff([voice], name=\"RH_Staff\")\n",
    "score = abjad.Score([staff], name=\"Score\")\n",
    "abjad.show(score)"
   ]
  }
 ],
 "metadata": {
  "kernelspec": {
   "display_name": "Python 3.10.6 ('.venv': poetry)",
   "language": "python",
   "name": "python3"
  },
  "language_info": {
   "codemirror_mode": {
    "name": "ipython",
    "version": 3
   },
   "file_extension": ".py",
   "mimetype": "text/x-python",
   "name": "python",
   "nbconvert_exporter": "python",
   "pygments_lexer": "ipython3",
   "version": "3.10.6"
  },
  "orig_nbformat": 4,
  "vscode": {
   "interpreter": {
    "hash": "ebfb0edd792d8a2b76baf563d06e6c9be266385db7efe104efce0e9ad862d8d5"
   }
  }
 },
 "nbformat": 4,
 "nbformat_minor": 2
}
